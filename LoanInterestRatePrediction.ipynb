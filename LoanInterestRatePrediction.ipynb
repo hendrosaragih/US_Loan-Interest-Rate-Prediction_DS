{
 "cells": [
  {
   "cell_type": "markdown",
   "metadata": {},
   "source": [
    "# LOAN INTEREST RATE PREDICTION"
   ]
  },
  {
   "cell_type": "markdown",
   "metadata": {},
   "source": [
    "Step 1 : Data Exploration\n",
    "\n",
    "Step 2 : Data Preprocessing\n",
    "\n",
    "Step 3 : Data Modeling"
   ]
  },
  {
   "cell_type": "code",
   "execution_count": 1,
   "metadata": {},
   "outputs": [],
   "source": [
    "import pandas as pd\n",
    "import numpy as np\n",
    "import seaborn as sn\n",
    "import matplotlib.pyplot as plt\n",
    "\n",
    "from sklearn import preprocessing\n",
    "from sklearn.model_selection import train_test_split\n",
    "from sklearn.linear_model import LinearRegression, RidgeCV\n",
    "from sklearn.ensemble import RandomForestClassifier\n",
    "from sklearn.metrics import accuracy_score, classification_report, confusion_matrix\n",
    "from sklearn.metrics import mean_squared_error\n",
    "\n",
    "import warnings\n",
    "warnings.filterwarnings('ignore')"
   ]
  },
  {
   "cell_type": "markdown",
   "metadata": {},
   "source": [
    "## Step 1 : Data Exploration"
   ]
  },
  {
   "cell_type": "code",
   "execution_count": 2,
   "metadata": {},
   "outputs": [],
   "source": [
    "# import training data\n",
    "train = pd.read_csv(\"Train.csv\", low_memory=False)"
   ]
  },
  {
   "cell_type": "code",
   "execution_count": 3,
   "metadata": {},
   "outputs": [
    {
     "data": {
      "text/html": [
       "<div>\n",
       "<style scoped>\n",
       "    .dataframe tbody tr th:only-of-type {\n",
       "        vertical-align: middle;\n",
       "    }\n",
       "\n",
       "    .dataframe tbody tr th {\n",
       "        vertical-align: top;\n",
       "    }\n",
       "\n",
       "    .dataframe thead th {\n",
       "        text-align: right;\n",
       "    }\n",
       "</style>\n",
       "<table border=\"1\" class=\"dataframe\">\n",
       "  <thead>\n",
       "    <tr style=\"text-align: right;\">\n",
       "      <th></th>\n",
       "      <th>Loan_ID</th>\n",
       "      <th>Loan_Amount_Requested</th>\n",
       "      <th>Length_Employed</th>\n",
       "      <th>Home_Owner</th>\n",
       "      <th>Annual_Income</th>\n",
       "      <th>Income_Verified</th>\n",
       "      <th>Purpose_Of_Loan</th>\n",
       "      <th>Debt_To_Income</th>\n",
       "      <th>Inquiries_Last_6Mo</th>\n",
       "      <th>Months_Since_Deliquency</th>\n",
       "      <th>Number_Open_Accounts</th>\n",
       "      <th>Total_Accounts</th>\n",
       "      <th>Gender</th>\n",
       "      <th>Interest_Rate</th>\n",
       "    </tr>\n",
       "  </thead>\n",
       "  <tbody>\n",
       "    <tr>\n",
       "      <th>0</th>\n",
       "      <td>10000001</td>\n",
       "      <td>7,000</td>\n",
       "      <td>&lt; 1 year</td>\n",
       "      <td>Rent</td>\n",
       "      <td>68000.0</td>\n",
       "      <td>not verified</td>\n",
       "      <td>car</td>\n",
       "      <td>18.37</td>\n",
       "      <td>0</td>\n",
       "      <td>NaN</td>\n",
       "      <td>9</td>\n",
       "      <td>14</td>\n",
       "      <td>Female</td>\n",
       "      <td>1</td>\n",
       "    </tr>\n",
       "    <tr>\n",
       "      <th>1</th>\n",
       "      <td>10000002</td>\n",
       "      <td>30,000</td>\n",
       "      <td>4 years</td>\n",
       "      <td>Mortgage</td>\n",
       "      <td>NaN</td>\n",
       "      <td>VERIFIED - income</td>\n",
       "      <td>debt_consolidation</td>\n",
       "      <td>14.93</td>\n",
       "      <td>0</td>\n",
       "      <td>17.0</td>\n",
       "      <td>12</td>\n",
       "      <td>24</td>\n",
       "      <td>Female</td>\n",
       "      <td>3</td>\n",
       "    </tr>\n",
       "    <tr>\n",
       "      <th>2</th>\n",
       "      <td>10000003</td>\n",
       "      <td>24,725</td>\n",
       "      <td>7 years</td>\n",
       "      <td>Mortgage</td>\n",
       "      <td>75566.4</td>\n",
       "      <td>VERIFIED - income source</td>\n",
       "      <td>debt_consolidation</td>\n",
       "      <td>15.88</td>\n",
       "      <td>0</td>\n",
       "      <td>NaN</td>\n",
       "      <td>12</td>\n",
       "      <td>16</td>\n",
       "      <td>Male</td>\n",
       "      <td>3</td>\n",
       "    </tr>\n",
       "    <tr>\n",
       "      <th>3</th>\n",
       "      <td>10000004</td>\n",
       "      <td>16,000</td>\n",
       "      <td>&lt; 1 year</td>\n",
       "      <td>NaN</td>\n",
       "      <td>56160.0</td>\n",
       "      <td>VERIFIED - income source</td>\n",
       "      <td>debt_consolidation</td>\n",
       "      <td>14.34</td>\n",
       "      <td>3</td>\n",
       "      <td>NaN</td>\n",
       "      <td>16</td>\n",
       "      <td>22</td>\n",
       "      <td>Male</td>\n",
       "      <td>3</td>\n",
       "    </tr>\n",
       "    <tr>\n",
       "      <th>4</th>\n",
       "      <td>10000005</td>\n",
       "      <td>17,000</td>\n",
       "      <td>8 years</td>\n",
       "      <td>Own</td>\n",
       "      <td>96000.0</td>\n",
       "      <td>VERIFIED - income source</td>\n",
       "      <td>debt_consolidation</td>\n",
       "      <td>22.17</td>\n",
       "      <td>1</td>\n",
       "      <td>NaN</td>\n",
       "      <td>19</td>\n",
       "      <td>30</td>\n",
       "      <td>Female</td>\n",
       "      <td>1</td>\n",
       "    </tr>\n",
       "  </tbody>\n",
       "</table>\n",
       "</div>"
      ],
      "text/plain": [
       "    Loan_ID Loan_Amount_Requested Length_Employed Home_Owner  Annual_Income  \\\n",
       "0  10000001                 7,000        < 1 year       Rent        68000.0   \n",
       "1  10000002                30,000         4 years   Mortgage            NaN   \n",
       "2  10000003                24,725         7 years   Mortgage        75566.4   \n",
       "3  10000004                16,000        < 1 year        NaN        56160.0   \n",
       "4  10000005                17,000         8 years        Own        96000.0   \n",
       "\n",
       "            Income_Verified     Purpose_Of_Loan  Debt_To_Income  \\\n",
       "0              not verified                 car           18.37   \n",
       "1         VERIFIED - income  debt_consolidation           14.93   \n",
       "2  VERIFIED - income source  debt_consolidation           15.88   \n",
       "3  VERIFIED - income source  debt_consolidation           14.34   \n",
       "4  VERIFIED - income source  debt_consolidation           22.17   \n",
       "\n",
       "   Inquiries_Last_6Mo  Months_Since_Deliquency  Number_Open_Accounts  \\\n",
       "0                   0                      NaN                     9   \n",
       "1                   0                     17.0                    12   \n",
       "2                   0                      NaN                    12   \n",
       "3                   3                      NaN                    16   \n",
       "4                   1                      NaN                    19   \n",
       "\n",
       "   Total_Accounts  Gender  Interest_Rate  \n",
       "0              14  Female              1  \n",
       "1              24  Female              3  \n",
       "2              16    Male              3  \n",
       "3              22    Male              3  \n",
       "4              30  Female              1  "
      ]
     },
     "execution_count": 3,
     "metadata": {},
     "output_type": "execute_result"
    }
   ],
   "source": [
    "train.head()"
   ]
  },
  {
   "cell_type": "code",
   "execution_count": 4,
   "metadata": {},
   "outputs": [
    {
     "name": "stdout",
     "output_type": "stream",
     "text": [
      "<class 'pandas.core.frame.DataFrame'>\n",
      "RangeIndex: 164309 entries, 0 to 164308\n",
      "Data columns (total 14 columns):\n",
      " #   Column                   Non-Null Count   Dtype  \n",
      "---  ------                   --------------   -----  \n",
      " 0   Loan_ID                  164309 non-null  int64  \n",
      " 1   Loan_Amount_Requested    164309 non-null  object \n",
      " 2   Length_Employed          156938 non-null  object \n",
      " 3   Home_Owner               138960 non-null  object \n",
      " 4   Annual_Income            139207 non-null  float64\n",
      " 5   Income_Verified          164309 non-null  object \n",
      " 6   Purpose_Of_Loan          164309 non-null  object \n",
      " 7   Debt_To_Income           164309 non-null  float64\n",
      " 8   Inquiries_Last_6Mo       164309 non-null  int64  \n",
      " 9   Months_Since_Deliquency  75930 non-null   float64\n",
      " 10  Number_Open_Accounts     164309 non-null  int64  \n",
      " 11  Total_Accounts           164309 non-null  int64  \n",
      " 12  Gender                   164309 non-null  object \n",
      " 13  Interest_Rate            164309 non-null  int64  \n",
      "dtypes: float64(3), int64(5), object(6)\n",
      "memory usage: 17.6+ MB\n"
     ]
    }
   ],
   "source": [
    "train.info()"
   ]
  },
  {
   "cell_type": "code",
   "execution_count": 5,
   "metadata": {},
   "outputs": [
    {
     "data": {
      "text/html": [
       "<div>\n",
       "<style scoped>\n",
       "    .dataframe tbody tr th:only-of-type {\n",
       "        vertical-align: middle;\n",
       "    }\n",
       "\n",
       "    .dataframe tbody tr th {\n",
       "        vertical-align: top;\n",
       "    }\n",
       "\n",
       "    .dataframe thead th {\n",
       "        text-align: right;\n",
       "    }\n",
       "</style>\n",
       "<table border=\"1\" class=\"dataframe\">\n",
       "  <thead>\n",
       "    <tr style=\"text-align: right;\">\n",
       "      <th></th>\n",
       "      <th>Loan_ID</th>\n",
       "      <th>Annual_Income</th>\n",
       "      <th>Debt_To_Income</th>\n",
       "      <th>Inquiries_Last_6Mo</th>\n",
       "      <th>Months_Since_Deliquency</th>\n",
       "      <th>Number_Open_Accounts</th>\n",
       "      <th>Total_Accounts</th>\n",
       "      <th>Interest_Rate</th>\n",
       "    </tr>\n",
       "  </thead>\n",
       "  <tbody>\n",
       "    <tr>\n",
       "      <th>count</th>\n",
       "      <td>1.643090e+05</td>\n",
       "      <td>1.392070e+05</td>\n",
       "      <td>164309.000000</td>\n",
       "      <td>164309.000000</td>\n",
       "      <td>75930.000000</td>\n",
       "      <td>164309.000000</td>\n",
       "      <td>164309.000000</td>\n",
       "      <td>164309.000000</td>\n",
       "    </tr>\n",
       "    <tr>\n",
       "      <th>mean</th>\n",
       "      <td>1.008216e+07</td>\n",
       "      <td>7.333116e+04</td>\n",
       "      <td>17.207189</td>\n",
       "      <td>0.781698</td>\n",
       "      <td>34.229356</td>\n",
       "      <td>11.193818</td>\n",
       "      <td>25.067665</td>\n",
       "      <td>2.158951</td>\n",
       "    </tr>\n",
       "    <tr>\n",
       "      <th>std</th>\n",
       "      <td>4.743207e+04</td>\n",
       "      <td>6.037750e+04</td>\n",
       "      <td>7.845083</td>\n",
       "      <td>1.034747</td>\n",
       "      <td>21.761180</td>\n",
       "      <td>4.991813</td>\n",
       "      <td>11.583067</td>\n",
       "      <td>0.738364</td>\n",
       "    </tr>\n",
       "    <tr>\n",
       "      <th>min</th>\n",
       "      <td>1.000000e+07</td>\n",
       "      <td>4.000000e+03</td>\n",
       "      <td>0.000000</td>\n",
       "      <td>0.000000</td>\n",
       "      <td>0.000000</td>\n",
       "      <td>0.000000</td>\n",
       "      <td>2.000000</td>\n",
       "      <td>1.000000</td>\n",
       "    </tr>\n",
       "    <tr>\n",
       "      <th>25%</th>\n",
       "      <td>1.004108e+07</td>\n",
       "      <td>4.500000e+04</td>\n",
       "      <td>11.370000</td>\n",
       "      <td>0.000000</td>\n",
       "      <td>16.000000</td>\n",
       "      <td>8.000000</td>\n",
       "      <td>17.000000</td>\n",
       "      <td>2.000000</td>\n",
       "    </tr>\n",
       "    <tr>\n",
       "      <th>50%</th>\n",
       "      <td>1.008216e+07</td>\n",
       "      <td>6.300000e+04</td>\n",
       "      <td>16.840000</td>\n",
       "      <td>0.000000</td>\n",
       "      <td>31.000000</td>\n",
       "      <td>10.000000</td>\n",
       "      <td>23.000000</td>\n",
       "      <td>2.000000</td>\n",
       "    </tr>\n",
       "    <tr>\n",
       "      <th>75%</th>\n",
       "      <td>1.012323e+07</td>\n",
       "      <td>8.869750e+04</td>\n",
       "      <td>22.780000</td>\n",
       "      <td>1.000000</td>\n",
       "      <td>50.000000</td>\n",
       "      <td>14.000000</td>\n",
       "      <td>32.000000</td>\n",
       "      <td>3.000000</td>\n",
       "    </tr>\n",
       "    <tr>\n",
       "      <th>max</th>\n",
       "      <td>1.016431e+07</td>\n",
       "      <td>7.500000e+06</td>\n",
       "      <td>39.990000</td>\n",
       "      <td>8.000000</td>\n",
       "      <td>180.000000</td>\n",
       "      <td>76.000000</td>\n",
       "      <td>156.000000</td>\n",
       "      <td>3.000000</td>\n",
       "    </tr>\n",
       "  </tbody>\n",
       "</table>\n",
       "</div>"
      ],
      "text/plain": [
       "            Loan_ID  Annual_Income  Debt_To_Income  Inquiries_Last_6Mo  \\\n",
       "count  1.643090e+05   1.392070e+05   164309.000000       164309.000000   \n",
       "mean   1.008216e+07   7.333116e+04       17.207189            0.781698   \n",
       "std    4.743207e+04   6.037750e+04        7.845083            1.034747   \n",
       "min    1.000000e+07   4.000000e+03        0.000000            0.000000   \n",
       "25%    1.004108e+07   4.500000e+04       11.370000            0.000000   \n",
       "50%    1.008216e+07   6.300000e+04       16.840000            0.000000   \n",
       "75%    1.012323e+07   8.869750e+04       22.780000            1.000000   \n",
       "max    1.016431e+07   7.500000e+06       39.990000            8.000000   \n",
       "\n",
       "       Months_Since_Deliquency  Number_Open_Accounts  Total_Accounts  \\\n",
       "count             75930.000000         164309.000000   164309.000000   \n",
       "mean                 34.229356             11.193818       25.067665   \n",
       "std                  21.761180              4.991813       11.583067   \n",
       "min                   0.000000              0.000000        2.000000   \n",
       "25%                  16.000000              8.000000       17.000000   \n",
       "50%                  31.000000             10.000000       23.000000   \n",
       "75%                  50.000000             14.000000       32.000000   \n",
       "max                 180.000000             76.000000      156.000000   \n",
       "\n",
       "       Interest_Rate  \n",
       "count  164309.000000  \n",
       "mean        2.158951  \n",
       "std         0.738364  \n",
       "min         1.000000  \n",
       "25%         2.000000  \n",
       "50%         2.000000  \n",
       "75%         3.000000  \n",
       "max         3.000000  "
      ]
     },
     "execution_count": 5,
     "metadata": {},
     "output_type": "execute_result"
    }
   ],
   "source": [
    "train.describe()"
   ]
  },
  {
   "cell_type": "code",
   "execution_count": 6,
   "metadata": {},
   "outputs": [
    {
     "data": {
      "text/plain": [
       "(164309, 14)"
      ]
     },
     "execution_count": 6,
     "metadata": {},
     "output_type": "execute_result"
    }
   ],
   "source": [
    "train.shape"
   ]
  },
  {
   "cell_type": "code",
   "execution_count": 7,
   "metadata": {},
   "outputs": [
    {
     "data": {
      "text/html": [
       "<div>\n",
       "<style scoped>\n",
       "    .dataframe tbody tr th:only-of-type {\n",
       "        vertical-align: middle;\n",
       "    }\n",
       "\n",
       "    .dataframe tbody tr th {\n",
       "        vertical-align: top;\n",
       "    }\n",
       "\n",
       "    .dataframe thead th {\n",
       "        text-align: right;\n",
       "    }\n",
       "</style>\n",
       "<table border=\"1\" class=\"dataframe\">\n",
       "  <thead>\n",
       "    <tr style=\"text-align: right;\">\n",
       "      <th></th>\n",
       "      <th>Loan_ID</th>\n",
       "      <th>Annual_Income</th>\n",
       "      <th>Debt_To_Income</th>\n",
       "      <th>Inquiries_Last_6Mo</th>\n",
       "      <th>Months_Since_Deliquency</th>\n",
       "      <th>Number_Open_Accounts</th>\n",
       "      <th>Total_Accounts</th>\n",
       "      <th>Interest_Rate</th>\n",
       "    </tr>\n",
       "  </thead>\n",
       "  <tbody>\n",
       "    <tr>\n",
       "      <th>Loan_ID</th>\n",
       "      <td>1.000000</td>\n",
       "      <td>0.008326</td>\n",
       "      <td>-0.001320</td>\n",
       "      <td>0.002593</td>\n",
       "      <td>0.002111</td>\n",
       "      <td>0.004626</td>\n",
       "      <td>0.005331</td>\n",
       "      <td>0.001290</td>\n",
       "    </tr>\n",
       "    <tr>\n",
       "      <th>Annual_Income</th>\n",
       "      <td>0.008326</td>\n",
       "      <td>1.000000</td>\n",
       "      <td>-0.173589</td>\n",
       "      <td>0.060011</td>\n",
       "      <td>-0.057804</td>\n",
       "      <td>0.145822</td>\n",
       "      <td>0.203237</td>\n",
       "      <td>-0.052783</td>\n",
       "    </tr>\n",
       "    <tr>\n",
       "      <th>Debt_To_Income</th>\n",
       "      <td>-0.001320</td>\n",
       "      <td>-0.173589</td>\n",
       "      <td>1.000000</td>\n",
       "      <td>-0.005142</td>\n",
       "      <td>0.006394</td>\n",
       "      <td>0.302442</td>\n",
       "      <td>0.229871</td>\n",
       "      <td>0.152472</td>\n",
       "    </tr>\n",
       "    <tr>\n",
       "      <th>Inquiries_Last_6Mo</th>\n",
       "      <td>0.002593</td>\n",
       "      <td>0.060011</td>\n",
       "      <td>-0.005142</td>\n",
       "      <td>1.000000</td>\n",
       "      <td>0.011971</td>\n",
       "      <td>0.100930</td>\n",
       "      <td>0.131467</td>\n",
       "      <td>0.188987</td>\n",
       "    </tr>\n",
       "    <tr>\n",
       "      <th>Months_Since_Deliquency</th>\n",
       "      <td>0.002111</td>\n",
       "      <td>-0.057804</td>\n",
       "      <td>0.006394</td>\n",
       "      <td>0.011971</td>\n",
       "      <td>1.000000</td>\n",
       "      <td>-0.049683</td>\n",
       "      <td>-0.062261</td>\n",
       "      <td>-0.042108</td>\n",
       "    </tr>\n",
       "    <tr>\n",
       "      <th>Number_Open_Accounts</th>\n",
       "      <td>0.004626</td>\n",
       "      <td>0.145822</td>\n",
       "      <td>0.302442</td>\n",
       "      <td>0.100930</td>\n",
       "      <td>-0.049683</td>\n",
       "      <td>1.000000</td>\n",
       "      <td>0.682137</td>\n",
       "      <td>0.002847</td>\n",
       "    </tr>\n",
       "    <tr>\n",
       "      <th>Total_Accounts</th>\n",
       "      <td>0.005331</td>\n",
       "      <td>0.203237</td>\n",
       "      <td>0.229871</td>\n",
       "      <td>0.131467</td>\n",
       "      <td>-0.062261</td>\n",
       "      <td>0.682137</td>\n",
       "      <td>1.000000</td>\n",
       "      <td>-0.040690</td>\n",
       "    </tr>\n",
       "    <tr>\n",
       "      <th>Interest_Rate</th>\n",
       "      <td>0.001290</td>\n",
       "      <td>-0.052783</td>\n",
       "      <td>0.152472</td>\n",
       "      <td>0.188987</td>\n",
       "      <td>-0.042108</td>\n",
       "      <td>0.002847</td>\n",
       "      <td>-0.040690</td>\n",
       "      <td>1.000000</td>\n",
       "    </tr>\n",
       "  </tbody>\n",
       "</table>\n",
       "</div>"
      ],
      "text/plain": [
       "                          Loan_ID  Annual_Income  Debt_To_Income  \\\n",
       "Loan_ID                  1.000000       0.008326       -0.001320   \n",
       "Annual_Income            0.008326       1.000000       -0.173589   \n",
       "Debt_To_Income          -0.001320      -0.173589        1.000000   \n",
       "Inquiries_Last_6Mo       0.002593       0.060011       -0.005142   \n",
       "Months_Since_Deliquency  0.002111      -0.057804        0.006394   \n",
       "Number_Open_Accounts     0.004626       0.145822        0.302442   \n",
       "Total_Accounts           0.005331       0.203237        0.229871   \n",
       "Interest_Rate            0.001290      -0.052783        0.152472   \n",
       "\n",
       "                         Inquiries_Last_6Mo  Months_Since_Deliquency  \\\n",
       "Loan_ID                            0.002593                 0.002111   \n",
       "Annual_Income                      0.060011                -0.057804   \n",
       "Debt_To_Income                    -0.005142                 0.006394   \n",
       "Inquiries_Last_6Mo                 1.000000                 0.011971   \n",
       "Months_Since_Deliquency            0.011971                 1.000000   \n",
       "Number_Open_Accounts               0.100930                -0.049683   \n",
       "Total_Accounts                     0.131467                -0.062261   \n",
       "Interest_Rate                      0.188987                -0.042108   \n",
       "\n",
       "                         Number_Open_Accounts  Total_Accounts  Interest_Rate  \n",
       "Loan_ID                              0.004626        0.005331       0.001290  \n",
       "Annual_Income                        0.145822        0.203237      -0.052783  \n",
       "Debt_To_Income                       0.302442        0.229871       0.152472  \n",
       "Inquiries_Last_6Mo                   0.100930        0.131467       0.188987  \n",
       "Months_Since_Deliquency             -0.049683       -0.062261      -0.042108  \n",
       "Number_Open_Accounts                 1.000000        0.682137       0.002847  \n",
       "Total_Accounts                       0.682137        1.000000      -0.040690  \n",
       "Interest_Rate                        0.002847       -0.040690       1.000000  "
      ]
     },
     "execution_count": 7,
     "metadata": {},
     "output_type": "execute_result"
    }
   ],
   "source": [
    "train.corr()"
   ]
  },
  {
   "cell_type": "code",
   "execution_count": 8,
   "metadata": {},
   "outputs": [
    {
     "data": {
      "text/plain": [
       "Loan_ID                    0.001290\n",
       "Annual_Income             -0.052783\n",
       "Debt_To_Income             0.152472\n",
       "Inquiries_Last_6Mo         0.188987\n",
       "Months_Since_Deliquency   -0.042108\n",
       "Number_Open_Accounts       0.002847\n",
       "Total_Accounts            -0.040690\n",
       "Interest_Rate              1.000000\n",
       "Name: Interest_Rate, dtype: float64"
      ]
     },
     "execution_count": 8,
     "metadata": {},
     "output_type": "execute_result"
    }
   ],
   "source": [
    "train.corr()['Interest_Rate'][:]"
   ]
  },
  {
   "cell_type": "code",
   "execution_count": 9,
   "metadata": {},
   "outputs": [
    {
     "data": {
      "text/plain": [
       "VERIFIED - income           59421\n",
       "VERIFIED - income source    53015\n",
       "not verified                51873\n",
       "Name: Income_Verified, dtype: int64"
      ]
     },
     "execution_count": 9,
     "metadata": {},
     "output_type": "execute_result"
    }
   ],
   "source": [
    "train['Income_Verified'].value_counts()"
   ]
  },
  {
   "cell_type": "code",
   "execution_count": 10,
   "metadata": {},
   "outputs": [
    {
     "data": {
      "text/plain": [
       "Mortgage    70345\n",
       "Rent        56031\n",
       "Own         12525\n",
       "Other          49\n",
       "None           10\n",
       "Name: Home_Owner, dtype: int64"
      ]
     },
     "execution_count": 10,
     "metadata": {},
     "output_type": "execute_result"
    }
   ],
   "source": [
    "train['Home_Owner'].value_counts()"
   ]
  },
  {
   "cell_type": "code",
   "execution_count": 11,
   "metadata": {},
   "outputs": [
    {
     "data": {
      "text/plain": [
       "debt_consolidation    97101\n",
       "credit_card           36684\n",
       "home_improvement       9269\n",
       "other                  8346\n",
       "major_purchase         3435\n",
       "small_business         2392\n",
       "car                    1885\n",
       "medical                1541\n",
       "moving                  974\n",
       "vacation                837\n",
       "wedding                 828\n",
       "house                   773\n",
       "renewable_energy        123\n",
       "educational             121\n",
       "Name: Purpose_Of_Loan, dtype: int64"
      ]
     },
     "execution_count": 11,
     "metadata": {},
     "output_type": "execute_result"
    }
   ],
   "source": [
    "train['Purpose_Of_Loan'].value_counts()"
   ]
  },
  {
   "cell_type": "code",
   "execution_count": 12,
   "metadata": {},
   "outputs": [
    {
     "data": {
      "text/plain": [
       "Male      117176\n",
       "Female     47133\n",
       "Name: Gender, dtype: int64"
      ]
     },
     "execution_count": 12,
     "metadata": {},
     "output_type": "execute_result"
    }
   ],
   "source": [
    "train['Gender'].value_counts()"
   ]
  },
  {
   "cell_type": "code",
   "execution_count": 13,
   "metadata": {},
   "outputs": [
    {
     "data": {
      "image/png": "[encoded data removed]",
      "text/plain": [
       "<Figure size 432x288 with 1 Axes>"
      ]
     },
     "metadata": {
      "needs_background": "light"
     },
     "output_type": "display_data"
    }
   ],
   "source": [
    "%matplotlib inline\n",
    "train['Debt_To_Income'].hist(bins=200);"
   ]
  },
  {
   "cell_type": "code",
   "execution_count": 14,
   "metadata": {},
   "outputs": [
    {
     "data": {
      "image/png": "[encoded data removed]",
      "text/plain": [
       "<Figure size 432x288 with 1 Axes>"
      ]
     },
     "metadata": {
      "needs_background": "light"
     },
     "output_type": "display_data"
    }
   ],
   "source": [
    "%matplotlib inline\n",
    "train['Inquiries_Last_6Mo'].hist(bins=20);"
   ]
  },
  {
   "cell_type": "code",
   "execution_count": 15,
   "metadata": {},
   "outputs": [
    {
     "data": {
      "text/plain": [
       "<AxesSubplot:xlabel='Home_Owner', ylabel='count'>"
      ]
     },
     "execution_count": 15,
     "metadata": {},
     "output_type": "execute_result"
    },
    {
     "data": {
      "image/png": "[encoded data removed]",
      "text/plain": [
       "<Figure size 432x288 with 1 Axes>"
      ]
     },
     "metadata": {
      "needs_background": "light"
     },
     "output_type": "display_data"
    }
   ],
   "source": [
    "sn.countplot(x=train['Home_Owner'])"
   ]
  },
  {
   "cell_type": "code",
   "execution_count": 16,
   "metadata": {},
   "outputs": [
    {
     "data": {
      "text/plain": [
       "<AxesSubplot:xlabel='Interest_Rate', ylabel='count'>"
      ]
     },
     "execution_count": 16,
     "metadata": {},
     "output_type": "execute_result"
    },
    {
     "data": {
      "image/png": "[encoded data removed]",
      "text/plain": [
       "<Figure size 432x288 with 1 Axes>"
      ]
     },
     "metadata": {
      "needs_background": "light"
     },
     "output_type": "display_data"
    }
   ],
   "source": [
    "#int rate wrt gender\n",
    "sn.countplot(x=train['Interest_Rate'],hue=train['Gender'])"
   ]
  },
  {
   "cell_type": "code",
   "execution_count": 17,
   "metadata": {},
   "outputs": [
    {
     "data": {
      "text/plain": [
       "<AxesSubplot:xlabel='Gender', ylabel='count'>"
      ]
     },
     "execution_count": 17,
     "metadata": {},
     "output_type": "execute_result"
    },
    {
     "data": {
      "image/png": "[encoded data removed]",
      "text/plain": [
       "<Figure size 432x288 with 1 Axes>"
      ]
     },
     "metadata": {
      "needs_background": "light"
     },
     "output_type": "display_data"
    }
   ],
   "source": [
    "sn.countplot(x=train['Gender'])"
   ]
  },
  {
   "cell_type": "code",
   "execution_count": 18,
   "metadata": {},
   "outputs": [
    {
     "data": {
      "text/plain": [
       "<AxesSubplot:xlabel='Home_Owner', ylabel='count'>"
      ]
     },
     "execution_count": 18,
     "metadata": {},
     "output_type": "execute_result"
    },
    {
     "data": {
      "image/png": "[encoded data removed]",
      "text/plain": [
       "<Figure size 432x288 with 1 Axes>"
      ]
     },
     "metadata": {
      "needs_background": "light"
     },
     "output_type": "display_data"
    }
   ],
   "source": [
    "sn.countplot(x=train['Home_Owner'])"
   ]
  },
  {
   "cell_type": "code",
   "execution_count": 19,
   "metadata": {},
   "outputs": [
    {
     "data": {
      "text/plain": [
       "<AxesSubplot:xlabel='Income_Verified', ylabel='count'>"
      ]
     },
     "execution_count": 19,
     "metadata": {},
     "output_type": "execute_result"
    },
    {
     "data": {
      "image/png": "[encoded data removed]",
      "text/plain": [
       "<Figure size 432x288 with 1 Axes>"
      ]
     },
     "metadata": {
      "needs_background": "light"
     },
     "output_type": "display_data"
    }
   ],
   "source": [
    "sn.countplot(x=train['Income_Verified'])"
   ]
  },
  {
   "cell_type": "code",
   "execution_count": 20,
   "metadata": {},
   "outputs": [
    {
     "data": {
      "text/plain": [
       "(array([ 0,  1,  2,  3,  4,  5,  6,  7,  8,  9, 10, 11, 12, 13]),\n",
       " [Text(0, 0, 'car'),\n",
       "  Text(1, 0, 'debt_consolidation'),\n",
       "  Text(2, 0, 'credit_card'),\n",
       "  Text(3, 0, 'home_improvement'),\n",
       "  Text(4, 0, 'major_purchase'),\n",
       "  Text(5, 0, 'other'),\n",
       "  Text(6, 0, 'medical'),\n",
       "  Text(7, 0, 'small_business'),\n",
       "  Text(8, 0, 'moving'),\n",
       "  Text(9, 0, 'wedding'),\n",
       "  Text(10, 0, 'vacation'),\n",
       "  Text(11, 0, 'house'),\n",
       "  Text(12, 0, 'educational'),\n",
       "  Text(13, 0, 'renewable_energy')])"
      ]
     },
     "execution_count": 20,
     "metadata": {},
     "output_type": "execute_result"
    },
    {
     "data": {
      "image/png": "[encoded data removed]",
      "text/plain": [
       "<Figure size 432x288 with 1 Axes>"
      ]
     },
     "metadata": {
      "needs_background": "light"
     },
     "output_type": "display_data"
    }
   ],
   "source": [
    "sn.countplot(x=train['Purpose_Of_Loan'])\n",
    "plt.xticks(rotation=90)"
   ]
  },
  {
   "cell_type": "code",
   "execution_count": 21,
   "metadata": {},
   "outputs": [
    {
     "data": {
      "text/plain": [
       "<AxesSubplot:xlabel='Gender', ylabel='count'>"
      ]
     },
     "execution_count": 21,
     "metadata": {},
     "output_type": "execute_result"
    },
    {
     "data": {
      "image/png": "[encoded data removed]",
      "text/plain": [
       "<Figure size 432x288 with 1 Axes>"
      ]
     },
     "metadata": {
      "needs_background": "light"
     },
     "output_type": "display_data"
    }
   ],
   "source": [
    "#  gender wrt int rate\n",
    "sn.countplot(x=train['Gender'],hue=train['Interest_Rate'])"
   ]
  },
  {
   "cell_type": "code",
   "execution_count": 22,
   "metadata": {},
   "outputs": [
    {
     "data": {
      "text/plain": [
       "(array([ 0,  1,  2,  3,  4,  5,  6,  7,  8,  9, 10]),\n",
       " [Text(0, 0, '< 1 year'),\n",
       "  Text(1, 0, '4 years'),\n",
       "  Text(2, 0, '7 years'),\n",
       "  Text(3, 0, '8 years'),\n",
       "  Text(4, 0, '2 years'),\n",
       "  Text(5, 0, '10+ years'),\n",
       "  Text(6, 0, '1 year'),\n",
       "  Text(7, 0, '6 years'),\n",
       "  Text(8, 0, '9 years'),\n",
       "  Text(9, 0, '3 years'),\n",
       "  Text(10, 0, '5 years')])"
      ]
     },
     "execution_count": 22,
     "metadata": {},
     "output_type": "execute_result"
    },
    {
     "data": {
      "image/png": "[encoded data removed]",
      "text/plain": [
       "<Figure size 432x288 with 1 Axes>"
      ]
     },
     "metadata": {
      "needs_background": "light"
     },
     "output_type": "display_data"
    }
   ],
   "source": [
    "#Length_Employed data check view\n",
    "sn.countplot(x=train['Length_Employed'])\n",
    "plt.xticks(rotation=90)"
   ]
  },
  {
   "cell_type": "code",
   "execution_count": 23,
   "metadata": {
    "scrolled": true
   },
   "outputs": [
    {
     "data": {
      "text/plain": [
       "(array([ 0,  1,  2,  3,  4,  5,  6,  7,  8,  9, 10]),\n",
       " [Text(0, 0, '< 1 year'),\n",
       "  Text(1, 0, '4 years'),\n",
       "  Text(2, 0, '7 years'),\n",
       "  Text(3, 0, '8 years'),\n",
       "  Text(4, 0, '2 years'),\n",
       "  Text(5, 0, '10+ years'),\n",
       "  Text(6, 0, '1 year'),\n",
       "  Text(7, 0, '6 years'),\n",
       "  Text(8, 0, '9 years'),\n",
       "  Text(9, 0, '3 years'),\n",
       "  Text(10, 0, '5 years')])"
      ]
     },
     "execution_count": 23,
     "metadata": {},
     "output_type": "execute_result"
    },
    {
     "data": {
      "image/png": "[encoded data removed]",
      "text/plain": [
       "<Figure size 720x720 with 1 Axes>"
      ]
     },
     "metadata": {
      "needs_background": "light"
     },
     "output_type": "display_data"
    }
   ],
   "source": [
    "#Interest rate wrt Length_Employed data check view\n",
    "plt.figure(figsize=(10,10))\n",
    "sn.countplot(x=train['Length_Employed'],hue=train['Interest_Rate'])\n",
    "plt.xticks(rotation=90)"
   ]
  },
  {
   "cell_type": "markdown",
   "metadata": {},
   "source": [
    "# Step 2 : Data Preprocessing"
   ]
  },
  {
   "cell_type": "code",
   "execution_count": 24,
   "metadata": {},
   "outputs": [],
   "source": [
    "#LoanID column gives no predictive value as a feature, so we will drop it\n",
    "train.drop(['Loan_ID'],axis=1,inplace=True)"
   ]
  },
  {
   "cell_type": "code",
   "execution_count": 25,
   "metadata": {},
   "outputs": [],
   "source": [
    "#Changing datatype:\n",
    "train[\"Loan_Amount_Requested\"] = train[\"Loan_Amount_Requested\"].str.replace(\",\",\"\").astype(float)"
   ]
  },
  {
   "cell_type": "code",
   "execution_count": 26,
   "metadata": {},
   "outputs": [
    {
     "data": {
      "text/plain": [
       "dtype('float64')"
      ]
     },
     "execution_count": 26,
     "metadata": {},
     "output_type": "execute_result"
    }
   ],
   "source": [
    "train['Loan_Amount_Requested'].dtype"
   ]
  },
  {
   "cell_type": "code",
   "execution_count": 27,
   "metadata": {},
   "outputs": [
    {
     "data": {
      "image/png": "[encoded data removed]",
      "text/plain": [
       "<Figure size 432x288 with 1 Axes>"
      ]
     },
     "metadata": {
      "needs_background": "light"
     },
     "output_type": "display_data"
    }
   ],
   "source": [
    "try:\n",
    "    sn.boxplot(train['Loan_Amount_Requested'])\n",
    "except TypeError:\n",
    "    print(\"Looks like data type is not numeric \")"
   ]
  },
  {
   "cell_type": "code",
   "execution_count": 28,
   "metadata": {},
   "outputs": [
    {
     "data": {
      "text/plain": [
       "count    164309.00000\n",
       "mean      14349.33692\n",
       "std        8281.86870\n",
       "min         500.00000\n",
       "25%        8000.00000\n",
       "50%       12075.00000\n",
       "75%       20000.00000\n",
       "max       35000.00000\n",
       "Name: Loan_Amount_Requested, dtype: float64"
      ]
     },
     "execution_count": 28,
     "metadata": {},
     "output_type": "execute_result"
    }
   ],
   "source": [
    "train['Loan_Amount_Requested'].describe()"
   ]
  },
  {
   "cell_type": "code",
   "execution_count": 29,
   "metadata": {},
   "outputs": [
    {
     "data": {
      "text/html": [
       "<div>\n",
       "<style scoped>\n",
       "    .dataframe tbody tr th:only-of-type {\n",
       "        vertical-align: middle;\n",
       "    }\n",
       "\n",
       "    .dataframe tbody tr th {\n",
       "        vertical-align: top;\n",
       "    }\n",
       "\n",
       "    .dataframe thead th {\n",
       "        text-align: right;\n",
       "    }\n",
       "</style>\n",
       "<table border=\"1\" class=\"dataframe\">\n",
       "  <thead>\n",
       "    <tr style=\"text-align: right;\">\n",
       "      <th></th>\n",
       "      <th>Loan_Amount_Requested</th>\n",
       "      <th>Length_Employed</th>\n",
       "      <th>Home_Owner</th>\n",
       "      <th>Annual_Income</th>\n",
       "      <th>Income_Verified</th>\n",
       "      <th>Purpose_Of_Loan</th>\n",
       "      <th>Debt_To_Income</th>\n",
       "      <th>Inquiries_Last_6Mo</th>\n",
       "      <th>Months_Since_Deliquency</th>\n",
       "      <th>Number_Open_Accounts</th>\n",
       "      <th>Total_Accounts</th>\n",
       "      <th>Gender</th>\n",
       "      <th>Interest_Rate</th>\n",
       "    </tr>\n",
       "  </thead>\n",
       "  <tbody>\n",
       "    <tr>\n",
       "      <th>0</th>\n",
       "      <td>7000.0</td>\n",
       "      <td>&lt; 1 year</td>\n",
       "      <td>Rent</td>\n",
       "      <td>68000.0</td>\n",
       "      <td>not verified</td>\n",
       "      <td>car</td>\n",
       "      <td>18.37</td>\n",
       "      <td>0</td>\n",
       "      <td>NaN</td>\n",
       "      <td>9</td>\n",
       "      <td>14</td>\n",
       "      <td>Female</td>\n",
       "      <td>1</td>\n",
       "    </tr>\n",
       "    <tr>\n",
       "      <th>1</th>\n",
       "      <td>30000.0</td>\n",
       "      <td>4 years</td>\n",
       "      <td>Mortgage</td>\n",
       "      <td>NaN</td>\n",
       "      <td>VERIFIED - income</td>\n",
       "      <td>debt_consolidation</td>\n",
       "      <td>14.93</td>\n",
       "      <td>0</td>\n",
       "      <td>17.0</td>\n",
       "      <td>12</td>\n",
       "      <td>24</td>\n",
       "      <td>Female</td>\n",
       "      <td>3</td>\n",
       "    </tr>\n",
       "    <tr>\n",
       "      <th>2</th>\n",
       "      <td>24725.0</td>\n",
       "      <td>7 years</td>\n",
       "      <td>Mortgage</td>\n",
       "      <td>75566.4</td>\n",
       "      <td>VERIFIED - income source</td>\n",
       "      <td>debt_consolidation</td>\n",
       "      <td>15.88</td>\n",
       "      <td>0</td>\n",
       "      <td>NaN</td>\n",
       "      <td>12</td>\n",
       "      <td>16</td>\n",
       "      <td>Male</td>\n",
       "      <td>3</td>\n",
       "    </tr>\n",
       "    <tr>\n",
       "      <th>3</th>\n",
       "      <td>16000.0</td>\n",
       "      <td>&lt; 1 year</td>\n",
       "      <td>NaN</td>\n",
       "      <td>56160.0</td>\n",
       "      <td>VERIFIED - income source</td>\n",
       "      <td>debt_consolidation</td>\n",
       "      <td>14.34</td>\n",
       "      <td>3</td>\n",
       "      <td>NaN</td>\n",
       "      <td>16</td>\n",
       "      <td>22</td>\n",
       "      <td>Male</td>\n",
       "      <td>3</td>\n",
       "    </tr>\n",
       "    <tr>\n",
       "      <th>4</th>\n",
       "      <td>17000.0</td>\n",
       "      <td>8 years</td>\n",
       "      <td>Own</td>\n",
       "      <td>96000.0</td>\n",
       "      <td>VERIFIED - income source</td>\n",
       "      <td>debt_consolidation</td>\n",
       "      <td>22.17</td>\n",
       "      <td>1</td>\n",
       "      <td>NaN</td>\n",
       "      <td>19</td>\n",
       "      <td>30</td>\n",
       "      <td>Female</td>\n",
       "      <td>1</td>\n",
       "    </tr>\n",
       "  </tbody>\n",
       "</table>\n",
       "</div>"
      ],
      "text/plain": [
       "   Loan_Amount_Requested Length_Employed Home_Owner  Annual_Income  \\\n",
       "0                 7000.0        < 1 year       Rent        68000.0   \n",
       "1                30000.0         4 years   Mortgage            NaN   \n",
       "2                24725.0         7 years   Mortgage        75566.4   \n",
       "3                16000.0        < 1 year        NaN        56160.0   \n",
       "4                17000.0         8 years        Own        96000.0   \n",
       "\n",
       "            Income_Verified     Purpose_Of_Loan  Debt_To_Income  \\\n",
       "0              not verified                 car           18.37   \n",
       "1         VERIFIED - income  debt_consolidation           14.93   \n",
       "2  VERIFIED - income source  debt_consolidation           15.88   \n",
       "3  VERIFIED - income source  debt_consolidation           14.34   \n",
       "4  VERIFIED - income source  debt_consolidation           22.17   \n",
       "\n",
       "   Inquiries_Last_6Mo  Months_Since_Deliquency  Number_Open_Accounts  \\\n",
       "0                   0                      NaN                     9   \n",
       "1                   0                     17.0                    12   \n",
       "2                   0                      NaN                    12   \n",
       "3                   3                      NaN                    16   \n",
       "4                   1                      NaN                    19   \n",
       "\n",
       "   Total_Accounts  Gender  Interest_Rate  \n",
       "0              14  Female              1  \n",
       "1              24  Female              3  \n",
       "2              16    Male              3  \n",
       "3              22    Male              3  \n",
       "4              30  Female              1  "
      ]
     },
     "execution_count": 29,
     "metadata": {},
     "output_type": "execute_result"
    }
   ],
   "source": [
    "train.head()"
   ]
  },
  {
   "cell_type": "code",
   "execution_count": 30,
   "metadata": {},
   "outputs": [
    {
     "data": {
      "text/plain": [
       "<AxesSubplot:xlabel='Loan_Amount_Requested', ylabel='Density'>"
      ]
     },
     "execution_count": 30,
     "metadata": {},
     "output_type": "execute_result"
    },
    {
     "data": {
      "image/png": "[encoded data removed]",
      "text/plain": [
       "<Figure size 432x288 with 1 Axes>"
      ]
     },
     "metadata": {
      "needs_background": "light"
     },
     "output_type": "display_data"
    }
   ],
   "source": [
    "sn.distplot(train['Loan_Amount_Requested'])"
   ]
  },
  {
   "cell_type": "code",
   "execution_count": 31,
   "metadata": {},
   "outputs": [
    {
     "data": {
      "text/plain": [
       "<AxesSubplot:xlabel='Home_Owner', ylabel='count'>"
      ]
     },
     "execution_count": 31,
     "metadata": {},
     "output_type": "execute_result"
    },
    {
     "data": {
      "image/png": "[encoded data removed]",
      "text/plain": [
       "<Figure size 432x288 with 1 Axes>"
      ]
     },
     "metadata": {
      "needs_background": "light"
     },
     "output_type": "display_data"
    }
   ],
   "source": [
    "#Length_Employed\n",
    "sn.countplot(train['Home_Owner'],hue=train['Interest_Rate'])"
   ]
  },
  {
   "cell_type": "code",
   "execution_count": 32,
   "metadata": {},
   "outputs": [
    {
     "data": {
      "text/plain": [
       "(array([ 0,  1,  2,  3,  4,  5,  6,  7,  8,  9, 10]),\n",
       " [Text(0, 0, '< 1 year'),\n",
       "  Text(1, 0, '4 years'),\n",
       "  Text(2, 0, '7 years'),\n",
       "  Text(3, 0, '8 years'),\n",
       "  Text(4, 0, '2 years'),\n",
       "  Text(5, 0, '10+ years'),\n",
       "  Text(6, 0, '1 year'),\n",
       "  Text(7, 0, '6 years'),\n",
       "  Text(8, 0, '9 years'),\n",
       "  Text(9, 0, '3 years'),\n",
       "  Text(10, 0, '5 years')])"
      ]
     },
     "execution_count": 32,
     "metadata": {},
     "output_type": "execute_result"
    },
    {
     "data": {
      "image/png": "[encoded data removed]",
      "text/plain": [
       "<Figure size 432x288 with 1 Axes>"
      ]
     },
     "metadata": {
      "needs_background": "light"
     },
     "output_type": "display_data"
    }
   ],
   "source": [
    "sn.countplot(x=train['Length_Employed'],hue=train['Interest_Rate'])\n",
    "plt.xticks(rotation=90)"
   ]
  },
  {
   "cell_type": "markdown",
   "metadata": {},
   "source": [
    "Till now it is clear that mostly the people who have mortgage or rent has more loan needs \\nMostly Male Customers Mostly 10+ Years work experience applied for loansAs years of experience increases we can observe in rise of mortgages"
   ]
  },
  {
   "cell_type": "code",
   "execution_count": 33,
   "metadata": {},
   "outputs": [
    {
     "data": {
      "text/plain": [
       "Loan_Amount_Requested          0\n",
       "Length_Employed             7371\n",
       "Home_Owner                 25349\n",
       "Annual_Income              25102\n",
       "Income_Verified                0\n",
       "Purpose_Of_Loan                0\n",
       "Debt_To_Income                 0\n",
       "Inquiries_Last_6Mo             0\n",
       "Months_Since_Deliquency    88379\n",
       "Number_Open_Accounts           0\n",
       "Total_Accounts                 0\n",
       "Gender                         0\n",
       "Interest_Rate                  0\n",
       "dtype: int64"
      ]
     },
     "execution_count": 33,
     "metadata": {},
     "output_type": "execute_result"
    }
   ],
   "source": [
    "train.isnull().sum()"
   ]
  },
  {
   "cell_type": "code",
   "execution_count": 34,
   "metadata": {},
   "outputs": [
    {
     "data": {
      "text/html": [
       "<div>\n",
       "<style scoped>\n",
       "    .dataframe tbody tr th:only-of-type {\n",
       "        vertical-align: middle;\n",
       "    }\n",
       "\n",
       "    .dataframe tbody tr th {\n",
       "        vertical-align: top;\n",
       "    }\n",
       "\n",
       "    .dataframe thead th {\n",
       "        text-align: right;\n",
       "    }\n",
       "</style>\n",
       "<table border=\"1\" class=\"dataframe\">\n",
       "  <thead>\n",
       "    <tr style=\"text-align: right;\">\n",
       "      <th></th>\n",
       "      <th>Loan_Amount_Requested</th>\n",
       "      <th>Length_Employed</th>\n",
       "      <th>Home_Owner</th>\n",
       "      <th>Annual_Income</th>\n",
       "      <th>Income_Verified</th>\n",
       "      <th>Purpose_Of_Loan</th>\n",
       "      <th>Debt_To_Income</th>\n",
       "      <th>Inquiries_Last_6Mo</th>\n",
       "      <th>Months_Since_Deliquency</th>\n",
       "      <th>Number_Open_Accounts</th>\n",
       "      <th>Total_Accounts</th>\n",
       "      <th>Gender</th>\n",
       "      <th>Interest_Rate</th>\n",
       "    </tr>\n",
       "  </thead>\n",
       "  <tbody>\n",
       "    <tr>\n",
       "      <th>40073</th>\n",
       "      <td>500.0</td>\n",
       "      <td>&lt; 1 year</td>\n",
       "      <td>Rent</td>\n",
       "      <td>18000.00</td>\n",
       "      <td>not verified</td>\n",
       "      <td>other</td>\n",
       "      <td>4.27</td>\n",
       "      <td>0</td>\n",
       "      <td>0.0</td>\n",
       "      <td>4</td>\n",
       "      <td>4</td>\n",
       "      <td>Male</td>\n",
       "      <td>1</td>\n",
       "    </tr>\n",
       "    <tr>\n",
       "      <th>67071</th>\n",
       "      <td>500.0</td>\n",
       "      <td>&lt; 1 year</td>\n",
       "      <td>Mortgage</td>\n",
       "      <td>7904.04</td>\n",
       "      <td>not verified</td>\n",
       "      <td>vacation</td>\n",
       "      <td>3.04</td>\n",
       "      <td>2</td>\n",
       "      <td>8.0</td>\n",
       "      <td>3</td>\n",
       "      <td>6</td>\n",
       "      <td>Female</td>\n",
       "      <td>2</td>\n",
       "    </tr>\n",
       "    <tr>\n",
       "      <th>94119</th>\n",
       "      <td>500.0</td>\n",
       "      <td>3 years</td>\n",
       "      <td>Mortgage</td>\n",
       "      <td>26000.00</td>\n",
       "      <td>not verified</td>\n",
       "      <td>small_business</td>\n",
       "      <td>14.17</td>\n",
       "      <td>0</td>\n",
       "      <td>38.0</td>\n",
       "      <td>8</td>\n",
       "      <td>28</td>\n",
       "      <td>Male</td>\n",
       "      <td>2</td>\n",
       "    </tr>\n",
       "  </tbody>\n",
       "</table>\n",
       "</div>"
      ],
      "text/plain": [
       "       Loan_Amount_Requested Length_Employed Home_Owner  Annual_Income  \\\n",
       "40073                  500.0        < 1 year       Rent       18000.00   \n",
       "67071                  500.0        < 1 year   Mortgage        7904.04   \n",
       "94119                  500.0         3 years   Mortgage       26000.00   \n",
       "\n",
       "      Income_Verified Purpose_Of_Loan  Debt_To_Income  Inquiries_Last_6Mo  \\\n",
       "40073    not verified           other            4.27                   0   \n",
       "67071    not verified        vacation            3.04                   2   \n",
       "94119    not verified  small_business           14.17                   0   \n",
       "\n",
       "       Months_Since_Deliquency  Number_Open_Accounts  Total_Accounts  Gender  \\\n",
       "40073                      0.0                     4               4    Male   \n",
       "67071                      8.0                     3               6  Female   \n",
       "94119                     38.0                     8              28    Male   \n",
       "\n",
       "       Interest_Rate  \n",
       "40073              1  \n",
       "67071              2  \n",
       "94119              2  "
      ]
     },
     "execution_count": 34,
     "metadata": {},
     "output_type": "execute_result"
    }
   ],
   "source": [
    "#Checking the wierd values of loan amount=500,definelty outlier(mostly incorrectly added)\n",
    "train[train['Loan_Amount_Requested']==500]"
   ]
  },
  {
   "cell_type": "markdown",
   "metadata": {},
   "source": [
    "Next Items Data Cleaning (NULL handling) Conversion of data types Outlier detection categorical values handling"
   ]
  },
  {
   "cell_type": "markdown",
   "metadata": {},
   "source": [
    "Next will focus on Loan_Amount_Requested , experience looks corelated with loan category"
   ]
  },
  {
   "cell_type": "markdown",
   "metadata": {},
   "source": [
    "###### Feature Enginnering :\n",
    "Length_Employed\n"
   ]
  },
  {
   "cell_type": "markdown",
   "metadata": {},
   "source": [
    "We wil convert the loan into numbers with below assumtions"
   ]
  },
  {
   "cell_type": "markdown",
   "metadata": {},
   "source": [
    "Less than 1 year = 0.8 year assuming very rarely freshers applies for loan within 6 months after joining 10 or 10+ as 10 years "
   ]
  },
  {
   "cell_type": "markdown",
   "metadata": {},
   "source": [
    "So we will have in numbers 0.8 ,1,2,3,4,5,6,7,8,9,10"
   ]
  },
  {
   "cell_type": "code",
   "execution_count": 35,
   "metadata": {},
   "outputs": [
    {
     "data": {
      "text/plain": [
       "array(['< 1 year', '4 years', '7 years', '8 years', '2 years',\n",
       "       '10+ years', '1 year', nan, '6 years', '9 years', '3 years',\n",
       "       '5 years'], dtype=object)"
      ]
     },
     "execution_count": 35,
     "metadata": {},
     "output_type": "execute_result"
    }
   ],
   "source": [
    "train['Length_Employed'].unique()"
   ]
  },
  {
   "cell_type": "markdown",
   "metadata": {},
   "source": [
    "##### Checking central tendency value to replace numeric missing values, Will Try mean median"
   ]
  },
  {
   "cell_type": "code",
   "execution_count": 36,
   "metadata": {},
   "outputs": [
    {
     "data": {
      "text/plain": [
       "Loan_Amount_Requested      10000.00\n",
       "Length_Employed                 NaN\n",
       "Annual_Income              44200.00\n",
       "Debt_To_Income                18.14\n",
       "Inquiries_Last_6Mo             0.00\n",
       "Months_Since_Deliquency       34.00\n",
       "Number_Open_Accounts           9.00\n",
       "Total_Accounts                22.00\n",
       "Interest_Rate                  2.00\n",
       "dtype: float64"
      ]
     },
     "execution_count": 36,
     "metadata": {},
     "output_type": "execute_result"
    }
   ],
   "source": [
    "#Median\n",
    "train[train['Length_Employed'].isnull()].median(axis=0,skipna=True)"
   ]
  },
  {
   "cell_type": "code",
   "execution_count": 37,
   "metadata": {},
   "outputs": [
    {
     "data": {
      "text/plain": [
       "Loan_Amount_Requested      11493.108126\n",
       "Length_Employed                     NaN\n",
       "Annual_Income              49508.856911\n",
       "Debt_To_Income                18.357059\n",
       "Inquiries_Last_6Mo             0.730973\n",
       "Months_Since_Deliquency       36.723086\n",
       "Number_Open_Accounts          10.028626\n",
       "Total_Accounts                23.988197\n",
       "Interest_Rate                  2.187356\n",
       "dtype: float64"
      ]
     },
     "execution_count": 37,
     "metadata": {},
     "output_type": "execute_result"
    }
   ],
   "source": [
    "#Mean\n",
    "train[train['Length_Employed'].isnull()].mean(axis=0,skipna=True)"
   ]
  },
  {
   "cell_type": "code",
   "execution_count": 38,
   "metadata": {},
   "outputs": [
    {
     "data": {
      "text/html": [
       "<div>\n",
       "<style scoped>\n",
       "    .dataframe tbody tr th:only-of-type {\n",
       "        vertical-align: middle;\n",
       "    }\n",
       "\n",
       "    .dataframe tbody tr th {\n",
       "        vertical-align: top;\n",
       "    }\n",
       "\n",
       "    .dataframe thead tr th {\n",
       "        text-align: left;\n",
       "    }\n",
       "\n",
       "    .dataframe thead tr:last-of-type th {\n",
       "        text-align: right;\n",
       "    }\n",
       "</style>\n",
       "<table border=\"1\" class=\"dataframe\">\n",
       "  <thead>\n",
       "    <tr>\n",
       "      <th></th>\n",
       "      <th colspan=\"4\" halign=\"left\">Annual_Income</th>\n",
       "    </tr>\n",
       "    <tr>\n",
       "      <th></th>\n",
       "      <th>mean</th>\n",
       "      <th>median</th>\n",
       "      <th>min</th>\n",
       "      <th>max</th>\n",
       "    </tr>\n",
       "    <tr>\n",
       "      <th>Length_Employed</th>\n",
       "      <th></th>\n",
       "      <th></th>\n",
       "      <th></th>\n",
       "      <th></th>\n",
       "    </tr>\n",
       "  </thead>\n",
       "  <tbody>\n",
       "    <tr>\n",
       "      <th>1 year</th>\n",
       "      <td>69486.857814</td>\n",
       "      <td>60000.0</td>\n",
       "      <td>4800.0</td>\n",
       "      <td>897000.0</td>\n",
       "    </tr>\n",
       "    <tr>\n",
       "      <th>10+ years</th>\n",
       "      <td>80509.442067</td>\n",
       "      <td>70000.0</td>\n",
       "      <td>8520.0</td>\n",
       "      <td>7500000.0</td>\n",
       "    </tr>\n",
       "    <tr>\n",
       "      <th>2 years</th>\n",
       "      <td>70832.590654</td>\n",
       "      <td>60000.0</td>\n",
       "      <td>7500.0</td>\n",
       "      <td>1950000.0</td>\n",
       "    </tr>\n",
       "    <tr>\n",
       "      <th>3 years</th>\n",
       "      <td>72395.394749</td>\n",
       "      <td>60000.0</td>\n",
       "      <td>6400.0</td>\n",
       "      <td>3900000.0</td>\n",
       "    </tr>\n",
       "    <tr>\n",
       "      <th>4 years</th>\n",
       "      <td>71150.557520</td>\n",
       "      <td>60000.0</td>\n",
       "      <td>9000.0</td>\n",
       "      <td>1600000.0</td>\n",
       "    </tr>\n",
       "    <tr>\n",
       "      <th>5 years</th>\n",
       "      <td>71704.917747</td>\n",
       "      <td>60000.0</td>\n",
       "      <td>8025.0</td>\n",
       "      <td>1900000.0</td>\n",
       "    </tr>\n",
       "    <tr>\n",
       "      <th>6 years</th>\n",
       "      <td>72043.155295</td>\n",
       "      <td>61360.0</td>\n",
       "      <td>10000.0</td>\n",
       "      <td>1200000.0</td>\n",
       "    </tr>\n",
       "    <tr>\n",
       "      <th>7 years</th>\n",
       "      <td>72690.152705</td>\n",
       "      <td>62000.0</td>\n",
       "      <td>8500.0</td>\n",
       "      <td>831000.0</td>\n",
       "    </tr>\n",
       "    <tr>\n",
       "      <th>8 years</th>\n",
       "      <td>74645.174631</td>\n",
       "      <td>63000.0</td>\n",
       "      <td>10000.0</td>\n",
       "      <td>4900000.0</td>\n",
       "    </tr>\n",
       "    <tr>\n",
       "      <th>9 years</th>\n",
       "      <td>73860.317171</td>\n",
       "      <td>64000.0</td>\n",
       "      <td>9732.0</td>\n",
       "      <td>850000.0</td>\n",
       "    </tr>\n",
       "    <tr>\n",
       "      <th>&lt; 1 year</th>\n",
       "      <td>67694.486632</td>\n",
       "      <td>56000.0</td>\n",
       "      <td>4000.0</td>\n",
       "      <td>1000000.0</td>\n",
       "    </tr>\n",
       "  </tbody>\n",
       "</table>\n",
       "</div>"
      ],
      "text/plain": [
       "                Annual_Income                             \n",
       "                         mean   median      min        max\n",
       "Length_Employed                                           \n",
       "1 year           69486.857814  60000.0   4800.0   897000.0\n",
       "10+ years        80509.442067  70000.0   8520.0  7500000.0\n",
       "2 years          70832.590654  60000.0   7500.0  1950000.0\n",
       "3 years          72395.394749  60000.0   6400.0  3900000.0\n",
       "4 years          71150.557520  60000.0   9000.0  1600000.0\n",
       "5 years          71704.917747  60000.0   8025.0  1900000.0\n",
       "6 years          72043.155295  61360.0  10000.0  1200000.0\n",
       "7 years          72690.152705  62000.0   8500.0   831000.0\n",
       "8 years          74645.174631  63000.0  10000.0  4900000.0\n",
       "9 years          73860.317171  64000.0   9732.0   850000.0\n",
       "< 1 year         67694.486632  56000.0   4000.0  1000000.0"
      ]
     },
     "execution_count": 38,
     "metadata": {},
     "output_type": "execute_result"
    }
   ],
   "source": [
    "#Checking whats the average income for emp exp\n",
    "train.groupby(train['Length_Employed']).agg({'Annual_Income': ['mean','median', 'min', 'max']})"
   ]
  },
  {
   "cell_type": "code",
   "execution_count": 39,
   "metadata": {},
   "outputs": [
    {
     "data": {
      "text/html": [
       "<div>\n",
       "<style scoped>\n",
       "    .dataframe tbody tr th:only-of-type {\n",
       "        vertical-align: middle;\n",
       "    }\n",
       "\n",
       "    .dataframe tbody tr th {\n",
       "        vertical-align: top;\n",
       "    }\n",
       "\n",
       "    .dataframe thead tr th {\n",
       "        text-align: left;\n",
       "    }\n",
       "\n",
       "    .dataframe thead tr:last-of-type th {\n",
       "        text-align: right;\n",
       "    }\n",
       "</style>\n",
       "<table border=\"1\" class=\"dataframe\">\n",
       "  <thead>\n",
       "    <tr>\n",
       "      <th></th>\n",
       "      <th colspan=\"4\" halign=\"left\">Loan_Amount_Requested</th>\n",
       "    </tr>\n",
       "    <tr>\n",
       "      <th></th>\n",
       "      <th>mean</th>\n",
       "      <th>median</th>\n",
       "      <th>min</th>\n",
       "      <th>max</th>\n",
       "    </tr>\n",
       "    <tr>\n",
       "      <th>Length_Employed</th>\n",
       "      <th></th>\n",
       "      <th></th>\n",
       "      <th></th>\n",
       "      <th></th>\n",
       "    </tr>\n",
       "  </thead>\n",
       "  <tbody>\n",
       "    <tr>\n",
       "      <th>1 year</th>\n",
       "      <td>13242.355114</td>\n",
       "      <td>11500.0</td>\n",
       "      <td>725.0</td>\n",
       "      <td>35000.0</td>\n",
       "    </tr>\n",
       "    <tr>\n",
       "      <th>10+ years</th>\n",
       "      <td>15800.171974</td>\n",
       "      <td>15000.0</td>\n",
       "      <td>1000.0</td>\n",
       "      <td>35000.0</td>\n",
       "    </tr>\n",
       "    <tr>\n",
       "      <th>2 years</th>\n",
       "      <td>13592.093023</td>\n",
       "      <td>12000.0</td>\n",
       "      <td>800.0</td>\n",
       "      <td>35000.0</td>\n",
       "    </tr>\n",
       "    <tr>\n",
       "      <th>3 years</th>\n",
       "      <td>13699.460459</td>\n",
       "      <td>12000.0</td>\n",
       "      <td>500.0</td>\n",
       "      <td>35000.0</td>\n",
       "    </tr>\n",
       "    <tr>\n",
       "      <th>4 years</th>\n",
       "      <td>13733.130621</td>\n",
       "      <td>12000.0</td>\n",
       "      <td>900.0</td>\n",
       "      <td>35000.0</td>\n",
       "    </tr>\n",
       "    <tr>\n",
       "      <th>5 years</th>\n",
       "      <td>13850.906233</td>\n",
       "      <td>12000.0</td>\n",
       "      <td>1000.0</td>\n",
       "      <td>35000.0</td>\n",
       "    </tr>\n",
       "    <tr>\n",
       "      <th>6 years</th>\n",
       "      <td>14103.216406</td>\n",
       "      <td>12000.0</td>\n",
       "      <td>1000.0</td>\n",
       "      <td>35000.0</td>\n",
       "    </tr>\n",
       "    <tr>\n",
       "      <th>7 years</th>\n",
       "      <td>14439.637946</td>\n",
       "      <td>12762.5</td>\n",
       "      <td>1000.0</td>\n",
       "      <td>35000.0</td>\n",
       "    </tr>\n",
       "    <tr>\n",
       "      <th>8 years</th>\n",
       "      <td>14517.361374</td>\n",
       "      <td>12975.0</td>\n",
       "      <td>1000.0</td>\n",
       "      <td>35000.0</td>\n",
       "    </tr>\n",
       "    <tr>\n",
       "      <th>9 years</th>\n",
       "      <td>14850.688146</td>\n",
       "      <td>13475.0</td>\n",
       "      <td>1000.0</td>\n",
       "      <td>35000.0</td>\n",
       "    </tr>\n",
       "    <tr>\n",
       "      <th>&lt; 1 year</th>\n",
       "      <td>13073.049590</td>\n",
       "      <td>11200.0</td>\n",
       "      <td>500.0</td>\n",
       "      <td>35000.0</td>\n",
       "    </tr>\n",
       "  </tbody>\n",
       "</table>\n",
       "</div>"
      ],
      "text/plain": [
       "                Loan_Amount_Requested                          \n",
       "                                 mean   median     min      max\n",
       "Length_Employed                                                \n",
       "1 year                   13242.355114  11500.0   725.0  35000.0\n",
       "10+ years                15800.171974  15000.0  1000.0  35000.0\n",
       "2 years                  13592.093023  12000.0   800.0  35000.0\n",
       "3 years                  13699.460459  12000.0   500.0  35000.0\n",
       "4 years                  13733.130621  12000.0   900.0  35000.0\n",
       "5 years                  13850.906233  12000.0  1000.0  35000.0\n",
       "6 years                  14103.216406  12000.0  1000.0  35000.0\n",
       "7 years                  14439.637946  12762.5  1000.0  35000.0\n",
       "8 years                  14517.361374  12975.0  1000.0  35000.0\n",
       "9 years                  14850.688146  13475.0  1000.0  35000.0\n",
       "< 1 year                 13073.049590  11200.0   500.0  35000.0"
      ]
     },
     "execution_count": 39,
     "metadata": {},
     "output_type": "execute_result"
    }
   ],
   "source": [
    "#Checking whats the average income for emp exp\n",
    "train.groupby(train['Length_Employed']).agg({'Loan_Amount_Requested': ['mean','median', 'min', 'max']})"
   ]
  },
  {
   "cell_type": "code",
   "execution_count": 40,
   "metadata": {},
   "outputs": [
    {
     "data": {
      "text/html": [
       "<div>\n",
       "<style scoped>\n",
       "    .dataframe tbody tr th:only-of-type {\n",
       "        vertical-align: middle;\n",
       "    }\n",
       "\n",
       "    .dataframe tbody tr th {\n",
       "        vertical-align: top;\n",
       "    }\n",
       "\n",
       "    .dataframe thead th {\n",
       "        text-align: right;\n",
       "    }\n",
       "</style>\n",
       "<table border=\"1\" class=\"dataframe\">\n",
       "  <thead>\n",
       "    <tr style=\"text-align: right;\">\n",
       "      <th></th>\n",
       "      <th>Loan_Amount_Requested</th>\n",
       "      <th>Length_Employed</th>\n",
       "      <th>Home_Owner</th>\n",
       "      <th>Annual_Income</th>\n",
       "      <th>Income_Verified</th>\n",
       "      <th>Purpose_Of_Loan</th>\n",
       "      <th>Debt_To_Income</th>\n",
       "      <th>Inquiries_Last_6Mo</th>\n",
       "      <th>Months_Since_Deliquency</th>\n",
       "      <th>Number_Open_Accounts</th>\n",
       "      <th>Total_Accounts</th>\n",
       "      <th>Gender</th>\n",
       "      <th>Interest_Rate</th>\n",
       "    </tr>\n",
       "  </thead>\n",
       "  <tbody>\n",
       "    <tr>\n",
       "      <th>23</th>\n",
       "      <td>9050.0</td>\n",
       "      <td>NaN</td>\n",
       "      <td>Mortgage</td>\n",
       "      <td>46500.00</td>\n",
       "      <td>VERIFIED - income</td>\n",
       "      <td>debt_consolidation</td>\n",
       "      <td>30.43</td>\n",
       "      <td>0</td>\n",
       "      <td>33.0</td>\n",
       "      <td>8</td>\n",
       "      <td>26</td>\n",
       "      <td>Male</td>\n",
       "      <td>3</td>\n",
       "    </tr>\n",
       "    <tr>\n",
       "      <th>43</th>\n",
       "      <td>1500.0</td>\n",
       "      <td>NaN</td>\n",
       "      <td>Rent</td>\n",
       "      <td>20067.00</td>\n",
       "      <td>not verified</td>\n",
       "      <td>medical</td>\n",
       "      <td>24.40</td>\n",
       "      <td>2</td>\n",
       "      <td>62.0</td>\n",
       "      <td>5</td>\n",
       "      <td>17</td>\n",
       "      <td>Male</td>\n",
       "      <td>3</td>\n",
       "    </tr>\n",
       "    <tr>\n",
       "      <th>67</th>\n",
       "      <td>9750.0</td>\n",
       "      <td>NaN</td>\n",
       "      <td>Rent</td>\n",
       "      <td>23164.00</td>\n",
       "      <td>VERIFIED - income</td>\n",
       "      <td>credit_card</td>\n",
       "      <td>16.06</td>\n",
       "      <td>1</td>\n",
       "      <td>NaN</td>\n",
       "      <td>3</td>\n",
       "      <td>6</td>\n",
       "      <td>Male</td>\n",
       "      <td>2</td>\n",
       "    </tr>\n",
       "    <tr>\n",
       "      <th>69</th>\n",
       "      <td>4500.0</td>\n",
       "      <td>NaN</td>\n",
       "      <td>Rent</td>\n",
       "      <td>29000.00</td>\n",
       "      <td>VERIFIED - income</td>\n",
       "      <td>credit_card</td>\n",
       "      <td>10.34</td>\n",
       "      <td>0</td>\n",
       "      <td>NaN</td>\n",
       "      <td>6</td>\n",
       "      <td>10</td>\n",
       "      <td>Male</td>\n",
       "      <td>2</td>\n",
       "    </tr>\n",
       "    <tr>\n",
       "      <th>88</th>\n",
       "      <td>7000.0</td>\n",
       "      <td>NaN</td>\n",
       "      <td>Mortgage</td>\n",
       "      <td>42000.00</td>\n",
       "      <td>VERIFIED - income source</td>\n",
       "      <td>major_purchase</td>\n",
       "      <td>30.11</td>\n",
       "      <td>2</td>\n",
       "      <td>NaN</td>\n",
       "      <td>8</td>\n",
       "      <td>20</td>\n",
       "      <td>Male</td>\n",
       "      <td>2</td>\n",
       "    </tr>\n",
       "    <tr>\n",
       "      <th>...</th>\n",
       "      <td>...</td>\n",
       "      <td>...</td>\n",
       "      <td>...</td>\n",
       "      <td>...</td>\n",
       "      <td>...</td>\n",
       "      <td>...</td>\n",
       "      <td>...</td>\n",
       "      <td>...</td>\n",
       "      <td>...</td>\n",
       "      <td>...</td>\n",
       "      <td>...</td>\n",
       "      <td>...</td>\n",
       "      <td>...</td>\n",
       "    </tr>\n",
       "    <tr>\n",
       "      <th>164268</th>\n",
       "      <td>19750.0</td>\n",
       "      <td>NaN</td>\n",
       "      <td>Own</td>\n",
       "      <td>33664.44</td>\n",
       "      <td>VERIFIED - income</td>\n",
       "      <td>credit_card</td>\n",
       "      <td>17.40</td>\n",
       "      <td>0</td>\n",
       "      <td>NaN</td>\n",
       "      <td>8</td>\n",
       "      <td>12</td>\n",
       "      <td>Female</td>\n",
       "      <td>2</td>\n",
       "    </tr>\n",
       "    <tr>\n",
       "      <th>164272</th>\n",
       "      <td>10000.0</td>\n",
       "      <td>NaN</td>\n",
       "      <td>Own</td>\n",
       "      <td>28721.40</td>\n",
       "      <td>VERIFIED - income</td>\n",
       "      <td>debt_consolidation</td>\n",
       "      <td>33.42</td>\n",
       "      <td>1</td>\n",
       "      <td>73.0</td>\n",
       "      <td>14</td>\n",
       "      <td>16</td>\n",
       "      <td>Male</td>\n",
       "      <td>2</td>\n",
       "    </tr>\n",
       "    <tr>\n",
       "      <th>164289</th>\n",
       "      <td>8000.0</td>\n",
       "      <td>NaN</td>\n",
       "      <td>Rent</td>\n",
       "      <td>NaN</td>\n",
       "      <td>VERIFIED - income source</td>\n",
       "      <td>debt_consolidation</td>\n",
       "      <td>21.08</td>\n",
       "      <td>3</td>\n",
       "      <td>NaN</td>\n",
       "      <td>6</td>\n",
       "      <td>19</td>\n",
       "      <td>Male</td>\n",
       "      <td>1</td>\n",
       "    </tr>\n",
       "    <tr>\n",
       "      <th>164294</th>\n",
       "      <td>13700.0</td>\n",
       "      <td>NaN</td>\n",
       "      <td>Mortgage</td>\n",
       "      <td>55000.00</td>\n",
       "      <td>VERIFIED - income</td>\n",
       "      <td>debt_consolidation</td>\n",
       "      <td>32.92</td>\n",
       "      <td>0</td>\n",
       "      <td>NaN</td>\n",
       "      <td>15</td>\n",
       "      <td>38</td>\n",
       "      <td>Male</td>\n",
       "      <td>2</td>\n",
       "    </tr>\n",
       "    <tr>\n",
       "      <th>164295</th>\n",
       "      <td>3000.0</td>\n",
       "      <td>NaN</td>\n",
       "      <td>Rent</td>\n",
       "      <td>22356.00</td>\n",
       "      <td>VERIFIED - income source</td>\n",
       "      <td>other</td>\n",
       "      <td>24.85</td>\n",
       "      <td>0</td>\n",
       "      <td>NaN</td>\n",
       "      <td>12</td>\n",
       "      <td>20</td>\n",
       "      <td>Male</td>\n",
       "      <td>3</td>\n",
       "    </tr>\n",
       "  </tbody>\n",
       "</table>\n",
       "<p>7371 rows × 13 columns</p>\n",
       "</div>"
      ],
      "text/plain": [
       "        Loan_Amount_Requested Length_Employed Home_Owner  Annual_Income  \\\n",
       "23                     9050.0             NaN   Mortgage       46500.00   \n",
       "43                     1500.0             NaN       Rent       20067.00   \n",
       "67                     9750.0             NaN       Rent       23164.00   \n",
       "69                     4500.0             NaN       Rent       29000.00   \n",
       "88                     7000.0             NaN   Mortgage       42000.00   \n",
       "...                       ...             ...        ...            ...   \n",
       "164268                19750.0             NaN        Own       33664.44   \n",
       "164272                10000.0             NaN        Own       28721.40   \n",
       "164289                 8000.0             NaN       Rent            NaN   \n",
       "164294                13700.0             NaN   Mortgage       55000.00   \n",
       "164295                 3000.0             NaN       Rent       22356.00   \n",
       "\n",
       "                 Income_Verified     Purpose_Of_Loan  Debt_To_Income  \\\n",
       "23             VERIFIED - income  debt_consolidation           30.43   \n",
       "43                  not verified             medical           24.40   \n",
       "67             VERIFIED - income         credit_card           16.06   \n",
       "69             VERIFIED - income         credit_card           10.34   \n",
       "88      VERIFIED - income source      major_purchase           30.11   \n",
       "...                          ...                 ...             ...   \n",
       "164268         VERIFIED - income         credit_card           17.40   \n",
       "164272         VERIFIED - income  debt_consolidation           33.42   \n",
       "164289  VERIFIED - income source  debt_consolidation           21.08   \n",
       "164294         VERIFIED - income  debt_consolidation           32.92   \n",
       "164295  VERIFIED - income source               other           24.85   \n",
       "\n",
       "        Inquiries_Last_6Mo  Months_Since_Deliquency  Number_Open_Accounts  \\\n",
       "23                       0                     33.0                     8   \n",
       "43                       2                     62.0                     5   \n",
       "67                       1                      NaN                     3   \n",
       "69                       0                      NaN                     6   \n",
       "88                       2                      NaN                     8   \n",
       "...                    ...                      ...                   ...   \n",
       "164268                   0                      NaN                     8   \n",
       "164272                   1                     73.0                    14   \n",
       "164289                   3                      NaN                     6   \n",
       "164294                   0                      NaN                    15   \n",
       "164295                   0                      NaN                    12   \n",
       "\n",
       "        Total_Accounts  Gender  Interest_Rate  \n",
       "23                  26    Male              3  \n",
       "43                  17    Male              3  \n",
       "67                   6    Male              2  \n",
       "69                  10    Male              2  \n",
       "88                  20    Male              2  \n",
       "...                ...     ...            ...  \n",
       "164268              12  Female              2  \n",
       "164272              16    Male              2  \n",
       "164289              19    Male              1  \n",
       "164294              38    Male              2  \n",
       "164295              20    Male              3  \n",
       "\n",
       "[7371 rows x 13 columns]"
      ]
     },
     "execution_count": 40,
     "metadata": {},
     "output_type": "execute_result"
    }
   ],
   "source": [
    "train[train['Length_Employed'].isnull()]"
   ]
  },
  {
   "cell_type": "code",
   "execution_count": 41,
   "metadata": {},
   "outputs": [
    {
     "data": {
      "text/plain": [
       "'As visble from above agregate analysis check that the missing employment is hinting for experience lesser than 1 year\\ne.g. overall median income for less than 1 year is 56000 & for blank exp it is 44200, this is the  nearest to all the values '"
      ]
     },
     "execution_count": 41,
     "metadata": {},
     "output_type": "execute_result"
    }
   ],
   "source": [
    "#Converting the length of employment to number\n",
    "Length_Employed=[]\n",
    "for row in train['Length_Employed']:\n",
    "    if row=='< 1 year':\n",
    "        Length_Employed.append(0.8)\n",
    "    elif row=='1 year':\n",
    "        Length_Employed.append(1)\n",
    "    elif row=='2 years':\n",
    "        Length_Employed.append(2)\n",
    "    elif row=='3 years':\n",
    "        Length_Employed.append(3)\n",
    "    elif row=='4 years':\n",
    "        Length_Employed.append(4)\n",
    "    elif row=='5 years':\n",
    "        Length_Employed.append(5)\n",
    "    elif row=='6 years':\n",
    "        Length_Employed.append(6)\n",
    "    elif row=='7 years':\n",
    "        Length_Employed.append(7)\n",
    "    elif row=='8 years':\n",
    "        Length_Employed.append(8)\n",
    "    elif row=='9 years':\n",
    "        Length_Employed.append(9)\n",
    "    elif row=='10+ years':\n",
    "        Length_Employed.append(10)\n",
    "    else:\n",
    "        Length_Employed.append(0.8) \n",
    "'''As visble from above agregate analysis check that the missing employment is hinting for experience lesser than 1 year\n",
    "e.g. overall median income for less than 1 year is 56000 & for blank exp it is 44200, this is the  nearest to all the values '''"
   ]
  },
  {
   "cell_type": "code",
   "execution_count": 42,
   "metadata": {},
   "outputs": [
    {
     "data": {
      "text/plain": [
       "164309"
      ]
     },
     "execution_count": 42,
     "metadata": {},
     "output_type": "execute_result"
    }
   ],
   "source": [
    "len(Length_Employed)"
   ]
  },
  {
   "cell_type": "code",
   "execution_count": 43,
   "metadata": {},
   "outputs": [],
   "source": [
    "train['Length_Employed']=pd.Series(Length_Employed)"
   ]
  },
  {
   "cell_type": "code",
   "execution_count": 44,
   "metadata": {},
   "outputs": [
    {
     "name": "stdout",
     "output_type": "stream",
     "text": [
      "<class 'pandas.core.frame.DataFrame'>\n",
      "RangeIndex: 164309 entries, 0 to 164308\n",
      "Data columns (total 13 columns):\n",
      " #   Column                   Non-Null Count   Dtype  \n",
      "---  ------                   --------------   -----  \n",
      " 0   Loan_Amount_Requested    164309 non-null  float64\n",
      " 1   Length_Employed          164309 non-null  float64\n",
      " 2   Home_Owner               138960 non-null  object \n",
      " 3   Annual_Income            139207 non-null  float64\n",
      " 4   Income_Verified          164309 non-null  object \n",
      " 5   Purpose_Of_Loan          164309 non-null  object \n",
      " 6   Debt_To_Income           164309 non-null  float64\n",
      " 7   Inquiries_Last_6Mo       164309 non-null  int64  \n",
      " 8   Months_Since_Deliquency  75930 non-null   float64\n",
      " 9   Number_Open_Accounts     164309 non-null  int64  \n",
      " 10  Total_Accounts           164309 non-null  int64  \n",
      " 11  Gender                   164309 non-null  object \n",
      " 12  Interest_Rate            164309 non-null  int64  \n",
      "dtypes: float64(5), int64(4), object(4)\n",
      "memory usage: 16.3+ MB\n"
     ]
    }
   ],
   "source": [
    "train.info()"
   ]
  },
  {
   "cell_type": "code",
   "execution_count": 136,
   "metadata": {},
   "outputs": [
    {
     "data": {
      "text/html": [
       "<div>\n",
       "<style scoped>\n",
       "    .dataframe tbody tr th:only-of-type {\n",
       "        vertical-align: middle;\n",
       "    }\n",
       "\n",
       "    .dataframe tbody tr th {\n",
       "        vertical-align: top;\n",
       "    }\n",
       "\n",
       "    .dataframe thead th {\n",
       "        text-align: right;\n",
       "    }\n",
       "</style>\n",
       "<table border=\"1\" class=\"dataframe\">\n",
       "  <thead>\n",
       "    <tr style=\"text-align: right;\">\n",
       "      <th></th>\n",
       "      <th>Interest_Rate</th>\n",
       "      <th>Length_Employed</th>\n",
       "      <th>Loan_Amount_Requested</th>\n",
       "      <th>Annual_Income</th>\n",
       "      <th>Debt_To_Income</th>\n",
       "      <th>Inquiries_Last_6Mo</th>\n",
       "      <th>Months_Since_Deliquency</th>\n",
       "      <th>Number_Open_Accounts</th>\n",
       "      <th>Total_Accounts</th>\n",
       "      <th>Home_Owner_Mortgage</th>\n",
       "      <th>...</th>\n",
       "      <th>Purpose_Of_Loan_major_purchase</th>\n",
       "      <th>Purpose_Of_Loan_medical</th>\n",
       "      <th>Purpose_Of_Loan_moving</th>\n",
       "      <th>Purpose_Of_Loan_other</th>\n",
       "      <th>Purpose_Of_Loan_renewable_energy</th>\n",
       "      <th>Purpose_Of_Loan_small_business</th>\n",
       "      <th>Purpose_Of_Loan_vacation</th>\n",
       "      <th>Purpose_Of_Loan_wedding</th>\n",
       "      <th>Gender_Female</th>\n",
       "      <th>Gender_Male</th>\n",
       "    </tr>\n",
       "  </thead>\n",
       "  <tbody>\n",
       "    <tr>\n",
       "      <th>0</th>\n",
       "      <td>1</td>\n",
       "      <td>0.8</td>\n",
       "      <td>7000.0</td>\n",
       "      <td>68000.0</td>\n",
       "      <td>18.37</td>\n",
       "      <td>0</td>\n",
       "      <td>34.0</td>\n",
       "      <td>9</td>\n",
       "      <td>14</td>\n",
       "      <td>0</td>\n",
       "      <td>...</td>\n",
       "      <td>0</td>\n",
       "      <td>0</td>\n",
       "      <td>0</td>\n",
       "      <td>0</td>\n",
       "      <td>0</td>\n",
       "      <td>0</td>\n",
       "      <td>0</td>\n",
       "      <td>0</td>\n",
       "      <td>1</td>\n",
       "      <td>0</td>\n",
       "    </tr>\n",
       "    <tr>\n",
       "      <th>1</th>\n",
       "      <td>3</td>\n",
       "      <td>4.0</td>\n",
       "      <td>30000.0</td>\n",
       "      <td>60000.0</td>\n",
       "      <td>14.93</td>\n",
       "      <td>0</td>\n",
       "      <td>17.0</td>\n",
       "      <td>12</td>\n",
       "      <td>24</td>\n",
       "      <td>1</td>\n",
       "      <td>...</td>\n",
       "      <td>0</td>\n",
       "      <td>0</td>\n",
       "      <td>0</td>\n",
       "      <td>0</td>\n",
       "      <td>0</td>\n",
       "      <td>0</td>\n",
       "      <td>0</td>\n",
       "      <td>0</td>\n",
       "      <td>1</td>\n",
       "      <td>0</td>\n",
       "    </tr>\n",
       "    <tr>\n",
       "      <th>2</th>\n",
       "      <td>3</td>\n",
       "      <td>7.0</td>\n",
       "      <td>24725.0</td>\n",
       "      <td>75566.4</td>\n",
       "      <td>15.88</td>\n",
       "      <td>0</td>\n",
       "      <td>30.0</td>\n",
       "      <td>12</td>\n",
       "      <td>16</td>\n",
       "      <td>1</td>\n",
       "      <td>...</td>\n",
       "      <td>0</td>\n",
       "      <td>0</td>\n",
       "      <td>0</td>\n",
       "      <td>0</td>\n",
       "      <td>0</td>\n",
       "      <td>0</td>\n",
       "      <td>0</td>\n",
       "      <td>0</td>\n",
       "      <td>0</td>\n",
       "      <td>1</td>\n",
       "    </tr>\n",
       "    <tr>\n",
       "      <th>3</th>\n",
       "      <td>3</td>\n",
       "      <td>0.8</td>\n",
       "      <td>16000.0</td>\n",
       "      <td>56160.0</td>\n",
       "      <td>14.34</td>\n",
       "      <td>3</td>\n",
       "      <td>30.0</td>\n",
       "      <td>16</td>\n",
       "      <td>22</td>\n",
       "      <td>0</td>\n",
       "      <td>...</td>\n",
       "      <td>0</td>\n",
       "      <td>0</td>\n",
       "      <td>0</td>\n",
       "      <td>0</td>\n",
       "      <td>0</td>\n",
       "      <td>0</td>\n",
       "      <td>0</td>\n",
       "      <td>0</td>\n",
       "      <td>0</td>\n",
       "      <td>1</td>\n",
       "    </tr>\n",
       "    <tr>\n",
       "      <th>4</th>\n",
       "      <td>1</td>\n",
       "      <td>8.0</td>\n",
       "      <td>17000.0</td>\n",
       "      <td>96000.0</td>\n",
       "      <td>22.17</td>\n",
       "      <td>1</td>\n",
       "      <td>34.0</td>\n",
       "      <td>19</td>\n",
       "      <td>30</td>\n",
       "      <td>0</td>\n",
       "      <td>...</td>\n",
       "      <td>0</td>\n",
       "      <td>0</td>\n",
       "      <td>0</td>\n",
       "      <td>0</td>\n",
       "      <td>0</td>\n",
       "      <td>0</td>\n",
       "      <td>0</td>\n",
       "      <td>0</td>\n",
       "      <td>1</td>\n",
       "      <td>0</td>\n",
       "    </tr>\n",
       "  </tbody>\n",
       "</table>\n",
       "<p>5 rows × 33 columns</p>\n",
       "</div>"
      ],
      "text/plain": [
       "   Interest_Rate  Length_Employed  Loan_Amount_Requested  Annual_Income  \\\n",
       "0              1              0.8                 7000.0        68000.0   \n",
       "1              3              4.0                30000.0        60000.0   \n",
       "2              3              7.0                24725.0        75566.4   \n",
       "3              3              0.8                16000.0        56160.0   \n",
       "4              1              8.0                17000.0        96000.0   \n",
       "\n",
       "   Debt_To_Income  Inquiries_Last_6Mo  Months_Since_Deliquency  \\\n",
       "0           18.37                   0                     34.0   \n",
       "1           14.93                   0                     17.0   \n",
       "2           15.88                   0                     30.0   \n",
       "3           14.34                   3                     30.0   \n",
       "4           22.17                   1                     34.0   \n",
       "\n",
       "   Number_Open_Accounts  Total_Accounts  Home_Owner_Mortgage  ...  \\\n",
       "0                     9              14                    0  ...   \n",
       "1                    12              24                    1  ...   \n",
       "2                    12              16                    1  ...   \n",
       "3                    16              22                    0  ...   \n",
       "4                    19              30                    0  ...   \n",
       "\n",
       "   Purpose_Of_Loan_major_purchase  Purpose_Of_Loan_medical  \\\n",
       "0                               0                        0   \n",
       "1                               0                        0   \n",
       "2                               0                        0   \n",
       "3                               0                        0   \n",
       "4                               0                        0   \n",
       "\n",
       "   Purpose_Of_Loan_moving  Purpose_Of_Loan_other  \\\n",
       "0                       0                      0   \n",
       "1                       0                      0   \n",
       "2                       0                      0   \n",
       "3                       0                      0   \n",
       "4                       0                      0   \n",
       "\n",
       "   Purpose_Of_Loan_renewable_energy  Purpose_Of_Loan_small_business  \\\n",
       "0                                 0                               0   \n",
       "1                                 0                               0   \n",
       "2                                 0                               0   \n",
       "3                                 0                               0   \n",
       "4                                 0                               0   \n",
       "\n",
       "   Purpose_Of_Loan_vacation  Purpose_Of_Loan_wedding  Gender_Female  \\\n",
       "0                         0                        0              1   \n",
       "1                         0                        0              1   \n",
       "2                         0                        0              0   \n",
       "3                         0                        0              0   \n",
       "4                         0                        0              1   \n",
       "\n",
       "   Gender_Male  \n",
       "0            0  \n",
       "1            0  \n",
       "2            1  \n",
       "3            1  \n",
       "4            0  \n",
       "\n",
       "[5 rows x 33 columns]"
      ]
     },
     "execution_count": 136,
     "metadata": {},
     "output_type": "execute_result"
    }
   ],
   "source": [
    "train.head()"
   ]
  },
  {
   "cell_type": "code",
   "execution_count": 46,
   "metadata": {},
   "outputs": [
    {
     "data": {
      "text/plain": [
       "<AxesSubplot:xlabel='Length_Employed', ylabel='Annual_Income'>"
      ]
     },
     "execution_count": 46,
     "metadata": {},
     "output_type": "execute_result"
    },
    {
     "data": {
      "image/png": "[encoded data removed]",
      "text/plain": [
       "<Figure size 432x288 with 1 Axes>"
      ]
     },
     "metadata": {
      "needs_background": "light"
     },
     "output_type": "display_data"
    }
   ],
   "source": [
    "#Checking correaltion between Loan_Amount_Requested & Income\n",
    "sn.scatterplot(train['Length_Employed'],train['Annual_Income'])"
   ]
  },
  {
   "cell_type": "markdown",
   "metadata": {},
   "source": [
    "\n",
    "Above shows it increases little bit experience in this given data, might be as our experience scale is discrete"
   ]
  },
  {
   "cell_type": "markdown",
   "metadata": {},
   "source": [
    "# Home_Owner"
   ]
  },
  {
   "cell_type": "code",
   "execution_count": 47,
   "metadata": {},
   "outputs": [
    {
     "data": {
      "text/plain": [
       "array(['Rent', 'Mortgage', nan, 'Own', 'Other', 'None'], dtype=object)"
      ]
     },
     "execution_count": 47,
     "metadata": {},
     "output_type": "execute_result"
    }
   ],
   "source": [
    "train.Home_Owner.unique()"
   ]
  },
  {
   "cell_type": "markdown",
   "metadata": {},
   "source": [
    "To handle the missing value we will use the same aggregate techniques as used earlier for Length Employed"
   ]
  },
  {
   "cell_type": "code",
   "execution_count": 48,
   "metadata": {},
   "outputs": [
    {
     "data": {
      "text/html": [
       "<div>\n",
       "<style scoped>\n",
       "    .dataframe tbody tr th:only-of-type {\n",
       "        vertical-align: middle;\n",
       "    }\n",
       "\n",
       "    .dataframe tbody tr th {\n",
       "        vertical-align: top;\n",
       "    }\n",
       "\n",
       "    .dataframe thead tr th {\n",
       "        text-align: left;\n",
       "    }\n",
       "\n",
       "    .dataframe thead tr:last-of-type th {\n",
       "        text-align: right;\n",
       "    }\n",
       "</style>\n",
       "<table border=\"1\" class=\"dataframe\">\n",
       "  <thead>\n",
       "    <tr>\n",
       "      <th></th>\n",
       "      <th colspan=\"4\" halign=\"left\">Loan_Amount_Requested</th>\n",
       "    </tr>\n",
       "    <tr>\n",
       "      <th></th>\n",
       "      <th>mean</th>\n",
       "      <th>median</th>\n",
       "      <th>min</th>\n",
       "      <th>max</th>\n",
       "    </tr>\n",
       "    <tr>\n",
       "      <th>Home_Owner</th>\n",
       "      <th></th>\n",
       "      <th></th>\n",
       "      <th></th>\n",
       "      <th></th>\n",
       "    </tr>\n",
       "  </thead>\n",
       "  <tbody>\n",
       "    <tr>\n",
       "      <th>Mortgage</th>\n",
       "      <td>16040.132206</td>\n",
       "      <td>15000.0</td>\n",
       "      <td>500.0</td>\n",
       "      <td>35000.0</td>\n",
       "    </tr>\n",
       "    <tr>\n",
       "      <th>None</th>\n",
       "      <td>9420.000000</td>\n",
       "      <td>10375.0</td>\n",
       "      <td>2800.0</td>\n",
       "      <td>15000.0</td>\n",
       "    </tr>\n",
       "    <tr>\n",
       "      <th>Other</th>\n",
       "      <td>10642.857143</td>\n",
       "      <td>10000.0</td>\n",
       "      <td>1000.0</td>\n",
       "      <td>35000.0</td>\n",
       "    </tr>\n",
       "    <tr>\n",
       "      <th>Own</th>\n",
       "      <td>13567.704591</td>\n",
       "      <td>12000.0</td>\n",
       "      <td>900.0</td>\n",
       "      <td>35000.0</td>\n",
       "    </tr>\n",
       "    <tr>\n",
       "      <th>Rent</th>\n",
       "      <td>12443.831986</td>\n",
       "      <td>10625.0</td>\n",
       "      <td>500.0</td>\n",
       "      <td>35000.0</td>\n",
       "    </tr>\n",
       "  </tbody>\n",
       "</table>\n",
       "</div>"
      ],
      "text/plain": [
       "           Loan_Amount_Requested                          \n",
       "                            mean   median     min      max\n",
       "Home_Owner                                                \n",
       "Mortgage            16040.132206  15000.0   500.0  35000.0\n",
       "None                 9420.000000  10375.0  2800.0  15000.0\n",
       "Other               10642.857143  10000.0  1000.0  35000.0\n",
       "Own                 13567.704591  12000.0   900.0  35000.0\n",
       "Rent                12443.831986  10625.0   500.0  35000.0"
      ]
     },
     "execution_count": 48,
     "metadata": {},
     "output_type": "execute_result"
    }
   ],
   "source": [
    "train.groupby('Home_Owner').agg({'Loan_Amount_Requested':['mean','median','min','max']})"
   ]
  },
  {
   "cell_type": "code",
   "execution_count": 49,
   "metadata": {},
   "outputs": [
    {
     "data": {
      "text/html": [
       "<div>\n",
       "<style scoped>\n",
       "    .dataframe tbody tr th:only-of-type {\n",
       "        vertical-align: middle;\n",
       "    }\n",
       "\n",
       "    .dataframe tbody tr th {\n",
       "        vertical-align: top;\n",
       "    }\n",
       "\n",
       "    .dataframe thead tr th {\n",
       "        text-align: left;\n",
       "    }\n",
       "\n",
       "    .dataframe thead tr:last-of-type th {\n",
       "        text-align: right;\n",
       "    }\n",
       "</style>\n",
       "<table border=\"1\" class=\"dataframe\">\n",
       "  <thead>\n",
       "    <tr>\n",
       "      <th></th>\n",
       "      <th colspan=\"4\" halign=\"left\">Annual_Income</th>\n",
       "    </tr>\n",
       "    <tr>\n",
       "      <th></th>\n",
       "      <th>mean</th>\n",
       "      <th>median</th>\n",
       "      <th>min</th>\n",
       "      <th>max</th>\n",
       "    </tr>\n",
       "    <tr>\n",
       "      <th>Home_Owner</th>\n",
       "      <th></th>\n",
       "      <th></th>\n",
       "      <th></th>\n",
       "      <th></th>\n",
       "    </tr>\n",
       "  </thead>\n",
       "  <tbody>\n",
       "    <tr>\n",
       "      <th>Mortgage</th>\n",
       "      <td>83699.371184</td>\n",
       "      <td>72000.0</td>\n",
       "      <td>7904.04</td>\n",
       "      <td>7500000.0</td>\n",
       "    </tr>\n",
       "    <tr>\n",
       "      <th>None</th>\n",
       "      <td>70550.000000</td>\n",
       "      <td>55650.0</td>\n",
       "      <td>22200.00</td>\n",
       "      <td>150000.0</td>\n",
       "    </tr>\n",
       "    <tr>\n",
       "      <th>Other</th>\n",
       "      <td>64540.743590</td>\n",
       "      <td>57500.0</td>\n",
       "      <td>11389.00</td>\n",
       "      <td>186000.0</td>\n",
       "    </tr>\n",
       "    <tr>\n",
       "      <th>Own</th>\n",
       "      <td>66104.826361</td>\n",
       "      <td>55000.0</td>\n",
       "      <td>4000.00</td>\n",
       "      <td>1200000.0</td>\n",
       "    </tr>\n",
       "    <tr>\n",
       "      <th>Rent</th>\n",
       "      <td>62077.534637</td>\n",
       "      <td>54000.0</td>\n",
       "      <td>4000.00</td>\n",
       "      <td>1950000.0</td>\n",
       "    </tr>\n",
       "  </tbody>\n",
       "</table>\n",
       "</div>"
      ],
      "text/plain": [
       "           Annual_Income                              \n",
       "                    mean   median       min        max\n",
       "Home_Owner                                            \n",
       "Mortgage    83699.371184  72000.0   7904.04  7500000.0\n",
       "None        70550.000000  55650.0  22200.00   150000.0\n",
       "Other       64540.743590  57500.0  11389.00   186000.0\n",
       "Own         66104.826361  55000.0   4000.00  1200000.0\n",
       "Rent        62077.534637  54000.0   4000.00  1950000.0"
      ]
     },
     "execution_count": 49,
     "metadata": {},
     "output_type": "execute_result"
    }
   ],
   "source": [
    "train.groupby('Home_Owner').agg({'Annual_Income':['mean','median','min','max']})"
   ]
  },
  {
   "cell_type": "code",
   "execution_count": 50,
   "metadata": {},
   "outputs": [
    {
     "data": {
      "text/plain": [
       "Loan_Amount_Requested      12000.0\n",
       "Length_Employed                6.0\n",
       "Home_Owner                     NaN\n",
       "Annual_Income              62000.0\n",
       "Debt_To_Income                16.9\n",
       "Inquiries_Last_6Mo             0.0\n",
       "Months_Since_Deliquency       32.0\n",
       "Number_Open_Accounts          10.0\n",
       "Total_Accounts                23.0\n",
       "Interest_Rate                  2.0\n",
       "dtype: float64"
      ]
     },
     "execution_count": 50,
     "metadata": {},
     "output_type": "execute_result"
    }
   ],
   "source": [
    "train[train['Home_Owner'].isnull()].median(axis=0)"
   ]
  },
  {
   "cell_type": "code",
   "execution_count": 51,
   "metadata": {},
   "outputs": [
    {
     "data": {
      "text/plain": [
       "Loan_Amount_Requested      14264.489723\n",
       "Length_Employed                5.834873\n",
       "Home_Owner                          NaN\n",
       "Annual_Income              73070.153357\n",
       "Debt_To_Income                17.265033\n",
       "Inquiries_Last_6Mo             0.787250\n",
       "Months_Since_Deliquency       34.465663\n",
       "Number_Open_Accounts          11.158468\n",
       "Total_Accounts                24.945087\n",
       "Interest_Rate                  2.161703\n",
       "dtype: float64"
      ]
     },
     "execution_count": 51,
     "metadata": {},
     "output_type": "execute_result"
    }
   ],
   "source": [
    "train[train['Home_Owner'].isnull()].mean(axis=0)"
   ]
  },
  {
   "cell_type": "code",
   "execution_count": 52,
   "metadata": {},
   "outputs": [],
   "source": [
    "train['Home_Owner'].fillna('Own',inplace=True)"
   ]
  },
  {
   "cell_type": "code",
   "execution_count": 53,
   "metadata": {},
   "outputs": [
    {
     "data": {
      "text/plain": [
       "0"
      ]
     },
     "execution_count": 53,
     "metadata": {},
     "output_type": "execute_result"
    }
   ],
   "source": [
    "train['Home_Owner'].isnull().sum()"
   ]
  },
  {
   "cell_type": "code",
   "execution_count": 54,
   "metadata": {},
   "outputs": [
    {
     "name": "stdout",
     "output_type": "stream",
     "text": [
      "<class 'pandas.core.frame.DataFrame'>\n",
      "RangeIndex: 164309 entries, 0 to 164308\n",
      "Data columns (total 13 columns):\n",
      " #   Column                   Non-Null Count   Dtype  \n",
      "---  ------                   --------------   -----  \n",
      " 0   Loan_Amount_Requested    164309 non-null  float64\n",
      " 1   Length_Employed          164309 non-null  float64\n",
      " 2   Home_Owner               164309 non-null  object \n",
      " 3   Annual_Income            139207 non-null  float64\n",
      " 4   Income_Verified          164309 non-null  object \n",
      " 5   Purpose_Of_Loan          164309 non-null  object \n",
      " 6   Debt_To_Income           164309 non-null  float64\n",
      " 7   Inquiries_Last_6Mo       164309 non-null  int64  \n",
      " 8   Months_Since_Deliquency  75930 non-null   float64\n",
      " 9   Number_Open_Accounts     164309 non-null  int64  \n",
      " 10  Total_Accounts           164309 non-null  int64  \n",
      " 11  Gender                   164309 non-null  object \n",
      " 12  Interest_Rate            164309 non-null  int64  \n",
      "dtypes: float64(5), int64(4), object(4)\n",
      "memory usage: 16.3+ MB\n"
     ]
    }
   ],
   "source": [
    "train.info()"
   ]
  },
  {
   "cell_type": "code",
   "execution_count": 55,
   "metadata": {},
   "outputs": [
    {
     "data": {
      "text/html": [
       "<div>\n",
       "<style scoped>\n",
       "    .dataframe tbody tr th:only-of-type {\n",
       "        vertical-align: middle;\n",
       "    }\n",
       "\n",
       "    .dataframe tbody tr th {\n",
       "        vertical-align: top;\n",
       "    }\n",
       "\n",
       "    .dataframe thead th {\n",
       "        text-align: right;\n",
       "    }\n",
       "</style>\n",
       "<table border=\"1\" class=\"dataframe\">\n",
       "  <thead>\n",
       "    <tr style=\"text-align: right;\">\n",
       "      <th></th>\n",
       "      <th>Loan_Amount_Requested</th>\n",
       "      <th>Length_Employed</th>\n",
       "      <th>Home_Owner</th>\n",
       "      <th>Annual_Income</th>\n",
       "      <th>Income_Verified</th>\n",
       "      <th>Purpose_Of_Loan</th>\n",
       "      <th>Debt_To_Income</th>\n",
       "      <th>Inquiries_Last_6Mo</th>\n",
       "      <th>Months_Since_Deliquency</th>\n",
       "      <th>Number_Open_Accounts</th>\n",
       "      <th>Total_Accounts</th>\n",
       "      <th>Gender</th>\n",
       "      <th>Interest_Rate</th>\n",
       "    </tr>\n",
       "  </thead>\n",
       "  <tbody>\n",
       "    <tr>\n",
       "      <th>0</th>\n",
       "      <td>7000.0</td>\n",
       "      <td>0.8</td>\n",
       "      <td>Rent</td>\n",
       "      <td>68000.0</td>\n",
       "      <td>not verified</td>\n",
       "      <td>car</td>\n",
       "      <td>18.37</td>\n",
       "      <td>0</td>\n",
       "      <td>NaN</td>\n",
       "      <td>9</td>\n",
       "      <td>14</td>\n",
       "      <td>Female</td>\n",
       "      <td>1</td>\n",
       "    </tr>\n",
       "    <tr>\n",
       "      <th>1</th>\n",
       "      <td>30000.0</td>\n",
       "      <td>4.0</td>\n",
       "      <td>Mortgage</td>\n",
       "      <td>NaN</td>\n",
       "      <td>VERIFIED - income</td>\n",
       "      <td>debt_consolidation</td>\n",
       "      <td>14.93</td>\n",
       "      <td>0</td>\n",
       "      <td>17.0</td>\n",
       "      <td>12</td>\n",
       "      <td>24</td>\n",
       "      <td>Female</td>\n",
       "      <td>3</td>\n",
       "    </tr>\n",
       "    <tr>\n",
       "      <th>2</th>\n",
       "      <td>24725.0</td>\n",
       "      <td>7.0</td>\n",
       "      <td>Mortgage</td>\n",
       "      <td>75566.4</td>\n",
       "      <td>VERIFIED - income source</td>\n",
       "      <td>debt_consolidation</td>\n",
       "      <td>15.88</td>\n",
       "      <td>0</td>\n",
       "      <td>NaN</td>\n",
       "      <td>12</td>\n",
       "      <td>16</td>\n",
       "      <td>Male</td>\n",
       "      <td>3</td>\n",
       "    </tr>\n",
       "    <tr>\n",
       "      <th>3</th>\n",
       "      <td>16000.0</td>\n",
       "      <td>0.8</td>\n",
       "      <td>Own</td>\n",
       "      <td>56160.0</td>\n",
       "      <td>VERIFIED - income source</td>\n",
       "      <td>debt_consolidation</td>\n",
       "      <td>14.34</td>\n",
       "      <td>3</td>\n",
       "      <td>NaN</td>\n",
       "      <td>16</td>\n",
       "      <td>22</td>\n",
       "      <td>Male</td>\n",
       "      <td>3</td>\n",
       "    </tr>\n",
       "    <tr>\n",
       "      <th>4</th>\n",
       "      <td>17000.0</td>\n",
       "      <td>8.0</td>\n",
       "      <td>Own</td>\n",
       "      <td>96000.0</td>\n",
       "      <td>VERIFIED - income source</td>\n",
       "      <td>debt_consolidation</td>\n",
       "      <td>22.17</td>\n",
       "      <td>1</td>\n",
       "      <td>NaN</td>\n",
       "      <td>19</td>\n",
       "      <td>30</td>\n",
       "      <td>Female</td>\n",
       "      <td>1</td>\n",
       "    </tr>\n",
       "  </tbody>\n",
       "</table>\n",
       "</div>"
      ],
      "text/plain": [
       "   Loan_Amount_Requested  Length_Employed Home_Owner  Annual_Income  \\\n",
       "0                 7000.0              0.8       Rent        68000.0   \n",
       "1                30000.0              4.0   Mortgage            NaN   \n",
       "2                24725.0              7.0   Mortgage        75566.4   \n",
       "3                16000.0              0.8        Own        56160.0   \n",
       "4                17000.0              8.0        Own        96000.0   \n",
       "\n",
       "            Income_Verified     Purpose_Of_Loan  Debt_To_Income  \\\n",
       "0              not verified                 car           18.37   \n",
       "1         VERIFIED - income  debt_consolidation           14.93   \n",
       "2  VERIFIED - income source  debt_consolidation           15.88   \n",
       "3  VERIFIED - income source  debt_consolidation           14.34   \n",
       "4  VERIFIED - income source  debt_consolidation           22.17   \n",
       "\n",
       "   Inquiries_Last_6Mo  Months_Since_Deliquency  Number_Open_Accounts  \\\n",
       "0                   0                      NaN                     9   \n",
       "1                   0                     17.0                    12   \n",
       "2                   0                      NaN                    12   \n",
       "3                   3                      NaN                    16   \n",
       "4                   1                      NaN                    19   \n",
       "\n",
       "   Total_Accounts  Gender  Interest_Rate  \n",
       "0              14  Female              1  \n",
       "1              24  Female              3  \n",
       "2              16    Male              3  \n",
       "3              22    Male              3  \n",
       "4              30  Female              1  "
      ]
     },
     "execution_count": 55,
     "metadata": {},
     "output_type": "execute_result"
    }
   ],
   "source": [
    "train.head()"
   ]
  },
  {
   "cell_type": "markdown",
   "metadata": {},
   "source": [
    "\n",
    "Change of thoughts!! Will deal with categorical values in the end, First will finish for missing values"
   ]
  },
  {
   "cell_type": "markdown",
   "metadata": {},
   "source": [
    "# Annual_Income"
   ]
  },
  {
   "cell_type": "code",
   "execution_count": 56,
   "metadata": {},
   "outputs": [
    {
     "data": {
      "text/plain": [
       "25102"
      ]
     },
     "execution_count": 56,
     "metadata": {},
     "output_type": "execute_result"
    }
   ],
   "source": [
    "train.Annual_Income.isnull().sum()"
   ]
  },
  {
   "cell_type": "markdown",
   "metadata": {},
   "source": [
    "\n",
    "We will not directly replace the mssing annual income value with a single aggregate , rather we assume that length employed might be a better fill for income , as income for a 10+ years employees will not be comparable to 1 year exp employee (off course there can be outliers) Also in the data looks like some outliers for income so we will chose median instead of mean"
   ]
  },
  {
   "cell_type": "code",
   "execution_count": 57,
   "metadata": {},
   "outputs": [],
   "source": [
    "Avg_income=train.groupby('Length_Employed')['Annual_Income'].median()"
   ]
  },
  {
   "cell_type": "code",
   "execution_count": 58,
   "metadata": {},
   "outputs": [],
   "source": [
    "train = train.set_index(['Length_Employed'])"
   ]
  },
  {
   "cell_type": "code",
   "execution_count": 59,
   "metadata": {},
   "outputs": [],
   "source": [
    "train['Annual_Income'].fillna(Avg_income,inplace=True)"
   ]
  },
  {
   "cell_type": "code",
   "execution_count": 60,
   "metadata": {},
   "outputs": [
    {
     "data": {
      "text/plain": [
       "0"
      ]
     },
     "execution_count": 60,
     "metadata": {},
     "output_type": "execute_result"
    }
   ],
   "source": [
    "train['Annual_Income'].isnull().sum()"
   ]
  },
  {
   "cell_type": "code",
   "execution_count": 61,
   "metadata": {},
   "outputs": [],
   "source": [
    "train =train.reset_index()"
   ]
  },
  {
   "cell_type": "code",
   "execution_count": 134,
   "metadata": {},
   "outputs": [
    {
     "data": {
      "text/html": [
       "<div>\n",
       "<style scoped>\n",
       "    .dataframe tbody tr th:only-of-type {\n",
       "        vertical-align: middle;\n",
       "    }\n",
       "\n",
       "    .dataframe tbody tr th {\n",
       "        vertical-align: top;\n",
       "    }\n",
       "\n",
       "    .dataframe thead th {\n",
       "        text-align: right;\n",
       "    }\n",
       "</style>\n",
       "<table border=\"1\" class=\"dataframe\">\n",
       "  <thead>\n",
       "    <tr style=\"text-align: right;\">\n",
       "      <th></th>\n",
       "      <th>Interest_Rate</th>\n",
       "      <th>Length_Employed</th>\n",
       "      <th>Loan_Amount_Requested</th>\n",
       "      <th>Annual_Income</th>\n",
       "      <th>Debt_To_Income</th>\n",
       "      <th>Inquiries_Last_6Mo</th>\n",
       "      <th>Months_Since_Deliquency</th>\n",
       "      <th>Number_Open_Accounts</th>\n",
       "      <th>Total_Accounts</th>\n",
       "      <th>Home_Owner_Mortgage</th>\n",
       "      <th>...</th>\n",
       "      <th>Purpose_Of_Loan_major_purchase</th>\n",
       "      <th>Purpose_Of_Loan_medical</th>\n",
       "      <th>Purpose_Of_Loan_moving</th>\n",
       "      <th>Purpose_Of_Loan_other</th>\n",
       "      <th>Purpose_Of_Loan_renewable_energy</th>\n",
       "      <th>Purpose_Of_Loan_small_business</th>\n",
       "      <th>Purpose_Of_Loan_vacation</th>\n",
       "      <th>Purpose_Of_Loan_wedding</th>\n",
       "      <th>Gender_Female</th>\n",
       "      <th>Gender_Male</th>\n",
       "    </tr>\n",
       "  </thead>\n",
       "  <tbody>\n",
       "    <tr>\n",
       "      <th>0</th>\n",
       "      <td>1</td>\n",
       "      <td>0.8</td>\n",
       "      <td>7000.0</td>\n",
       "      <td>68000.0</td>\n",
       "      <td>18.37</td>\n",
       "      <td>0</td>\n",
       "      <td>34.0</td>\n",
       "      <td>9</td>\n",
       "      <td>14</td>\n",
       "      <td>0</td>\n",
       "      <td>...</td>\n",
       "      <td>0</td>\n",
       "      <td>0</td>\n",
       "      <td>0</td>\n",
       "      <td>0</td>\n",
       "      <td>0</td>\n",
       "      <td>0</td>\n",
       "      <td>0</td>\n",
       "      <td>0</td>\n",
       "      <td>1</td>\n",
       "      <td>0</td>\n",
       "    </tr>\n",
       "    <tr>\n",
       "      <th>1</th>\n",
       "      <td>3</td>\n",
       "      <td>4.0</td>\n",
       "      <td>30000.0</td>\n",
       "      <td>60000.0</td>\n",
       "      <td>14.93</td>\n",
       "      <td>0</td>\n",
       "      <td>17.0</td>\n",
       "      <td>12</td>\n",
       "      <td>24</td>\n",
       "      <td>1</td>\n",
       "      <td>...</td>\n",
       "      <td>0</td>\n",
       "      <td>0</td>\n",
       "      <td>0</td>\n",
       "      <td>0</td>\n",
       "      <td>0</td>\n",
       "      <td>0</td>\n",
       "      <td>0</td>\n",
       "      <td>0</td>\n",
       "      <td>1</td>\n",
       "      <td>0</td>\n",
       "    </tr>\n",
       "    <tr>\n",
       "      <th>2</th>\n",
       "      <td>3</td>\n",
       "      <td>7.0</td>\n",
       "      <td>24725.0</td>\n",
       "      <td>75566.4</td>\n",
       "      <td>15.88</td>\n",
       "      <td>0</td>\n",
       "      <td>30.0</td>\n",
       "      <td>12</td>\n",
       "      <td>16</td>\n",
       "      <td>1</td>\n",
       "      <td>...</td>\n",
       "      <td>0</td>\n",
       "      <td>0</td>\n",
       "      <td>0</td>\n",
       "      <td>0</td>\n",
       "      <td>0</td>\n",
       "      <td>0</td>\n",
       "      <td>0</td>\n",
       "      <td>0</td>\n",
       "      <td>0</td>\n",
       "      <td>1</td>\n",
       "    </tr>\n",
       "    <tr>\n",
       "      <th>3</th>\n",
       "      <td>3</td>\n",
       "      <td>0.8</td>\n",
       "      <td>16000.0</td>\n",
       "      <td>56160.0</td>\n",
       "      <td>14.34</td>\n",
       "      <td>3</td>\n",
       "      <td>30.0</td>\n",
       "      <td>16</td>\n",
       "      <td>22</td>\n",
       "      <td>0</td>\n",
       "      <td>...</td>\n",
       "      <td>0</td>\n",
       "      <td>0</td>\n",
       "      <td>0</td>\n",
       "      <td>0</td>\n",
       "      <td>0</td>\n",
       "      <td>0</td>\n",
       "      <td>0</td>\n",
       "      <td>0</td>\n",
       "      <td>0</td>\n",
       "      <td>1</td>\n",
       "    </tr>\n",
       "    <tr>\n",
       "      <th>4</th>\n",
       "      <td>1</td>\n",
       "      <td>8.0</td>\n",
       "      <td>17000.0</td>\n",
       "      <td>96000.0</td>\n",
       "      <td>22.17</td>\n",
       "      <td>1</td>\n",
       "      <td>34.0</td>\n",
       "      <td>19</td>\n",
       "      <td>30</td>\n",
       "      <td>0</td>\n",
       "      <td>...</td>\n",
       "      <td>0</td>\n",
       "      <td>0</td>\n",
       "      <td>0</td>\n",
       "      <td>0</td>\n",
       "      <td>0</td>\n",
       "      <td>0</td>\n",
       "      <td>0</td>\n",
       "      <td>0</td>\n",
       "      <td>1</td>\n",
       "      <td>0</td>\n",
       "    </tr>\n",
       "  </tbody>\n",
       "</table>\n",
       "<p>5 rows × 33 columns</p>\n",
       "</div>"
      ],
      "text/plain": [
       "   Interest_Rate  Length_Employed  Loan_Amount_Requested  Annual_Income  \\\n",
       "0              1              0.8                 7000.0        68000.0   \n",
       "1              3              4.0                30000.0        60000.0   \n",
       "2              3              7.0                24725.0        75566.4   \n",
       "3              3              0.8                16000.0        56160.0   \n",
       "4              1              8.0                17000.0        96000.0   \n",
       "\n",
       "   Debt_To_Income  Inquiries_Last_6Mo  Months_Since_Deliquency  \\\n",
       "0           18.37                   0                     34.0   \n",
       "1           14.93                   0                     17.0   \n",
       "2           15.88                   0                     30.0   \n",
       "3           14.34                   3                     30.0   \n",
       "4           22.17                   1                     34.0   \n",
       "\n",
       "   Number_Open_Accounts  Total_Accounts  Home_Owner_Mortgage  ...  \\\n",
       "0                     9              14                    0  ...   \n",
       "1                    12              24                    1  ...   \n",
       "2                    12              16                    1  ...   \n",
       "3                    16              22                    0  ...   \n",
       "4                    19              30                    0  ...   \n",
       "\n",
       "   Purpose_Of_Loan_major_purchase  Purpose_Of_Loan_medical  \\\n",
       "0                               0                        0   \n",
       "1                               0                        0   \n",
       "2                               0                        0   \n",
       "3                               0                        0   \n",
       "4                               0                        0   \n",
       "\n",
       "   Purpose_Of_Loan_moving  Purpose_Of_Loan_other  \\\n",
       "0                       0                      0   \n",
       "1                       0                      0   \n",
       "2                       0                      0   \n",
       "3                       0                      0   \n",
       "4                       0                      0   \n",
       "\n",
       "   Purpose_Of_Loan_renewable_energy  Purpose_Of_Loan_small_business  \\\n",
       "0                                 0                               0   \n",
       "1                                 0                               0   \n",
       "2                                 0                               0   \n",
       "3                                 0                               0   \n",
       "4                                 0                               0   \n",
       "\n",
       "   Purpose_Of_Loan_vacation  Purpose_Of_Loan_wedding  Gender_Female  \\\n",
       "0                         0                        0              1   \n",
       "1                         0                        0              1   \n",
       "2                         0                        0              0   \n",
       "3                         0                        0              0   \n",
       "4                         0                        0              1   \n",
       "\n",
       "   Gender_Male  \n",
       "0            0  \n",
       "1            0  \n",
       "2            1  \n",
       "3            1  \n",
       "4            0  \n",
       "\n",
       "[5 rows x 33 columns]"
      ]
     },
     "execution_count": 134,
     "metadata": {},
     "output_type": "execute_result"
    }
   ],
   "source": [
    "train.head()"
   ]
  },
  {
   "cell_type": "code",
   "execution_count": 63,
   "metadata": {},
   "outputs": [
    {
     "name": "stdout",
     "output_type": "stream",
     "text": [
      "<class 'pandas.core.frame.DataFrame'>\n",
      "RangeIndex: 164309 entries, 0 to 164308\n",
      "Data columns (total 13 columns):\n",
      " #   Column                   Non-Null Count   Dtype  \n",
      "---  ------                   --------------   -----  \n",
      " 0   Length_Employed          164309 non-null  float64\n",
      " 1   Loan_Amount_Requested    164309 non-null  float64\n",
      " 2   Home_Owner               164309 non-null  object \n",
      " 3   Annual_Income            164309 non-null  float64\n",
      " 4   Income_Verified          164309 non-null  object \n",
      " 5   Purpose_Of_Loan          164309 non-null  object \n",
      " 6   Debt_To_Income           164309 non-null  float64\n",
      " 7   Inquiries_Last_6Mo       164309 non-null  int64  \n",
      " 8   Months_Since_Deliquency  75930 non-null   float64\n",
      " 9   Number_Open_Accounts     164309 non-null  int64  \n",
      " 10  Total_Accounts           164309 non-null  int64  \n",
      " 11  Gender                   164309 non-null  object \n",
      " 12  Interest_Rate            164309 non-null  int64  \n",
      "dtypes: float64(5), int64(4), object(4)\n",
      "memory usage: 16.3+ MB\n"
     ]
    }
   ],
   "source": [
    "train.info()"
   ]
  },
  {
   "cell_type": "markdown",
   "metadata": {},
   "source": [
    "# Months_Since_Deliquency"
   ]
  },
  {
   "cell_type": "code",
   "execution_count": 64,
   "metadata": {},
   "outputs": [
    {
     "data": {
      "text/plain": [
       "88379"
      ]
     },
     "execution_count": 64,
     "metadata": {},
     "output_type": "execute_result"
    }
   ],
   "source": [
    "train['Months_Since_Deliquency'].isnull().sum()"
   ]
  },
  {
   "cell_type": "code",
   "execution_count": 65,
   "metadata": {},
   "outputs": [
    {
     "data": {
      "text/plain": [
       "array([ nan,  17.,  16.,  68.,  13.,   6.,  64.,  10.,  63.,  33.,  22.,\n",
       "        28.,   8.,  26.,  41.,  46.,  62.,  21.,  12.,  52.,   3.,  65.,\n",
       "        43.,  53.,  44.,   1.,  11.,  71.,  23.,  15.,  48.,  39.,  30.,\n",
       "        32.,  18.,  24.,  47.,  66.,  19.,  76.,   4.,  29.,  45.,  38.,\n",
       "        56.,  37.,  20.,  35.,   2.,   9.,  34.,  14.,  59.,  36.,  50.,\n",
       "        81.,  72.,  69.,  57.,  25.,   7.,  49.,  31.,  78.,  70.,  27.,\n",
       "         5.,  51.,  58.,  75.,  42.,  74.,  40.,  67.,  61.,  55.,  77.,\n",
       "        54.,   0.,  60.,  73.,  79.,  82.,  80.,  83.,  88., 127., 106.,\n",
       "        99.,  97., 139.,  96., 119., 116.,  94., 141.,  86.,  91.,  84.,\n",
       "        85.,  95.,  90.,  87., 103., 101., 121., 148.,  93., 122.,  92.,\n",
       "       180., 105., 110., 129., 130., 135., 114., 102., 111.,  98., 131.,\n",
       "       107., 170.])"
      ]
     },
     "execution_count": 65,
     "metadata": {},
     "output_type": "execute_result"
    }
   ],
   "source": [
    "train['Months_Since_Deliquency'].unique()"
   ]
  },
  {
   "cell_type": "code",
   "execution_count": 66,
   "metadata": {},
   "outputs": [
    {
     "data": {
      "text/plain": [
       "180.0"
      ]
     },
     "execution_count": 66,
     "metadata": {},
     "output_type": "execute_result"
    }
   ],
   "source": [
    "train['Months_Since_Deliquency'].max()"
   ]
  },
  {
   "cell_type": "code",
   "execution_count": 67,
   "metadata": {},
   "outputs": [
    {
     "data": {
      "text/plain": [
       "0.0"
      ]
     },
     "execution_count": 67,
     "metadata": {},
     "output_type": "execute_result"
    }
   ],
   "source": [
    "train['Months_Since_Deliquency'].min()"
   ]
  },
  {
   "cell_type": "code",
   "execution_count": 68,
   "metadata": {},
   "outputs": [
    {
     "data": {
      "text/plain": [
       "123"
      ]
     },
     "execution_count": 68,
     "metadata": {},
     "output_type": "execute_result"
    }
   ],
   "source": [
    "len(train['Months_Since_Deliquency'].unique())"
   ]
  },
  {
   "cell_type": "code",
   "execution_count": 69,
   "metadata": {},
   "outputs": [
    {
     "data": {
      "text/plain": [
       "Interest_Rate\n",
       "1    36.345819\n",
       "2    34.220648\n",
       "3    33.434987\n",
       "Name: Months_Since_Deliquency, dtype: float64"
      ]
     },
     "execution_count": 69,
     "metadata": {},
     "output_type": "execute_result"
    }
   ],
   "source": [
    "train.groupby('Interest_Rate')['Months_Since_Deliquency'].mean()"
   ]
  },
  {
   "cell_type": "code",
   "execution_count": 70,
   "metadata": {},
   "outputs": [],
   "source": [
    "Avg_deliq=train.groupby('Interest_Rate')['Months_Since_Deliquency'].median()"
   ]
  },
  {
   "cell_type": "code",
   "execution_count": 71,
   "metadata": {},
   "outputs": [],
   "source": [
    "train = train.set_index('Interest_Rate')"
   ]
  },
  {
   "cell_type": "code",
   "execution_count": 72,
   "metadata": {},
   "outputs": [],
   "source": [
    "train['Months_Since_Deliquency'].fillna(Avg_deliq,inplace=True)"
   ]
  },
  {
   "cell_type": "code",
   "execution_count": 73,
   "metadata": {},
   "outputs": [
    {
     "data": {
      "text/plain": [
       "0"
      ]
     },
     "execution_count": 73,
     "metadata": {},
     "output_type": "execute_result"
    }
   ],
   "source": [
    "train['Months_Since_Deliquency'].isnull().sum()"
   ]
  },
  {
   "cell_type": "code",
   "execution_count": 74,
   "metadata": {},
   "outputs": [],
   "source": [
    "train=train.reset_index()"
   ]
  },
  {
   "cell_type": "code",
   "execution_count": 75,
   "metadata": {},
   "outputs": [
    {
     "data": {
      "text/html": [
       "<div>\n",
       "<style scoped>\n",
       "    .dataframe tbody tr th:only-of-type {\n",
       "        vertical-align: middle;\n",
       "    }\n",
       "\n",
       "    .dataframe tbody tr th {\n",
       "        vertical-align: top;\n",
       "    }\n",
       "\n",
       "    .dataframe thead th {\n",
       "        text-align: right;\n",
       "    }\n",
       "</style>\n",
       "<table border=\"1\" class=\"dataframe\">\n",
       "  <thead>\n",
       "    <tr style=\"text-align: right;\">\n",
       "      <th></th>\n",
       "      <th>Interest_Rate</th>\n",
       "      <th>Length_Employed</th>\n",
       "      <th>Loan_Amount_Requested</th>\n",
       "      <th>Home_Owner</th>\n",
       "      <th>Annual_Income</th>\n",
       "      <th>Income_Verified</th>\n",
       "      <th>Purpose_Of_Loan</th>\n",
       "      <th>Debt_To_Income</th>\n",
       "      <th>Inquiries_Last_6Mo</th>\n",
       "      <th>Months_Since_Deliquency</th>\n",
       "      <th>Number_Open_Accounts</th>\n",
       "      <th>Total_Accounts</th>\n",
       "      <th>Gender</th>\n",
       "    </tr>\n",
       "  </thead>\n",
       "  <tbody>\n",
       "    <tr>\n",
       "      <th>0</th>\n",
       "      <td>1</td>\n",
       "      <td>0.8</td>\n",
       "      <td>7000.0</td>\n",
       "      <td>Rent</td>\n",
       "      <td>68000.0</td>\n",
       "      <td>not verified</td>\n",
       "      <td>car</td>\n",
       "      <td>18.37</td>\n",
       "      <td>0</td>\n",
       "      <td>34.0</td>\n",
       "      <td>9</td>\n",
       "      <td>14</td>\n",
       "      <td>Female</td>\n",
       "    </tr>\n",
       "    <tr>\n",
       "      <th>1</th>\n",
       "      <td>3</td>\n",
       "      <td>4.0</td>\n",
       "      <td>30000.0</td>\n",
       "      <td>Mortgage</td>\n",
       "      <td>60000.0</td>\n",
       "      <td>VERIFIED - income</td>\n",
       "      <td>debt_consolidation</td>\n",
       "      <td>14.93</td>\n",
       "      <td>0</td>\n",
       "      <td>17.0</td>\n",
       "      <td>12</td>\n",
       "      <td>24</td>\n",
       "      <td>Female</td>\n",
       "    </tr>\n",
       "    <tr>\n",
       "      <th>2</th>\n",
       "      <td>3</td>\n",
       "      <td>7.0</td>\n",
       "      <td>24725.0</td>\n",
       "      <td>Mortgage</td>\n",
       "      <td>75566.4</td>\n",
       "      <td>VERIFIED - income source</td>\n",
       "      <td>debt_consolidation</td>\n",
       "      <td>15.88</td>\n",
       "      <td>0</td>\n",
       "      <td>30.0</td>\n",
       "      <td>12</td>\n",
       "      <td>16</td>\n",
       "      <td>Male</td>\n",
       "    </tr>\n",
       "    <tr>\n",
       "      <th>3</th>\n",
       "      <td>3</td>\n",
       "      <td>0.8</td>\n",
       "      <td>16000.0</td>\n",
       "      <td>Own</td>\n",
       "      <td>56160.0</td>\n",
       "      <td>VERIFIED - income source</td>\n",
       "      <td>debt_consolidation</td>\n",
       "      <td>14.34</td>\n",
       "      <td>3</td>\n",
       "      <td>30.0</td>\n",
       "      <td>16</td>\n",
       "      <td>22</td>\n",
       "      <td>Male</td>\n",
       "    </tr>\n",
       "    <tr>\n",
       "      <th>4</th>\n",
       "      <td>1</td>\n",
       "      <td>8.0</td>\n",
       "      <td>17000.0</td>\n",
       "      <td>Own</td>\n",
       "      <td>96000.0</td>\n",
       "      <td>VERIFIED - income source</td>\n",
       "      <td>debt_consolidation</td>\n",
       "      <td>22.17</td>\n",
       "      <td>1</td>\n",
       "      <td>34.0</td>\n",
       "      <td>19</td>\n",
       "      <td>30</td>\n",
       "      <td>Female</td>\n",
       "    </tr>\n",
       "  </tbody>\n",
       "</table>\n",
       "</div>"
      ],
      "text/plain": [
       "   Interest_Rate  Length_Employed  Loan_Amount_Requested Home_Owner  \\\n",
       "0              1              0.8                 7000.0       Rent   \n",
       "1              3              4.0                30000.0   Mortgage   \n",
       "2              3              7.0                24725.0   Mortgage   \n",
       "3              3              0.8                16000.0        Own   \n",
       "4              1              8.0                17000.0        Own   \n",
       "\n",
       "   Annual_Income           Income_Verified     Purpose_Of_Loan  \\\n",
       "0        68000.0              not verified                 car   \n",
       "1        60000.0         VERIFIED - income  debt_consolidation   \n",
       "2        75566.4  VERIFIED - income source  debt_consolidation   \n",
       "3        56160.0  VERIFIED - income source  debt_consolidation   \n",
       "4        96000.0  VERIFIED - income source  debt_consolidation   \n",
       "\n",
       "   Debt_To_Income  Inquiries_Last_6Mo  Months_Since_Deliquency  \\\n",
       "0           18.37                   0                     34.0   \n",
       "1           14.93                   0                     17.0   \n",
       "2           15.88                   0                     30.0   \n",
       "3           14.34                   3                     30.0   \n",
       "4           22.17                   1                     34.0   \n",
       "\n",
       "   Number_Open_Accounts  Total_Accounts  Gender  \n",
       "0                     9              14  Female  \n",
       "1                    12              24  Female  \n",
       "2                    12              16    Male  \n",
       "3                    16              22    Male  \n",
       "4                    19              30  Female  "
      ]
     },
     "execution_count": 75,
     "metadata": {},
     "output_type": "execute_result"
    }
   ],
   "source": [
    "train.head()"
   ]
  },
  {
   "cell_type": "code",
   "execution_count": 76,
   "metadata": {},
   "outputs": [
    {
     "name": "stdout",
     "output_type": "stream",
     "text": [
      "<class 'pandas.core.frame.DataFrame'>\n",
      "RangeIndex: 164309 entries, 0 to 164308\n",
      "Data columns (total 13 columns):\n",
      " #   Column                   Non-Null Count   Dtype  \n",
      "---  ------                   --------------   -----  \n",
      " 0   Interest_Rate            164309 non-null  int64  \n",
      " 1   Length_Employed          164309 non-null  float64\n",
      " 2   Loan_Amount_Requested    164309 non-null  float64\n",
      " 3   Home_Owner               164309 non-null  object \n",
      " 4   Annual_Income            164309 non-null  float64\n",
      " 5   Income_Verified          164309 non-null  object \n",
      " 6   Purpose_Of_Loan          164309 non-null  object \n",
      " 7   Debt_To_Income           164309 non-null  float64\n",
      " 8   Inquiries_Last_6Mo       164309 non-null  int64  \n",
      " 9   Months_Since_Deliquency  164309 non-null  float64\n",
      " 10  Number_Open_Accounts     164309 non-null  int64  \n",
      " 11  Total_Accounts           164309 non-null  int64  \n",
      " 12  Gender                   164309 non-null  object \n",
      "dtypes: float64(5), int64(4), object(4)\n",
      "memory usage: 16.3+ MB\n"
     ]
    }
   ],
   "source": [
    "train.info()"
   ]
  },
  {
   "cell_type": "code",
   "execution_count": 77,
   "metadata": {},
   "outputs": [
    {
     "data": {
      "text/plain": [
       "array(['not verified', 'VERIFIED - income', 'VERIFIED - income source'],\n",
       "      dtype=object)"
      ]
     },
     "execution_count": 77,
     "metadata": {},
     "output_type": "execute_result"
    }
   ],
   "source": [
    "train['Income_Verified'].unique()"
   ]
  },
  {
   "cell_type": "code",
   "execution_count": 78,
   "metadata": {},
   "outputs": [
    {
     "data": {
      "text/plain": [
       "array(['car', 'debt_consolidation', 'credit_card', 'home_improvement',\n",
       "       'major_purchase', 'other', 'medical', 'small_business', 'moving',\n",
       "       'wedding', 'vacation', 'house', 'educational', 'renewable_energy'],\n",
       "      dtype=object)"
      ]
     },
     "execution_count": 78,
     "metadata": {},
     "output_type": "execute_result"
    }
   ],
   "source": [
    "train['Purpose_Of_Loan'].unique()"
   ]
  },
  {
   "cell_type": "code",
   "execution_count": 79,
   "metadata": {},
   "outputs": [
    {
     "data": {
      "text/plain": [
       "(array([ 0,  1,  2,  3,  4,  5,  6,  7,  8,  9, 10, 11, 12, 13]),\n",
       " [Text(0, 0, 'car'),\n",
       "  Text(1, 0, 'debt_consolidation'),\n",
       "  Text(2, 0, 'credit_card'),\n",
       "  Text(3, 0, 'home_improvement'),\n",
       "  Text(4, 0, 'major_purchase'),\n",
       "  Text(5, 0, 'other'),\n",
       "  Text(6, 0, 'medical'),\n",
       "  Text(7, 0, 'small_business'),\n",
       "  Text(8, 0, 'moving'),\n",
       "  Text(9, 0, 'wedding'),\n",
       "  Text(10, 0, 'vacation'),\n",
       "  Text(11, 0, 'house'),\n",
       "  Text(12, 0, 'educational'),\n",
       "  Text(13, 0, 'renewable_energy')])"
      ]
     },
     "execution_count": 79,
     "metadata": {},
     "output_type": "execute_result"
    },
    {
     "data": {
      "image/png": "[encoded data removed]",
      "text/plain": [
       "<Figure size 432x288 with 1 Axes>"
      ]
     },
     "metadata": {
      "needs_background": "light"
     },
     "output_type": "display_data"
    }
   ],
   "source": [
    "sn.countplot(train['Purpose_Of_Loan'],hue=train['Interest_Rate'])\n",
    "plt.xticks(rotation=90)"
   ]
  },
  {
   "cell_type": "code",
   "execution_count": 80,
   "metadata": {},
   "outputs": [
    {
     "data": {
      "text/plain": [
       "13"
      ]
     },
     "execution_count": 80,
     "metadata": {},
     "output_type": "execute_result"
    }
   ],
   "source": [
    "len(train.columns)"
   ]
  },
  {
   "cell_type": "markdown",
   "metadata": {},
   "source": [
    "\n",
    "As total columns is 14 and even if we assign indivual values of the categorical values then also number of features will be below 50. So we can try get_dummies method"
   ]
  },
  {
   "cell_type": "code",
   "execution_count": 81,
   "metadata": {},
   "outputs": [],
   "source": [
    "train = pd.get_dummies(train)"
   ]
  },
  {
   "cell_type": "code",
   "execution_count": 82,
   "metadata": {},
   "outputs": [
    {
     "data": {
      "text/plain": [
       "Index(['Interest_Rate', 'Length_Employed', 'Loan_Amount_Requested',\n",
       "       'Annual_Income', 'Debt_To_Income', 'Inquiries_Last_6Mo',\n",
       "       'Months_Since_Deliquency', 'Number_Open_Accounts', 'Total_Accounts',\n",
       "       'Home_Owner_Mortgage', 'Home_Owner_None', 'Home_Owner_Other',\n",
       "       'Home_Owner_Own', 'Home_Owner_Rent',\n",
       "       'Income_Verified_VERIFIED - income',\n",
       "       'Income_Verified_VERIFIED - income source',\n",
       "       'Income_Verified_not verified', 'Purpose_Of_Loan_car',\n",
       "       'Purpose_Of_Loan_credit_card', 'Purpose_Of_Loan_debt_consolidation',\n",
       "       'Purpose_Of_Loan_educational', 'Purpose_Of_Loan_home_improvement',\n",
       "       'Purpose_Of_Loan_house', 'Purpose_Of_Loan_major_purchase',\n",
       "       'Purpose_Of_Loan_medical', 'Purpose_Of_Loan_moving',\n",
       "       'Purpose_Of_Loan_other', 'Purpose_Of_Loan_renewable_energy',\n",
       "       'Purpose_Of_Loan_small_business', 'Purpose_Of_Loan_vacation',\n",
       "       'Purpose_Of_Loan_wedding', 'Gender_Female', 'Gender_Male'],\n",
       "      dtype='object')"
      ]
     },
     "execution_count": 82,
     "metadata": {},
     "output_type": "execute_result"
    }
   ],
   "source": [
    "train.columns"
   ]
  },
  {
   "cell_type": "code",
   "execution_count": 83,
   "metadata": {},
   "outputs": [
    {
     "data": {
      "text/html": [
       "<div>\n",
       "<style scoped>\n",
       "    .dataframe tbody tr th:only-of-type {\n",
       "        vertical-align: middle;\n",
       "    }\n",
       "\n",
       "    .dataframe tbody tr th {\n",
       "        vertical-align: top;\n",
       "    }\n",
       "\n",
       "    .dataframe thead th {\n",
       "        text-align: right;\n",
       "    }\n",
       "</style>\n",
       "<table border=\"1\" class=\"dataframe\">\n",
       "  <thead>\n",
       "    <tr style=\"text-align: right;\">\n",
       "      <th></th>\n",
       "      <th>Interest_Rate</th>\n",
       "      <th>Length_Employed</th>\n",
       "      <th>Loan_Amount_Requested</th>\n",
       "      <th>Annual_Income</th>\n",
       "      <th>Debt_To_Income</th>\n",
       "      <th>Inquiries_Last_6Mo</th>\n",
       "      <th>Months_Since_Deliquency</th>\n",
       "      <th>Number_Open_Accounts</th>\n",
       "      <th>Total_Accounts</th>\n",
       "      <th>Home_Owner_Mortgage</th>\n",
       "      <th>...</th>\n",
       "      <th>Purpose_Of_Loan_major_purchase</th>\n",
       "      <th>Purpose_Of_Loan_medical</th>\n",
       "      <th>Purpose_Of_Loan_moving</th>\n",
       "      <th>Purpose_Of_Loan_other</th>\n",
       "      <th>Purpose_Of_Loan_renewable_energy</th>\n",
       "      <th>Purpose_Of_Loan_small_business</th>\n",
       "      <th>Purpose_Of_Loan_vacation</th>\n",
       "      <th>Purpose_Of_Loan_wedding</th>\n",
       "      <th>Gender_Female</th>\n",
       "      <th>Gender_Male</th>\n",
       "    </tr>\n",
       "  </thead>\n",
       "  <tbody>\n",
       "    <tr>\n",
       "      <th>0</th>\n",
       "      <td>1</td>\n",
       "      <td>0.8</td>\n",
       "      <td>7000.0</td>\n",
       "      <td>68000.0</td>\n",
       "      <td>18.37</td>\n",
       "      <td>0</td>\n",
       "      <td>34.0</td>\n",
       "      <td>9</td>\n",
       "      <td>14</td>\n",
       "      <td>0</td>\n",
       "      <td>...</td>\n",
       "      <td>0</td>\n",
       "      <td>0</td>\n",
       "      <td>0</td>\n",
       "      <td>0</td>\n",
       "      <td>0</td>\n",
       "      <td>0</td>\n",
       "      <td>0</td>\n",
       "      <td>0</td>\n",
       "      <td>1</td>\n",
       "      <td>0</td>\n",
       "    </tr>\n",
       "    <tr>\n",
       "      <th>1</th>\n",
       "      <td>3</td>\n",
       "      <td>4.0</td>\n",
       "      <td>30000.0</td>\n",
       "      <td>60000.0</td>\n",
       "      <td>14.93</td>\n",
       "      <td>0</td>\n",
       "      <td>17.0</td>\n",
       "      <td>12</td>\n",
       "      <td>24</td>\n",
       "      <td>1</td>\n",
       "      <td>...</td>\n",
       "      <td>0</td>\n",
       "      <td>0</td>\n",
       "      <td>0</td>\n",
       "      <td>0</td>\n",
       "      <td>0</td>\n",
       "      <td>0</td>\n",
       "      <td>0</td>\n",
       "      <td>0</td>\n",
       "      <td>1</td>\n",
       "      <td>0</td>\n",
       "    </tr>\n",
       "    <tr>\n",
       "      <th>2</th>\n",
       "      <td>3</td>\n",
       "      <td>7.0</td>\n",
       "      <td>24725.0</td>\n",
       "      <td>75566.4</td>\n",
       "      <td>15.88</td>\n",
       "      <td>0</td>\n",
       "      <td>30.0</td>\n",
       "      <td>12</td>\n",
       "      <td>16</td>\n",
       "      <td>1</td>\n",
       "      <td>...</td>\n",
       "      <td>0</td>\n",
       "      <td>0</td>\n",
       "      <td>0</td>\n",
       "      <td>0</td>\n",
       "      <td>0</td>\n",
       "      <td>0</td>\n",
       "      <td>0</td>\n",
       "      <td>0</td>\n",
       "      <td>0</td>\n",
       "      <td>1</td>\n",
       "    </tr>\n",
       "    <tr>\n",
       "      <th>3</th>\n",
       "      <td>3</td>\n",
       "      <td>0.8</td>\n",
       "      <td>16000.0</td>\n",
       "      <td>56160.0</td>\n",
       "      <td>14.34</td>\n",
       "      <td>3</td>\n",
       "      <td>30.0</td>\n",
       "      <td>16</td>\n",
       "      <td>22</td>\n",
       "      <td>0</td>\n",
       "      <td>...</td>\n",
       "      <td>0</td>\n",
       "      <td>0</td>\n",
       "      <td>0</td>\n",
       "      <td>0</td>\n",
       "      <td>0</td>\n",
       "      <td>0</td>\n",
       "      <td>0</td>\n",
       "      <td>0</td>\n",
       "      <td>0</td>\n",
       "      <td>1</td>\n",
       "    </tr>\n",
       "    <tr>\n",
       "      <th>4</th>\n",
       "      <td>1</td>\n",
       "      <td>8.0</td>\n",
       "      <td>17000.0</td>\n",
       "      <td>96000.0</td>\n",
       "      <td>22.17</td>\n",
       "      <td>1</td>\n",
       "      <td>34.0</td>\n",
       "      <td>19</td>\n",
       "      <td>30</td>\n",
       "      <td>0</td>\n",
       "      <td>...</td>\n",
       "      <td>0</td>\n",
       "      <td>0</td>\n",
       "      <td>0</td>\n",
       "      <td>0</td>\n",
       "      <td>0</td>\n",
       "      <td>0</td>\n",
       "      <td>0</td>\n",
       "      <td>0</td>\n",
       "      <td>1</td>\n",
       "      <td>0</td>\n",
       "    </tr>\n",
       "  </tbody>\n",
       "</table>\n",
       "<p>5 rows × 33 columns</p>\n",
       "</div>"
      ],
      "text/plain": [
       "   Interest_Rate  Length_Employed  Loan_Amount_Requested  Annual_Income  \\\n",
       "0              1              0.8                 7000.0        68000.0   \n",
       "1              3              4.0                30000.0        60000.0   \n",
       "2              3              7.0                24725.0        75566.4   \n",
       "3              3              0.8                16000.0        56160.0   \n",
       "4              1              8.0                17000.0        96000.0   \n",
       "\n",
       "   Debt_To_Income  Inquiries_Last_6Mo  Months_Since_Deliquency  \\\n",
       "0           18.37                   0                     34.0   \n",
       "1           14.93                   0                     17.0   \n",
       "2           15.88                   0                     30.0   \n",
       "3           14.34                   3                     30.0   \n",
       "4           22.17                   1                     34.0   \n",
       "\n",
       "   Number_Open_Accounts  Total_Accounts  Home_Owner_Mortgage  ...  \\\n",
       "0                     9              14                    0  ...   \n",
       "1                    12              24                    1  ...   \n",
       "2                    12              16                    1  ...   \n",
       "3                    16              22                    0  ...   \n",
       "4                    19              30                    0  ...   \n",
       "\n",
       "   Purpose_Of_Loan_major_purchase  Purpose_Of_Loan_medical  \\\n",
       "0                               0                        0   \n",
       "1                               0                        0   \n",
       "2                               0                        0   \n",
       "3                               0                        0   \n",
       "4                               0                        0   \n",
       "\n",
       "   Purpose_Of_Loan_moving  Purpose_Of_Loan_other  \\\n",
       "0                       0                      0   \n",
       "1                       0                      0   \n",
       "2                       0                      0   \n",
       "3                       0                      0   \n",
       "4                       0                      0   \n",
       "\n",
       "   Purpose_Of_Loan_renewable_energy  Purpose_Of_Loan_small_business  \\\n",
       "0                                 0                               0   \n",
       "1                                 0                               0   \n",
       "2                                 0                               0   \n",
       "3                                 0                               0   \n",
       "4                                 0                               0   \n",
       "\n",
       "   Purpose_Of_Loan_vacation  Purpose_Of_Loan_wedding  Gender_Female  \\\n",
       "0                         0                        0              1   \n",
       "1                         0                        0              1   \n",
       "2                         0                        0              0   \n",
       "3                         0                        0              0   \n",
       "4                         0                        0              1   \n",
       "\n",
       "   Gender_Male  \n",
       "0            0  \n",
       "1            0  \n",
       "2            1  \n",
       "3            1  \n",
       "4            0  \n",
       "\n",
       "[5 rows x 33 columns]"
      ]
     },
     "execution_count": 83,
     "metadata": {},
     "output_type": "execute_result"
    }
   ],
   "source": [
    "train.head()"
   ]
  },
  {
   "cell_type": "code",
   "execution_count": 131,
   "metadata": {},
   "outputs": [
    {
     "data": {
      "text/plain": [
       "Interest_Rate                               1.000000\n",
       "Length_Employed                             0.025645\n",
       "Loan_Amount_Requested                       0.132486\n",
       "Annual_Income                              -0.048099\n",
       "Debt_To_Income                              0.152472\n",
       "Inquiries_Last_6Mo                          0.188987\n",
       "Months_Since_Deliquency                    -0.071054\n",
       "Number_Open_Accounts                        0.002847\n",
       "Total_Accounts                             -0.040690\n",
       "Home_Owner_Mortgage                        -0.054229\n",
       "Home_Owner_None                            -0.002736\n",
       "Home_Owner_Other                           -0.001809\n",
       "Home_Owner_Own                              0.004147\n",
       "Home_Owner_Rent                             0.053030\n",
       "Income_Verified_VERIFIED - income           0.174469\n",
       "Income_Verified_VERIFIED - income source    0.016419\n",
       "Income_Verified_not verified               -0.196870\n",
       "Purpose_Of_Loan_car                        -0.040529\n",
       "Purpose_Of_Loan_credit_card                -0.141820\n",
       "Purpose_Of_Loan_debt_consolidation          0.085548\n",
       "Purpose_Of_Loan_educational                -0.015264\n",
       "Purpose_Of_Loan_home_improvement           -0.015802\n",
       "Purpose_Of_Loan_house                       0.016278\n",
       "Purpose_Of_Loan_major_purchase             -0.034453\n",
       "Purpose_Of_Loan_medical                     0.024804\n",
       "Purpose_Of_Loan_moving                      0.030729\n",
       "Purpose_Of_Loan_other                       0.078584\n",
       "Purpose_Of_Loan_renewable_energy            0.006464\n",
       "Purpose_Of_Loan_small_business              0.044924\n",
       "Purpose_Of_Loan_vacation                    0.018752\n",
       "Purpose_Of_Loan_wedding                     0.004120\n",
       "Gender_Female                              -0.002038\n",
       "Gender_Male                                 0.002038\n",
       "Name: Interest_Rate, dtype: float64"
      ]
     },
     "execution_count": 131,
     "metadata": {},
     "output_type": "execute_result"
    }
   ],
   "source": [
    "train.corr()['Interest_Rate'][:]"
   ]
  },
  {
   "cell_type": "code",
   "execution_count": 84,
   "metadata": {},
   "outputs": [],
   "source": [
    "#Separating features and value to be predicted\n",
    "X = train.iloc[:,1:]"
   ]
  },
  {
   "cell_type": "code",
   "execution_count": 85,
   "metadata": {},
   "outputs": [
    {
     "data": {
      "text/html": [
       "<div>\n",
       "<style scoped>\n",
       "    .dataframe tbody tr th:only-of-type {\n",
       "        vertical-align: middle;\n",
       "    }\n",
       "\n",
       "    .dataframe tbody tr th {\n",
       "        vertical-align: top;\n",
       "    }\n",
       "\n",
       "    .dataframe thead th {\n",
       "        text-align: right;\n",
       "    }\n",
       "</style>\n",
       "<table border=\"1\" class=\"dataframe\">\n",
       "  <thead>\n",
       "    <tr style=\"text-align: right;\">\n",
       "      <th></th>\n",
       "      <th>Length_Employed</th>\n",
       "      <th>Loan_Amount_Requested</th>\n",
       "      <th>Annual_Income</th>\n",
       "      <th>Debt_To_Income</th>\n",
       "      <th>Inquiries_Last_6Mo</th>\n",
       "      <th>Months_Since_Deliquency</th>\n",
       "      <th>Number_Open_Accounts</th>\n",
       "      <th>Total_Accounts</th>\n",
       "      <th>Home_Owner_Mortgage</th>\n",
       "      <th>Home_Owner_None</th>\n",
       "      <th>...</th>\n",
       "      <th>Purpose_Of_Loan_major_purchase</th>\n",
       "      <th>Purpose_Of_Loan_medical</th>\n",
       "      <th>Purpose_Of_Loan_moving</th>\n",
       "      <th>Purpose_Of_Loan_other</th>\n",
       "      <th>Purpose_Of_Loan_renewable_energy</th>\n",
       "      <th>Purpose_Of_Loan_small_business</th>\n",
       "      <th>Purpose_Of_Loan_vacation</th>\n",
       "      <th>Purpose_Of_Loan_wedding</th>\n",
       "      <th>Gender_Female</th>\n",
       "      <th>Gender_Male</th>\n",
       "    </tr>\n",
       "  </thead>\n",
       "  <tbody>\n",
       "    <tr>\n",
       "      <th>0</th>\n",
       "      <td>0.8</td>\n",
       "      <td>7000.0</td>\n",
       "      <td>68000.0</td>\n",
       "      <td>18.37</td>\n",
       "      <td>0</td>\n",
       "      <td>34.0</td>\n",
       "      <td>9</td>\n",
       "      <td>14</td>\n",
       "      <td>0</td>\n",
       "      <td>0</td>\n",
       "      <td>...</td>\n",
       "      <td>0</td>\n",
       "      <td>0</td>\n",
       "      <td>0</td>\n",
       "      <td>0</td>\n",
       "      <td>0</td>\n",
       "      <td>0</td>\n",
       "      <td>0</td>\n",
       "      <td>0</td>\n",
       "      <td>1</td>\n",
       "      <td>0</td>\n",
       "    </tr>\n",
       "    <tr>\n",
       "      <th>1</th>\n",
       "      <td>4.0</td>\n",
       "      <td>30000.0</td>\n",
       "      <td>60000.0</td>\n",
       "      <td>14.93</td>\n",
       "      <td>0</td>\n",
       "      <td>17.0</td>\n",
       "      <td>12</td>\n",
       "      <td>24</td>\n",
       "      <td>1</td>\n",
       "      <td>0</td>\n",
       "      <td>...</td>\n",
       "      <td>0</td>\n",
       "      <td>0</td>\n",
       "      <td>0</td>\n",
       "      <td>0</td>\n",
       "      <td>0</td>\n",
       "      <td>0</td>\n",
       "      <td>0</td>\n",
       "      <td>0</td>\n",
       "      <td>1</td>\n",
       "      <td>0</td>\n",
       "    </tr>\n",
       "    <tr>\n",
       "      <th>2</th>\n",
       "      <td>7.0</td>\n",
       "      <td>24725.0</td>\n",
       "      <td>75566.4</td>\n",
       "      <td>15.88</td>\n",
       "      <td>0</td>\n",
       "      <td>30.0</td>\n",
       "      <td>12</td>\n",
       "      <td>16</td>\n",
       "      <td>1</td>\n",
       "      <td>0</td>\n",
       "      <td>...</td>\n",
       "      <td>0</td>\n",
       "      <td>0</td>\n",
       "      <td>0</td>\n",
       "      <td>0</td>\n",
       "      <td>0</td>\n",
       "      <td>0</td>\n",
       "      <td>0</td>\n",
       "      <td>0</td>\n",
       "      <td>0</td>\n",
       "      <td>1</td>\n",
       "    </tr>\n",
       "    <tr>\n",
       "      <th>3</th>\n",
       "      <td>0.8</td>\n",
       "      <td>16000.0</td>\n",
       "      <td>56160.0</td>\n",
       "      <td>14.34</td>\n",
       "      <td>3</td>\n",
       "      <td>30.0</td>\n",
       "      <td>16</td>\n",
       "      <td>22</td>\n",
       "      <td>0</td>\n",
       "      <td>0</td>\n",
       "      <td>...</td>\n",
       "      <td>0</td>\n",
       "      <td>0</td>\n",
       "      <td>0</td>\n",
       "      <td>0</td>\n",
       "      <td>0</td>\n",
       "      <td>0</td>\n",
       "      <td>0</td>\n",
       "      <td>0</td>\n",
       "      <td>0</td>\n",
       "      <td>1</td>\n",
       "    </tr>\n",
       "    <tr>\n",
       "      <th>4</th>\n",
       "      <td>8.0</td>\n",
       "      <td>17000.0</td>\n",
       "      <td>96000.0</td>\n",
       "      <td>22.17</td>\n",
       "      <td>1</td>\n",
       "      <td>34.0</td>\n",
       "      <td>19</td>\n",
       "      <td>30</td>\n",
       "      <td>0</td>\n",
       "      <td>0</td>\n",
       "      <td>...</td>\n",
       "      <td>0</td>\n",
       "      <td>0</td>\n",
       "      <td>0</td>\n",
       "      <td>0</td>\n",
       "      <td>0</td>\n",
       "      <td>0</td>\n",
       "      <td>0</td>\n",
       "      <td>0</td>\n",
       "      <td>1</td>\n",
       "      <td>0</td>\n",
       "    </tr>\n",
       "  </tbody>\n",
       "</table>\n",
       "<p>5 rows × 32 columns</p>\n",
       "</div>"
      ],
      "text/plain": [
       "   Length_Employed  Loan_Amount_Requested  Annual_Income  Debt_To_Income  \\\n",
       "0              0.8                 7000.0        68000.0           18.37   \n",
       "1              4.0                30000.0        60000.0           14.93   \n",
       "2              7.0                24725.0        75566.4           15.88   \n",
       "3              0.8                16000.0        56160.0           14.34   \n",
       "4              8.0                17000.0        96000.0           22.17   \n",
       "\n",
       "   Inquiries_Last_6Mo  Months_Since_Deliquency  Number_Open_Accounts  \\\n",
       "0                   0                     34.0                     9   \n",
       "1                   0                     17.0                    12   \n",
       "2                   0                     30.0                    12   \n",
       "3                   3                     30.0                    16   \n",
       "4                   1                     34.0                    19   \n",
       "\n",
       "   Total_Accounts  Home_Owner_Mortgage  Home_Owner_None  ...  \\\n",
       "0              14                    0                0  ...   \n",
       "1              24                    1                0  ...   \n",
       "2              16                    1                0  ...   \n",
       "3              22                    0                0  ...   \n",
       "4              30                    0                0  ...   \n",
       "\n",
       "   Purpose_Of_Loan_major_purchase  Purpose_Of_Loan_medical  \\\n",
       "0                               0                        0   \n",
       "1                               0                        0   \n",
       "2                               0                        0   \n",
       "3                               0                        0   \n",
       "4                               0                        0   \n",
       "\n",
       "   Purpose_Of_Loan_moving  Purpose_Of_Loan_other  \\\n",
       "0                       0                      0   \n",
       "1                       0                      0   \n",
       "2                       0                      0   \n",
       "3                       0                      0   \n",
       "4                       0                      0   \n",
       "\n",
       "   Purpose_Of_Loan_renewable_energy  Purpose_Of_Loan_small_business  \\\n",
       "0                                 0                               0   \n",
       "1                                 0                               0   \n",
       "2                                 0                               0   \n",
       "3                                 0                               0   \n",
       "4                                 0                               0   \n",
       "\n",
       "   Purpose_Of_Loan_vacation  Purpose_Of_Loan_wedding  Gender_Female  \\\n",
       "0                         0                        0              1   \n",
       "1                         0                        0              1   \n",
       "2                         0                        0              0   \n",
       "3                         0                        0              0   \n",
       "4                         0                        0              1   \n",
       "\n",
       "   Gender_Male  \n",
       "0            0  \n",
       "1            0  \n",
       "2            1  \n",
       "3            1  \n",
       "4            0  \n",
       "\n",
       "[5 rows x 32 columns]"
      ]
     },
     "execution_count": 85,
     "metadata": {},
     "output_type": "execute_result"
    }
   ],
   "source": [
    "#Features\n",
    "X.head()"
   ]
  },
  {
   "cell_type": "code",
   "execution_count": 86,
   "metadata": {},
   "outputs": [],
   "source": [
    "#Value to be predicted\n",
    "y=train['Interest_Rate']"
   ]
  },
  {
   "cell_type": "code",
   "execution_count": 87,
   "metadata": {},
   "outputs": [
    {
     "data": {
      "text/plain": [
       "0    1\n",
       "1    3\n",
       "2    3\n",
       "3    3\n",
       "4    1\n",
       "Name: Interest_Rate, dtype: int64"
      ]
     },
     "execution_count": 87,
     "metadata": {},
     "output_type": "execute_result"
    }
   ],
   "source": [
    "y.head()"
   ]
  },
  {
   "cell_type": "code",
   "execution_count": 88,
   "metadata": {},
   "outputs": [],
   "source": [
    "X_train,X_test,y_train,y_test=train_test_split(X,y,test_size=0.3,random_state=42,stratify = train['Interest_Rate'])"
   ]
  },
  {
   "cell_type": "markdown",
   "metadata": {},
   "source": [
    "# Step 3 : Data Modelling"
   ]
  },
  {
   "cell_type": "markdown",
   "metadata": {},
   "source": [
    "As its a classification problem with multiclass, we will try RandomForest"
   ]
  },
  {
   "cell_type": "code",
   "execution_count": 89,
   "metadata": {},
   "outputs": [],
   "source": [
    "from sklearn.ensemble import RandomForestClassifier\n",
    "from sklearn.metrics import accuracy_score, classification_report, confusion_matrix"
   ]
  },
  {
   "cell_type": "code",
   "execution_count": 90,
   "metadata": {},
   "outputs": [
    {
     "name": "stdout",
     "output_type": "stream",
     "text": [
      "Accuracy Score for number of estimators:  500 0.7784269571744467\n",
      "Predicted Loan Category     1      2      3\n",
      "Actual Loan Category                       \n",
      "1                        7284   2198    660\n",
      "2                         853  16965   3356\n",
      "3                         406   3449  14122\n"
     ]
    }
   ],
   "source": [
    "def accuracy(n):\n",
    "    \n",
    "    RF_CLF=RandomForestClassifier(n_estimators=n,random_state=42)\n",
    "    RF_CLF.fit(X_train,y_train)\n",
    "    y_pred=RF_CLF.predict(X_test)\n",
    "    print('Accuracy Score for number of estimators: ',n,accuracy_score(y_test,y_pred))\n",
    "    print(pd.crosstab(y_test,y_pred,rownames=['Actual Loan Category'],\n",
    "    colnames=['Predicted Loan Category']))\n",
    "\n",
    "accuracy(500)"
   ]
  },
  {
   "cell_type": "markdown",
   "metadata": {},
   "source": [
    "We tried running the code for estimators from 100 to 2500 almost all gave around 77% accuracy , so will go ahead with the 500 estimator to save time"
   ]
  },
  {
   "cell_type": "code",
   "execution_count": 91,
   "metadata": {},
   "outputs": [],
   "source": [
    "RF_CLF=RandomForestClassifier(n_estimators=100,random_state=42)\n",
    "RF_CLF.fit(X_train,y_train)\n",
    "y_pred=RF_CLF.predict(X_test)"
   ]
  },
  {
   "cell_type": "code",
   "execution_count": 92,
   "metadata": {},
   "outputs": [
    {
     "name": "stdout",
     "output_type": "stream",
     "text": [
      "Accuracy Score for 100 estimators:  0.7776560566409023\n",
      "Predicted Loan Category     1      2      3\n",
      "Actual Loan Category                       \n",
      "1                        7302   2173    667\n",
      "2                         899  16978   3297\n",
      "3                         431   3493  14053\n"
     ]
    }
   ],
   "source": [
    "print('Accuracy Score for 100 estimators: ',accuracy_score(y_test,y_pred))\n",
    "print(pd.crosstab(y_test,y_pred,rownames=['Actual Loan Category'],\n",
    "colnames=['Predicted Loan Category']))"
   ]
  },
  {
   "cell_type": "code",
   "execution_count": 93,
   "metadata": {},
   "outputs": [],
   "source": [
    "from sklearn.linear_model import SGDClassifier"
   ]
  },
  {
   "cell_type": "code",
   "execution_count": 94,
   "metadata": {},
   "outputs": [],
   "source": [
    "SGD_CLF=SGDClassifier(max_iter=1000,random_state=42)"
   ]
  },
  {
   "cell_type": "code",
   "execution_count": 95,
   "metadata": {},
   "outputs": [
    {
     "data": {
      "text/plain": [
       "SGDClassifier(random_state=42)"
      ]
     },
     "execution_count": 95,
     "metadata": {},
     "output_type": "execute_result"
    }
   ],
   "source": [
    "SGD_CLF.fit(X_train,y_train)"
   ]
  },
  {
   "cell_type": "code",
   "execution_count": 96,
   "metadata": {},
   "outputs": [],
   "source": [
    "y_pred_SGD=SGD_CLF.predict(X_test)"
   ]
  },
  {
   "cell_type": "code",
   "execution_count": 97,
   "metadata": {},
   "outputs": [
    {
     "name": "stdout",
     "output_type": "stream",
     "text": [
      "Accuracy Score for SGDClassifier:  0.35958452518613193\n",
      "Predicted Loan Category     1   2      3\n",
      "Actual Loan Category                    \n",
      "1                        1613  21   8508\n",
      "2                        2791  26  18357\n",
      "3                        1870  21  16086\n"
     ]
    }
   ],
   "source": [
    "print('Accuracy Score for SGDClassifier: ',accuracy_score(y_test,y_pred_SGD))\n",
    "print(pd.crosstab(y_test,y_pred_SGD,rownames=['Actual Loan Category'],\n",
    "colnames=['Predicted Loan Category']))"
   ]
  },
  {
   "cell_type": "markdown",
   "metadata": {},
   "source": [
    "# Evaluation"
   ]
  },
  {
   "cell_type": "markdown",
   "metadata": {},
   "source": [
    "# Cross Validation Kfolds"
   ]
  },
  {
   "cell_type": "code",
   "execution_count": 98,
   "metadata": {},
   "outputs": [],
   "source": [
    "from sklearn.model_selection import cross_val_score"
   ]
  },
  {
   "cell_type": "code",
   "execution_count": 99,
   "metadata": {},
   "outputs": [],
   "source": [
    "#Random Forest Scores\n",
    "RN_F_Score=cross_val_score(RandomForestClassifier(n_estimators=100,random_state=42),X,y,cv=5)"
   ]
  },
  {
   "cell_type": "code",
   "execution_count": 100,
   "metadata": {},
   "outputs": [],
   "source": [
    "#Will try for multiple models\n",
    "from sklearn.linear_model import LogisticRegression\n",
    "from sklearn.svm import SVC"
   ]
  },
  {
   "cell_type": "code",
   "execution_count": 101,
   "metadata": {},
   "outputs": [],
   "source": [
    "#Logistic Regression score\n",
    "LR_Score=cross_val_score(LogisticRegression(random_state=42),X,y,cv=5)"
   ]
  },
  {
   "cell_type": "code",
   "execution_count": 102,
   "metadata": {},
   "outputs": [],
   "source": [
    "#Support Vector Machine score\n",
    "#SVC_Score=cross_val_score(SVC(),X,y,cv=5)"
   ]
  },
  {
   "cell_type": "markdown",
   "metadata": {},
   "source": [
    "We have commneted the SVM model is because it was running endlessly....We might have to scale the data using StandardScaler to run it faster."
   ]
  },
  {
   "cell_type": "markdown",
   "metadata": {},
   "source": [
    "### As of now we will compare Logistic Regression and Random Forest using Cross validation."
   ]
  },
  {
   "cell_type": "code",
   "execution_count": 103,
   "metadata": {},
   "outputs": [
    {
     "name": "stdout",
     "output_type": "stream",
     "text": [
      "Average Score for Logistic Regression:  0.46175802818470124\n",
      "Average Score for RandomForest Classifier:  0.7772428829384387\n"
     ]
    }
   ],
   "source": [
    "print('Average Score for Logistic Regression: ', LR_Score.mean())\n",
    "print('Average Score for RandomForest Classifier: ', RN_F_Score.mean())"
   ]
  },
  {
   "cell_type": "markdown",
   "metadata": {},
   "source": [
    "Looks like RandomForest Performed Better!! But yes many imporovement can be done by tunning parameters of other models, we can use GridSearch Options to check for best parameters."
   ]
  },
  {
   "cell_type": "markdown",
   "metadata": {},
   "source": [
    "# Final Result"
   ]
  },
  {
   "cell_type": "code",
   "execution_count": 104,
   "metadata": {},
   "outputs": [
    {
     "name": "stdout",
     "output_type": "stream",
     "text": [
      "CLASSIFICATION REPORT               precision    recall  f1-score   support\n",
      "\n",
      "           1       0.85      0.72      0.78     10142\n",
      "           2       0.75      0.80      0.77     21174\n",
      "           3       0.78      0.78      0.78     17977\n",
      "\n",
      "    accuracy                           0.78     49293\n",
      "   macro avg       0.79      0.77      0.78     49293\n",
      "weighted avg       0.78      0.78      0.78     49293\n",
      "\n"
     ]
    }
   ],
   "source": [
    "print('CLASSIFICATION REPORT',classification_report(y_test,y_pred))"
   ]
  },
  {
   "cell_type": "code",
   "execution_count": 105,
   "metadata": {},
   "outputs": [
    {
     "name": "stdout",
     "output_type": "stream",
     "text": [
      "Accuracy Score for 100 estimators:  0.7776560566409023\n",
      "Predicted Loan Category     1      2      3\n",
      "Actual Loan Category                       \n",
      "1                        7302   2173    667\n",
      "2                         899  16978   3297\n",
      "3                         431   3493  14053\n"
     ]
    }
   ],
   "source": [
    "print('Accuracy Score for 100 estimators: ',accuracy_score(y_test,y_pred))\n",
    "print(pd.crosstab(y_test,y_pred,rownames=['Actual Loan Category'],\n",
    "colnames=['Predicted Loan Category']))"
   ]
  },
  {
   "cell_type": "markdown",
   "metadata": {},
   "source": [
    "\n",
    "Classification Report doesnt look too bad as around 77% we are getting as F1 Score which is a fair enough balance for Precision & Recal, Ofcourse it depends on the business needs about how good is this 77%\n",
    "\n",
    "#\n",
    "Bottom Part of the code basiclly using the above random forest classifier was run on a unknown dataset and uploaded to the Hackathon Website."
   ]
  },
  {
   "cell_type": "code",
   "execution_count": 106,
   "metadata": {},
   "outputs": [],
   "source": [
    "test = pd.read_csv(\"test.csv\")"
   ]
  },
  {
   "cell_type": "code",
   "execution_count": 107,
   "metadata": {},
   "outputs": [
    {
     "data": {
      "text/html": [
       "<div>\n",
       "<style scoped>\n",
       "    .dataframe tbody tr th:only-of-type {\n",
       "        vertical-align: middle;\n",
       "    }\n",
       "\n",
       "    .dataframe tbody tr th {\n",
       "        vertical-align: top;\n",
       "    }\n",
       "\n",
       "    .dataframe thead th {\n",
       "        text-align: right;\n",
       "    }\n",
       "</style>\n",
       "<table border=\"1\" class=\"dataframe\">\n",
       "  <thead>\n",
       "    <tr style=\"text-align: right;\">\n",
       "      <th></th>\n",
       "      <th>Loan_ID</th>\n",
       "      <th>Loan_Amount_Requested</th>\n",
       "      <th>Length_Employed</th>\n",
       "      <th>Home_Owner</th>\n",
       "      <th>Annual_Income</th>\n",
       "      <th>Income_Verified</th>\n",
       "      <th>Purpose_Of_Loan</th>\n",
       "      <th>Debt_To_Income</th>\n",
       "      <th>Inquiries_Last_6Mo</th>\n",
       "      <th>Months_Since_Deliquency</th>\n",
       "      <th>Number_Open_Accounts</th>\n",
       "      <th>Total_Accounts</th>\n",
       "      <th>Gender</th>\n",
       "    </tr>\n",
       "  </thead>\n",
       "  <tbody>\n",
       "    <tr>\n",
       "      <th>0</th>\n",
       "      <td>10164310</td>\n",
       "      <td>27,500</td>\n",
       "      <td>10+ years</td>\n",
       "      <td>Mortgage</td>\n",
       "      <td>129000.0</td>\n",
       "      <td>VERIFIED - income</td>\n",
       "      <td>debt_consolidation</td>\n",
       "      <td>12.87</td>\n",
       "      <td>0</td>\n",
       "      <td>68.0</td>\n",
       "      <td>10</td>\n",
       "      <td>37</td>\n",
       "      <td>Male</td>\n",
       "    </tr>\n",
       "    <tr>\n",
       "      <th>1</th>\n",
       "      <td>10164311</td>\n",
       "      <td>26,000</td>\n",
       "      <td>10+ years</td>\n",
       "      <td>NaN</td>\n",
       "      <td>110000.0</td>\n",
       "      <td>not verified</td>\n",
       "      <td>credit_card</td>\n",
       "      <td>11.37</td>\n",
       "      <td>0</td>\n",
       "      <td>NaN</td>\n",
       "      <td>6</td>\n",
       "      <td>23</td>\n",
       "      <td>Male</td>\n",
       "    </tr>\n",
       "    <tr>\n",
       "      <th>2</th>\n",
       "      <td>10164312</td>\n",
       "      <td>6,075</td>\n",
       "      <td>&lt; 1 year</td>\n",
       "      <td>Rent</td>\n",
       "      <td>75000.0</td>\n",
       "      <td>VERIFIED - income</td>\n",
       "      <td>debt_consolidation</td>\n",
       "      <td>6.83</td>\n",
       "      <td>2</td>\n",
       "      <td>NaN</td>\n",
       "      <td>5</td>\n",
       "      <td>20</td>\n",
       "      <td>Male</td>\n",
       "    </tr>\n",
       "    <tr>\n",
       "      <th>3</th>\n",
       "      <td>10164313</td>\n",
       "      <td>12,000</td>\n",
       "      <td>10+ years</td>\n",
       "      <td>Mortgage</td>\n",
       "      <td>73000.0</td>\n",
       "      <td>VERIFIED - income source</td>\n",
       "      <td>debt_consolidation</td>\n",
       "      <td>7.76</td>\n",
       "      <td>0</td>\n",
       "      <td>NaN</td>\n",
       "      <td>6</td>\n",
       "      <td>8</td>\n",
       "      <td>Male</td>\n",
       "    </tr>\n",
       "    <tr>\n",
       "      <th>4</th>\n",
       "      <td>10164314</td>\n",
       "      <td>35,000</td>\n",
       "      <td>&lt; 1 year</td>\n",
       "      <td>Mortgage</td>\n",
       "      <td>156000.0</td>\n",
       "      <td>not verified</td>\n",
       "      <td>debt_consolidation</td>\n",
       "      <td>9.62</td>\n",
       "      <td>0</td>\n",
       "      <td>26.0</td>\n",
       "      <td>9</td>\n",
       "      <td>21</td>\n",
       "      <td>Male</td>\n",
       "    </tr>\n",
       "  </tbody>\n",
       "</table>\n",
       "</div>"
      ],
      "text/plain": [
       "    Loan_ID Loan_Amount_Requested Length_Employed Home_Owner  Annual_Income  \\\n",
       "0  10164310                27,500       10+ years   Mortgage       129000.0   \n",
       "1  10164311                26,000       10+ years        NaN       110000.0   \n",
       "2  10164312                 6,075        < 1 year       Rent        75000.0   \n",
       "3  10164313                12,000       10+ years   Mortgage        73000.0   \n",
       "4  10164314                35,000        < 1 year   Mortgage       156000.0   \n",
       "\n",
       "            Income_Verified     Purpose_Of_Loan  Debt_To_Income  \\\n",
       "0         VERIFIED - income  debt_consolidation           12.87   \n",
       "1              not verified         credit_card           11.37   \n",
       "2         VERIFIED - income  debt_consolidation            6.83   \n",
       "3  VERIFIED - income source  debt_consolidation            7.76   \n",
       "4              not verified  debt_consolidation            9.62   \n",
       "\n",
       "   Inquiries_Last_6Mo  Months_Since_Deliquency  Number_Open_Accounts  \\\n",
       "0                   0                     68.0                    10   \n",
       "1                   0                      NaN                     6   \n",
       "2                   2                      NaN                     5   \n",
       "3                   0                      NaN                     6   \n",
       "4                   0                     26.0                     9   \n",
       "\n",
       "   Total_Accounts Gender  \n",
       "0              37   Male  \n",
       "1              23   Male  \n",
       "2              20   Male  \n",
       "3               8   Male  \n",
       "4              21   Male  "
      ]
     },
     "execution_count": 107,
     "metadata": {},
     "output_type": "execute_result"
    }
   ],
   "source": [
    "test.head()"
   ]
  },
  {
   "cell_type": "code",
   "execution_count": 108,
   "metadata": {},
   "outputs": [],
   "source": [
    "Length_Employed=[]\n",
    "for row in test['Length_Employed']:\n",
    "    \n",
    "    if row=='< 1 year':\n",
    "        Length_Employed.append(0.8)\n",
    "    elif row=='1 year':\n",
    "        Length_Employed.append(1)\n",
    "    elif row=='2 years':\n",
    "        Length_Employed.append(2)\n",
    "    elif row=='3 years':\n",
    "        Length_Employed.append(3)\n",
    "    elif row=='4 years':\n",
    "        Length_Employed.append(4)\n",
    "    elif row=='5 years':\n",
    "        Length_Employed.append(5)\n",
    "    elif row=='6 years':\n",
    "        Length_Employed.append(6)\n",
    "    elif row=='7 years':\n",
    "        Length_Employed.append(7)\n",
    "    elif row=='8 years':\n",
    "        Length_Employed.append(8)\n",
    "    elif row=='9 years':\n",
    "        Length_Employed.append(9)\n",
    "    elif row=='10+ years':\n",
    "        Length_Employed.append(10)\n",
    "    else:\n",
    "        Length_Employed.append(0.8)"
   ]
  },
  {
   "cell_type": "code",
   "execution_count": 109,
   "metadata": {},
   "outputs": [
    {
     "data": {
      "text/html": [
       "<div>\n",
       "<style scoped>\n",
       "    .dataframe tbody tr th:only-of-type {\n",
       "        vertical-align: middle;\n",
       "    }\n",
       "\n",
       "    .dataframe tbody tr th {\n",
       "        vertical-align: top;\n",
       "    }\n",
       "\n",
       "    .dataframe thead th {\n",
       "        text-align: right;\n",
       "    }\n",
       "</style>\n",
       "<table border=\"1\" class=\"dataframe\">\n",
       "  <thead>\n",
       "    <tr style=\"text-align: right;\">\n",
       "      <th></th>\n",
       "      <th>Loan_ID</th>\n",
       "      <th>Loan_Amount_Requested</th>\n",
       "      <th>Length_Employed</th>\n",
       "      <th>Home_Owner</th>\n",
       "      <th>Annual_Income</th>\n",
       "      <th>Income_Verified</th>\n",
       "      <th>Purpose_Of_Loan</th>\n",
       "      <th>Debt_To_Income</th>\n",
       "      <th>Inquiries_Last_6Mo</th>\n",
       "      <th>Months_Since_Deliquency</th>\n",
       "      <th>Number_Open_Accounts</th>\n",
       "      <th>Total_Accounts</th>\n",
       "      <th>Gender</th>\n",
       "    </tr>\n",
       "  </thead>\n",
       "  <tbody>\n",
       "    <tr>\n",
       "      <th>0</th>\n",
       "      <td>10164310</td>\n",
       "      <td>27,500</td>\n",
       "      <td>10+ years</td>\n",
       "      <td>Mortgage</td>\n",
       "      <td>129000.0</td>\n",
       "      <td>VERIFIED - income</td>\n",
       "      <td>debt_consolidation</td>\n",
       "      <td>12.87</td>\n",
       "      <td>0</td>\n",
       "      <td>68.0</td>\n",
       "      <td>10</td>\n",
       "      <td>37</td>\n",
       "      <td>Male</td>\n",
       "    </tr>\n",
       "    <tr>\n",
       "      <th>1</th>\n",
       "      <td>10164311</td>\n",
       "      <td>26,000</td>\n",
       "      <td>10+ years</td>\n",
       "      <td>NaN</td>\n",
       "      <td>110000.0</td>\n",
       "      <td>not verified</td>\n",
       "      <td>credit_card</td>\n",
       "      <td>11.37</td>\n",
       "      <td>0</td>\n",
       "      <td>NaN</td>\n",
       "      <td>6</td>\n",
       "      <td>23</td>\n",
       "      <td>Male</td>\n",
       "    </tr>\n",
       "    <tr>\n",
       "      <th>2</th>\n",
       "      <td>10164312</td>\n",
       "      <td>6,075</td>\n",
       "      <td>&lt; 1 year</td>\n",
       "      <td>Rent</td>\n",
       "      <td>75000.0</td>\n",
       "      <td>VERIFIED - income</td>\n",
       "      <td>debt_consolidation</td>\n",
       "      <td>6.83</td>\n",
       "      <td>2</td>\n",
       "      <td>NaN</td>\n",
       "      <td>5</td>\n",
       "      <td>20</td>\n",
       "      <td>Male</td>\n",
       "    </tr>\n",
       "    <tr>\n",
       "      <th>3</th>\n",
       "      <td>10164313</td>\n",
       "      <td>12,000</td>\n",
       "      <td>10+ years</td>\n",
       "      <td>Mortgage</td>\n",
       "      <td>73000.0</td>\n",
       "      <td>VERIFIED - income source</td>\n",
       "      <td>debt_consolidation</td>\n",
       "      <td>7.76</td>\n",
       "      <td>0</td>\n",
       "      <td>NaN</td>\n",
       "      <td>6</td>\n",
       "      <td>8</td>\n",
       "      <td>Male</td>\n",
       "    </tr>\n",
       "    <tr>\n",
       "      <th>4</th>\n",
       "      <td>10164314</td>\n",
       "      <td>35,000</td>\n",
       "      <td>&lt; 1 year</td>\n",
       "      <td>Mortgage</td>\n",
       "      <td>156000.0</td>\n",
       "      <td>not verified</td>\n",
       "      <td>debt_consolidation</td>\n",
       "      <td>9.62</td>\n",
       "      <td>0</td>\n",
       "      <td>26.0</td>\n",
       "      <td>9</td>\n",
       "      <td>21</td>\n",
       "      <td>Male</td>\n",
       "    </tr>\n",
       "  </tbody>\n",
       "</table>\n",
       "</div>"
      ],
      "text/plain": [
       "    Loan_ID Loan_Amount_Requested Length_Employed Home_Owner  Annual_Income  \\\n",
       "0  10164310                27,500       10+ years   Mortgage       129000.0   \n",
       "1  10164311                26,000       10+ years        NaN       110000.0   \n",
       "2  10164312                 6,075        < 1 year       Rent        75000.0   \n",
       "3  10164313                12,000       10+ years   Mortgage        73000.0   \n",
       "4  10164314                35,000        < 1 year   Mortgage       156000.0   \n",
       "\n",
       "            Income_Verified     Purpose_Of_Loan  Debt_To_Income  \\\n",
       "0         VERIFIED - income  debt_consolidation           12.87   \n",
       "1              not verified         credit_card           11.37   \n",
       "2         VERIFIED - income  debt_consolidation            6.83   \n",
       "3  VERIFIED - income source  debt_consolidation            7.76   \n",
       "4              not verified  debt_consolidation            9.62   \n",
       "\n",
       "   Inquiries_Last_6Mo  Months_Since_Deliquency  Number_Open_Accounts  \\\n",
       "0                   0                     68.0                    10   \n",
       "1                   0                      NaN                     6   \n",
       "2                   2                      NaN                     5   \n",
       "3                   0                      NaN                     6   \n",
       "4                   0                     26.0                     9   \n",
       "\n",
       "   Total_Accounts Gender  \n",
       "0              37   Male  \n",
       "1              23   Male  \n",
       "2              20   Male  \n",
       "3               8   Male  \n",
       "4              21   Male  "
      ]
     },
     "execution_count": 109,
     "metadata": {},
     "output_type": "execute_result"
    }
   ],
   "source": [
    "test.head()"
   ]
  },
  {
   "cell_type": "code",
   "execution_count": 110,
   "metadata": {},
   "outputs": [],
   "source": [
    "test['Length_Employed']=pd.Series(Length_Employed)"
   ]
  },
  {
   "cell_type": "code",
   "execution_count": 111,
   "metadata": {},
   "outputs": [
    {
     "data": {
      "text/html": [
       "<div>\n",
       "<style scoped>\n",
       "    .dataframe tbody tr th:only-of-type {\n",
       "        vertical-align: middle;\n",
       "    }\n",
       "\n",
       "    .dataframe tbody tr th {\n",
       "        vertical-align: top;\n",
       "    }\n",
       "\n",
       "    .dataframe thead th {\n",
       "        text-align: right;\n",
       "    }\n",
       "</style>\n",
       "<table border=\"1\" class=\"dataframe\">\n",
       "  <thead>\n",
       "    <tr style=\"text-align: right;\">\n",
       "      <th></th>\n",
       "      <th>Loan_ID</th>\n",
       "      <th>Loan_Amount_Requested</th>\n",
       "      <th>Length_Employed</th>\n",
       "      <th>Home_Owner</th>\n",
       "      <th>Annual_Income</th>\n",
       "      <th>Income_Verified</th>\n",
       "      <th>Purpose_Of_Loan</th>\n",
       "      <th>Debt_To_Income</th>\n",
       "      <th>Inquiries_Last_6Mo</th>\n",
       "      <th>Months_Since_Deliquency</th>\n",
       "      <th>Number_Open_Accounts</th>\n",
       "      <th>Total_Accounts</th>\n",
       "      <th>Gender</th>\n",
       "    </tr>\n",
       "  </thead>\n",
       "  <tbody>\n",
       "    <tr>\n",
       "      <th>0</th>\n",
       "      <td>10164310</td>\n",
       "      <td>27,500</td>\n",
       "      <td>10.0</td>\n",
       "      <td>Mortgage</td>\n",
       "      <td>129000.0</td>\n",
       "      <td>VERIFIED - income</td>\n",
       "      <td>debt_consolidation</td>\n",
       "      <td>12.87</td>\n",
       "      <td>0</td>\n",
       "      <td>68.0</td>\n",
       "      <td>10</td>\n",
       "      <td>37</td>\n",
       "      <td>Male</td>\n",
       "    </tr>\n",
       "    <tr>\n",
       "      <th>1</th>\n",
       "      <td>10164311</td>\n",
       "      <td>26,000</td>\n",
       "      <td>10.0</td>\n",
       "      <td>NaN</td>\n",
       "      <td>110000.0</td>\n",
       "      <td>not verified</td>\n",
       "      <td>credit_card</td>\n",
       "      <td>11.37</td>\n",
       "      <td>0</td>\n",
       "      <td>NaN</td>\n",
       "      <td>6</td>\n",
       "      <td>23</td>\n",
       "      <td>Male</td>\n",
       "    </tr>\n",
       "    <tr>\n",
       "      <th>2</th>\n",
       "      <td>10164312</td>\n",
       "      <td>6,075</td>\n",
       "      <td>0.8</td>\n",
       "      <td>Rent</td>\n",
       "      <td>75000.0</td>\n",
       "      <td>VERIFIED - income</td>\n",
       "      <td>debt_consolidation</td>\n",
       "      <td>6.83</td>\n",
       "      <td>2</td>\n",
       "      <td>NaN</td>\n",
       "      <td>5</td>\n",
       "      <td>20</td>\n",
       "      <td>Male</td>\n",
       "    </tr>\n",
       "    <tr>\n",
       "      <th>3</th>\n",
       "      <td>10164313</td>\n",
       "      <td>12,000</td>\n",
       "      <td>10.0</td>\n",
       "      <td>Mortgage</td>\n",
       "      <td>73000.0</td>\n",
       "      <td>VERIFIED - income source</td>\n",
       "      <td>debt_consolidation</td>\n",
       "      <td>7.76</td>\n",
       "      <td>0</td>\n",
       "      <td>NaN</td>\n",
       "      <td>6</td>\n",
       "      <td>8</td>\n",
       "      <td>Male</td>\n",
       "    </tr>\n",
       "    <tr>\n",
       "      <th>4</th>\n",
       "      <td>10164314</td>\n",
       "      <td>35,000</td>\n",
       "      <td>0.8</td>\n",
       "      <td>Mortgage</td>\n",
       "      <td>156000.0</td>\n",
       "      <td>not verified</td>\n",
       "      <td>debt_consolidation</td>\n",
       "      <td>9.62</td>\n",
       "      <td>0</td>\n",
       "      <td>26.0</td>\n",
       "      <td>9</td>\n",
       "      <td>21</td>\n",
       "      <td>Male</td>\n",
       "    </tr>\n",
       "  </tbody>\n",
       "</table>\n",
       "</div>"
      ],
      "text/plain": [
       "    Loan_ID Loan_Amount_Requested  Length_Employed Home_Owner  Annual_Income  \\\n",
       "0  10164310                27,500             10.0   Mortgage       129000.0   \n",
       "1  10164311                26,000             10.0        NaN       110000.0   \n",
       "2  10164312                 6,075              0.8       Rent        75000.0   \n",
       "3  10164313                12,000             10.0   Mortgage        73000.0   \n",
       "4  10164314                35,000              0.8   Mortgage       156000.0   \n",
       "\n",
       "            Income_Verified     Purpose_Of_Loan  Debt_To_Income  \\\n",
       "0         VERIFIED - income  debt_consolidation           12.87   \n",
       "1              not verified         credit_card           11.37   \n",
       "2         VERIFIED - income  debt_consolidation            6.83   \n",
       "3  VERIFIED - income source  debt_consolidation            7.76   \n",
       "4              not verified  debt_consolidation            9.62   \n",
       "\n",
       "   Inquiries_Last_6Mo  Months_Since_Deliquency  Number_Open_Accounts  \\\n",
       "0                   0                     68.0                    10   \n",
       "1                   0                      NaN                     6   \n",
       "2                   2                      NaN                     5   \n",
       "3                   0                      NaN                     6   \n",
       "4                   0                     26.0                     9   \n",
       "\n",
       "   Total_Accounts Gender  \n",
       "0              37   Male  \n",
       "1              23   Male  \n",
       "2              20   Male  \n",
       "3               8   Male  \n",
       "4              21   Male  "
      ]
     },
     "execution_count": 111,
     "metadata": {},
     "output_type": "execute_result"
    }
   ],
   "source": [
    "test.head()"
   ]
  },
  {
   "cell_type": "code",
   "execution_count": 112,
   "metadata": {},
   "outputs": [],
   "source": [
    "test['Home_Owner'].fillna('Own',inplace=True)"
   ]
  },
  {
   "cell_type": "code",
   "execution_count": 113,
   "metadata": {},
   "outputs": [
    {
     "data": {
      "text/html": [
       "<div>\n",
       "<style scoped>\n",
       "    .dataframe tbody tr th:only-of-type {\n",
       "        vertical-align: middle;\n",
       "    }\n",
       "\n",
       "    .dataframe tbody tr th {\n",
       "        vertical-align: top;\n",
       "    }\n",
       "\n",
       "    .dataframe thead th {\n",
       "        text-align: right;\n",
       "    }\n",
       "</style>\n",
       "<table border=\"1\" class=\"dataframe\">\n",
       "  <thead>\n",
       "    <tr style=\"text-align: right;\">\n",
       "      <th></th>\n",
       "      <th>Loan_ID</th>\n",
       "      <th>Loan_Amount_Requested</th>\n",
       "      <th>Length_Employed</th>\n",
       "      <th>Home_Owner</th>\n",
       "      <th>Annual_Income</th>\n",
       "      <th>Income_Verified</th>\n",
       "      <th>Purpose_Of_Loan</th>\n",
       "      <th>Debt_To_Income</th>\n",
       "      <th>Inquiries_Last_6Mo</th>\n",
       "      <th>Months_Since_Deliquency</th>\n",
       "      <th>Number_Open_Accounts</th>\n",
       "      <th>Total_Accounts</th>\n",
       "      <th>Gender</th>\n",
       "    </tr>\n",
       "  </thead>\n",
       "  <tbody>\n",
       "    <tr>\n",
       "      <th>0</th>\n",
       "      <td>10164310</td>\n",
       "      <td>27,500</td>\n",
       "      <td>10.0</td>\n",
       "      <td>Mortgage</td>\n",
       "      <td>129000.0</td>\n",
       "      <td>VERIFIED - income</td>\n",
       "      <td>debt_consolidation</td>\n",
       "      <td>12.87</td>\n",
       "      <td>0</td>\n",
       "      <td>68.0</td>\n",
       "      <td>10</td>\n",
       "      <td>37</td>\n",
       "      <td>Male</td>\n",
       "    </tr>\n",
       "    <tr>\n",
       "      <th>1</th>\n",
       "      <td>10164311</td>\n",
       "      <td>26,000</td>\n",
       "      <td>10.0</td>\n",
       "      <td>Own</td>\n",
       "      <td>110000.0</td>\n",
       "      <td>not verified</td>\n",
       "      <td>credit_card</td>\n",
       "      <td>11.37</td>\n",
       "      <td>0</td>\n",
       "      <td>NaN</td>\n",
       "      <td>6</td>\n",
       "      <td>23</td>\n",
       "      <td>Male</td>\n",
       "    </tr>\n",
       "    <tr>\n",
       "      <th>2</th>\n",
       "      <td>10164312</td>\n",
       "      <td>6,075</td>\n",
       "      <td>0.8</td>\n",
       "      <td>Rent</td>\n",
       "      <td>75000.0</td>\n",
       "      <td>VERIFIED - income</td>\n",
       "      <td>debt_consolidation</td>\n",
       "      <td>6.83</td>\n",
       "      <td>2</td>\n",
       "      <td>NaN</td>\n",
       "      <td>5</td>\n",
       "      <td>20</td>\n",
       "      <td>Male</td>\n",
       "    </tr>\n",
       "    <tr>\n",
       "      <th>3</th>\n",
       "      <td>10164313</td>\n",
       "      <td>12,000</td>\n",
       "      <td>10.0</td>\n",
       "      <td>Mortgage</td>\n",
       "      <td>73000.0</td>\n",
       "      <td>VERIFIED - income source</td>\n",
       "      <td>debt_consolidation</td>\n",
       "      <td>7.76</td>\n",
       "      <td>0</td>\n",
       "      <td>NaN</td>\n",
       "      <td>6</td>\n",
       "      <td>8</td>\n",
       "      <td>Male</td>\n",
       "    </tr>\n",
       "    <tr>\n",
       "      <th>4</th>\n",
       "      <td>10164314</td>\n",
       "      <td>35,000</td>\n",
       "      <td>0.8</td>\n",
       "      <td>Mortgage</td>\n",
       "      <td>156000.0</td>\n",
       "      <td>not verified</td>\n",
       "      <td>debt_consolidation</td>\n",
       "      <td>9.62</td>\n",
       "      <td>0</td>\n",
       "      <td>26.0</td>\n",
       "      <td>9</td>\n",
       "      <td>21</td>\n",
       "      <td>Male</td>\n",
       "    </tr>\n",
       "  </tbody>\n",
       "</table>\n",
       "</div>"
      ],
      "text/plain": [
       "    Loan_ID Loan_Amount_Requested  Length_Employed Home_Owner  Annual_Income  \\\n",
       "0  10164310                27,500             10.0   Mortgage       129000.0   \n",
       "1  10164311                26,000             10.0        Own       110000.0   \n",
       "2  10164312                 6,075              0.8       Rent        75000.0   \n",
       "3  10164313                12,000             10.0   Mortgage        73000.0   \n",
       "4  10164314                35,000              0.8   Mortgage       156000.0   \n",
       "\n",
       "            Income_Verified     Purpose_Of_Loan  Debt_To_Income  \\\n",
       "0         VERIFIED - income  debt_consolidation           12.87   \n",
       "1              not verified         credit_card           11.37   \n",
       "2         VERIFIED - income  debt_consolidation            6.83   \n",
       "3  VERIFIED - income source  debt_consolidation            7.76   \n",
       "4              not verified  debt_consolidation            9.62   \n",
       "\n",
       "   Inquiries_Last_6Mo  Months_Since_Deliquency  Number_Open_Accounts  \\\n",
       "0                   0                     68.0                    10   \n",
       "1                   0                      NaN                     6   \n",
       "2                   2                      NaN                     5   \n",
       "3                   0                      NaN                     6   \n",
       "4                   0                     26.0                     9   \n",
       "\n",
       "   Total_Accounts Gender  \n",
       "0              37   Male  \n",
       "1              23   Male  \n",
       "2              20   Male  \n",
       "3               8   Male  \n",
       "4              21   Male  "
      ]
     },
     "execution_count": 113,
     "metadata": {},
     "output_type": "execute_result"
    }
   ],
   "source": [
    "test.head()"
   ]
  },
  {
   "cell_type": "code",
   "execution_count": 114,
   "metadata": {},
   "outputs": [],
   "source": [
    "Avg_income=test.groupby('Length_Employed')['Annual_Income'].median()\n",
    "test=test.set_index(['Length_Employed'])\n",
    "test['Annual_Income'].fillna(Avg_income,inplace=True)\n",
    "test['Annual_Income'].isnull().sum()\n",
    "test = test.reset_index()\n",
    "###############\n",
    "#Avg_deliq=Test_data.groupby('Interest_Rate')['Months_Since_Deliquency'].median()\n",
    "#Test_data=Test_data.set_index('Interest_Rate')\n",
    "test['Months_Since_Deliquency'].fillna(test['Months_Since_Deliquency'].median(),inplace=True)\n",
    "#Test_data=Test_data.reset_index()\n",
    "##############"
   ]
  },
  {
   "cell_type": "code",
   "execution_count": 115,
   "metadata": {},
   "outputs": [
    {
     "data": {
      "text/html": [
       "<div>\n",
       "<style scoped>\n",
       "    .dataframe tbody tr th:only-of-type {\n",
       "        vertical-align: middle;\n",
       "    }\n",
       "\n",
       "    .dataframe tbody tr th {\n",
       "        vertical-align: top;\n",
       "    }\n",
       "\n",
       "    .dataframe thead th {\n",
       "        text-align: right;\n",
       "    }\n",
       "</style>\n",
       "<table border=\"1\" class=\"dataframe\">\n",
       "  <thead>\n",
       "    <tr style=\"text-align: right;\">\n",
       "      <th></th>\n",
       "      <th>Length_Employed</th>\n",
       "      <th>Loan_ID</th>\n",
       "      <th>Loan_Amount_Requested</th>\n",
       "      <th>Home_Owner</th>\n",
       "      <th>Annual_Income</th>\n",
       "      <th>Income_Verified</th>\n",
       "      <th>Purpose_Of_Loan</th>\n",
       "      <th>Debt_To_Income</th>\n",
       "      <th>Inquiries_Last_6Mo</th>\n",
       "      <th>Months_Since_Deliquency</th>\n",
       "      <th>Number_Open_Accounts</th>\n",
       "      <th>Total_Accounts</th>\n",
       "      <th>Gender</th>\n",
       "    </tr>\n",
       "  </thead>\n",
       "  <tbody>\n",
       "    <tr>\n",
       "      <th>0</th>\n",
       "      <td>10.0</td>\n",
       "      <td>10164310</td>\n",
       "      <td>27,500</td>\n",
       "      <td>Mortgage</td>\n",
       "      <td>129000.0</td>\n",
       "      <td>VERIFIED - income</td>\n",
       "      <td>debt_consolidation</td>\n",
       "      <td>12.87</td>\n",
       "      <td>0</td>\n",
       "      <td>68.0</td>\n",
       "      <td>10</td>\n",
       "      <td>37</td>\n",
       "      <td>Male</td>\n",
       "    </tr>\n",
       "    <tr>\n",
       "      <th>1</th>\n",
       "      <td>10.0</td>\n",
       "      <td>10164311</td>\n",
       "      <td>26,000</td>\n",
       "      <td>Own</td>\n",
       "      <td>110000.0</td>\n",
       "      <td>not verified</td>\n",
       "      <td>credit_card</td>\n",
       "      <td>11.37</td>\n",
       "      <td>0</td>\n",
       "      <td>31.0</td>\n",
       "      <td>6</td>\n",
       "      <td>23</td>\n",
       "      <td>Male</td>\n",
       "    </tr>\n",
       "    <tr>\n",
       "      <th>2</th>\n",
       "      <td>0.8</td>\n",
       "      <td>10164312</td>\n",
       "      <td>6,075</td>\n",
       "      <td>Rent</td>\n",
       "      <td>75000.0</td>\n",
       "      <td>VERIFIED - income</td>\n",
       "      <td>debt_consolidation</td>\n",
       "      <td>6.83</td>\n",
       "      <td>2</td>\n",
       "      <td>31.0</td>\n",
       "      <td>5</td>\n",
       "      <td>20</td>\n",
       "      <td>Male</td>\n",
       "    </tr>\n",
       "    <tr>\n",
       "      <th>3</th>\n",
       "      <td>10.0</td>\n",
       "      <td>10164313</td>\n",
       "      <td>12,000</td>\n",
       "      <td>Mortgage</td>\n",
       "      <td>73000.0</td>\n",
       "      <td>VERIFIED - income source</td>\n",
       "      <td>debt_consolidation</td>\n",
       "      <td>7.76</td>\n",
       "      <td>0</td>\n",
       "      <td>31.0</td>\n",
       "      <td>6</td>\n",
       "      <td>8</td>\n",
       "      <td>Male</td>\n",
       "    </tr>\n",
       "    <tr>\n",
       "      <th>4</th>\n",
       "      <td>0.8</td>\n",
       "      <td>10164314</td>\n",
       "      <td>35,000</td>\n",
       "      <td>Mortgage</td>\n",
       "      <td>156000.0</td>\n",
       "      <td>not verified</td>\n",
       "      <td>debt_consolidation</td>\n",
       "      <td>9.62</td>\n",
       "      <td>0</td>\n",
       "      <td>26.0</td>\n",
       "      <td>9</td>\n",
       "      <td>21</td>\n",
       "      <td>Male</td>\n",
       "    </tr>\n",
       "  </tbody>\n",
       "</table>\n",
       "</div>"
      ],
      "text/plain": [
       "   Length_Employed   Loan_ID Loan_Amount_Requested Home_Owner  Annual_Income  \\\n",
       "0             10.0  10164310                27,500   Mortgage       129000.0   \n",
       "1             10.0  10164311                26,000        Own       110000.0   \n",
       "2              0.8  10164312                 6,075       Rent        75000.0   \n",
       "3             10.0  10164313                12,000   Mortgage        73000.0   \n",
       "4              0.8  10164314                35,000   Mortgage       156000.0   \n",
       "\n",
       "            Income_Verified     Purpose_Of_Loan  Debt_To_Income  \\\n",
       "0         VERIFIED - income  debt_consolidation           12.87   \n",
       "1              not verified         credit_card           11.37   \n",
       "2         VERIFIED - income  debt_consolidation            6.83   \n",
       "3  VERIFIED - income source  debt_consolidation            7.76   \n",
       "4              not verified  debt_consolidation            9.62   \n",
       "\n",
       "   Inquiries_Last_6Mo  Months_Since_Deliquency  Number_Open_Accounts  \\\n",
       "0                   0                     68.0                    10   \n",
       "1                   0                     31.0                     6   \n",
       "2                   2                     31.0                     5   \n",
       "3                   0                     31.0                     6   \n",
       "4                   0                     26.0                     9   \n",
       "\n",
       "   Total_Accounts Gender  \n",
       "0              37   Male  \n",
       "1              23   Male  \n",
       "2              20   Male  \n",
       "3               8   Male  \n",
       "4              21   Male  "
      ]
     },
     "execution_count": 115,
     "metadata": {},
     "output_type": "execute_result"
    }
   ],
   "source": [
    "test.head()"
   ]
  },
  {
   "cell_type": "code",
   "execution_count": 116,
   "metadata": {},
   "outputs": [],
   "source": [
    "test[\"Loan_Amount_Requested\"] = test[\"Loan_Amount_Requested\"].str.replace(\",\",\"\").astype(float)"
   ]
  },
  {
   "cell_type": "code",
   "execution_count": 117,
   "metadata": {},
   "outputs": [],
   "source": [
    "test=pd.get_dummies(test)"
   ]
  },
  {
   "cell_type": "code",
   "execution_count": 118,
   "metadata": {},
   "outputs": [
    {
     "data": {
      "text/plain": [
       "Index(['Length_Employed', 'Loan_ID', 'Loan_Amount_Requested', 'Annual_Income',\n",
       "       'Debt_To_Income', 'Inquiries_Last_6Mo', 'Months_Since_Deliquency',\n",
       "       'Number_Open_Accounts', 'Total_Accounts', 'Home_Owner_Mortgage',\n",
       "       'Home_Owner_None', 'Home_Owner_Other', 'Home_Owner_Own',\n",
       "       'Home_Owner_Rent', 'Income_Verified_VERIFIED - income',\n",
       "       'Income_Verified_VERIFIED - income source',\n",
       "       'Income_Verified_not verified', 'Purpose_Of_Loan_car',\n",
       "       'Purpose_Of_Loan_credit_card', 'Purpose_Of_Loan_debt_consolidation',\n",
       "       'Purpose_Of_Loan_educational', 'Purpose_Of_Loan_home_improvement',\n",
       "       'Purpose_Of_Loan_house', 'Purpose_Of_Loan_major_purchase',\n",
       "       'Purpose_Of_Loan_medical', 'Purpose_Of_Loan_moving',\n",
       "       'Purpose_Of_Loan_other', 'Purpose_Of_Loan_renewable_energy',\n",
       "       'Purpose_Of_Loan_small_business', 'Purpose_Of_Loan_vacation',\n",
       "       'Purpose_Of_Loan_wedding', 'Gender_Female', 'Gender_Male'],\n",
       "      dtype='object')"
      ]
     },
     "execution_count": 118,
     "metadata": {},
     "output_type": "execute_result"
    }
   ],
   "source": [
    "test.columns"
   ]
  },
  {
   "cell_type": "code",
   "execution_count": 119,
   "metadata": {},
   "outputs": [],
   "source": [
    "result= test.copy()"
   ]
  },
  {
   "cell_type": "code",
   "execution_count": 120,
   "metadata": {},
   "outputs": [],
   "source": [
    "result.drop(['Loan_ID'],axis=1,inplace=True)"
   ]
  },
  {
   "cell_type": "code",
   "execution_count": 121,
   "metadata": {},
   "outputs": [
    {
     "data": {
      "text/html": [
       "<div>\n",
       "<style scoped>\n",
       "    .dataframe tbody tr th:only-of-type {\n",
       "        vertical-align: middle;\n",
       "    }\n",
       "\n",
       "    .dataframe tbody tr th {\n",
       "        vertical-align: top;\n",
       "    }\n",
       "\n",
       "    .dataframe thead th {\n",
       "        text-align: right;\n",
       "    }\n",
       "</style>\n",
       "<table border=\"1\" class=\"dataframe\">\n",
       "  <thead>\n",
       "    <tr style=\"text-align: right;\">\n",
       "      <th></th>\n",
       "      <th>Length_Employed</th>\n",
       "      <th>Loan_Amount_Requested</th>\n",
       "      <th>Annual_Income</th>\n",
       "      <th>Debt_To_Income</th>\n",
       "      <th>Inquiries_Last_6Mo</th>\n",
       "      <th>Months_Since_Deliquency</th>\n",
       "      <th>Number_Open_Accounts</th>\n",
       "      <th>Total_Accounts</th>\n",
       "      <th>Home_Owner_Mortgage</th>\n",
       "      <th>Home_Owner_None</th>\n",
       "      <th>...</th>\n",
       "      <th>Purpose_Of_Loan_major_purchase</th>\n",
       "      <th>Purpose_Of_Loan_medical</th>\n",
       "      <th>Purpose_Of_Loan_moving</th>\n",
       "      <th>Purpose_Of_Loan_other</th>\n",
       "      <th>Purpose_Of_Loan_renewable_energy</th>\n",
       "      <th>Purpose_Of_Loan_small_business</th>\n",
       "      <th>Purpose_Of_Loan_vacation</th>\n",
       "      <th>Purpose_Of_Loan_wedding</th>\n",
       "      <th>Gender_Female</th>\n",
       "      <th>Gender_Male</th>\n",
       "    </tr>\n",
       "  </thead>\n",
       "  <tbody>\n",
       "    <tr>\n",
       "      <th>0</th>\n",
       "      <td>10.0</td>\n",
       "      <td>27500.0</td>\n",
       "      <td>129000.0</td>\n",
       "      <td>12.87</td>\n",
       "      <td>0</td>\n",
       "      <td>68.0</td>\n",
       "      <td>10</td>\n",
       "      <td>37</td>\n",
       "      <td>1</td>\n",
       "      <td>0</td>\n",
       "      <td>...</td>\n",
       "      <td>0</td>\n",
       "      <td>0</td>\n",
       "      <td>0</td>\n",
       "      <td>0</td>\n",
       "      <td>0</td>\n",
       "      <td>0</td>\n",
       "      <td>0</td>\n",
       "      <td>0</td>\n",
       "      <td>0</td>\n",
       "      <td>1</td>\n",
       "    </tr>\n",
       "    <tr>\n",
       "      <th>1</th>\n",
       "      <td>10.0</td>\n",
       "      <td>26000.0</td>\n",
       "      <td>110000.0</td>\n",
       "      <td>11.37</td>\n",
       "      <td>0</td>\n",
       "      <td>31.0</td>\n",
       "      <td>6</td>\n",
       "      <td>23</td>\n",
       "      <td>0</td>\n",
       "      <td>0</td>\n",
       "      <td>...</td>\n",
       "      <td>0</td>\n",
       "      <td>0</td>\n",
       "      <td>0</td>\n",
       "      <td>0</td>\n",
       "      <td>0</td>\n",
       "      <td>0</td>\n",
       "      <td>0</td>\n",
       "      <td>0</td>\n",
       "      <td>0</td>\n",
       "      <td>1</td>\n",
       "    </tr>\n",
       "    <tr>\n",
       "      <th>2</th>\n",
       "      <td>0.8</td>\n",
       "      <td>6075.0</td>\n",
       "      <td>75000.0</td>\n",
       "      <td>6.83</td>\n",
       "      <td>2</td>\n",
       "      <td>31.0</td>\n",
       "      <td>5</td>\n",
       "      <td>20</td>\n",
       "      <td>0</td>\n",
       "      <td>0</td>\n",
       "      <td>...</td>\n",
       "      <td>0</td>\n",
       "      <td>0</td>\n",
       "      <td>0</td>\n",
       "      <td>0</td>\n",
       "      <td>0</td>\n",
       "      <td>0</td>\n",
       "      <td>0</td>\n",
       "      <td>0</td>\n",
       "      <td>0</td>\n",
       "      <td>1</td>\n",
       "    </tr>\n",
       "    <tr>\n",
       "      <th>3</th>\n",
       "      <td>10.0</td>\n",
       "      <td>12000.0</td>\n",
       "      <td>73000.0</td>\n",
       "      <td>7.76</td>\n",
       "      <td>0</td>\n",
       "      <td>31.0</td>\n",
       "      <td>6</td>\n",
       "      <td>8</td>\n",
       "      <td>1</td>\n",
       "      <td>0</td>\n",
       "      <td>...</td>\n",
       "      <td>0</td>\n",
       "      <td>0</td>\n",
       "      <td>0</td>\n",
       "      <td>0</td>\n",
       "      <td>0</td>\n",
       "      <td>0</td>\n",
       "      <td>0</td>\n",
       "      <td>0</td>\n",
       "      <td>0</td>\n",
       "      <td>1</td>\n",
       "    </tr>\n",
       "    <tr>\n",
       "      <th>4</th>\n",
       "      <td>0.8</td>\n",
       "      <td>35000.0</td>\n",
       "      <td>156000.0</td>\n",
       "      <td>9.62</td>\n",
       "      <td>0</td>\n",
       "      <td>26.0</td>\n",
       "      <td>9</td>\n",
       "      <td>21</td>\n",
       "      <td>1</td>\n",
       "      <td>0</td>\n",
       "      <td>...</td>\n",
       "      <td>0</td>\n",
       "      <td>0</td>\n",
       "      <td>0</td>\n",
       "      <td>0</td>\n",
       "      <td>0</td>\n",
       "      <td>0</td>\n",
       "      <td>0</td>\n",
       "      <td>0</td>\n",
       "      <td>0</td>\n",
       "      <td>1</td>\n",
       "    </tr>\n",
       "  </tbody>\n",
       "</table>\n",
       "<p>5 rows × 32 columns</p>\n",
       "</div>"
      ],
      "text/plain": [
       "   Length_Employed  Loan_Amount_Requested  Annual_Income  Debt_To_Income  \\\n",
       "0             10.0                27500.0       129000.0           12.87   \n",
       "1             10.0                26000.0       110000.0           11.37   \n",
       "2              0.8                 6075.0        75000.0            6.83   \n",
       "3             10.0                12000.0        73000.0            7.76   \n",
       "4              0.8                35000.0       156000.0            9.62   \n",
       "\n",
       "   Inquiries_Last_6Mo  Months_Since_Deliquency  Number_Open_Accounts  \\\n",
       "0                   0                     68.0                    10   \n",
       "1                   0                     31.0                     6   \n",
       "2                   2                     31.0                     5   \n",
       "3                   0                     31.0                     6   \n",
       "4                   0                     26.0                     9   \n",
       "\n",
       "   Total_Accounts  Home_Owner_Mortgage  Home_Owner_None  ...  \\\n",
       "0              37                    1                0  ...   \n",
       "1              23                    0                0  ...   \n",
       "2              20                    0                0  ...   \n",
       "3               8                    1                0  ...   \n",
       "4              21                    1                0  ...   \n",
       "\n",
       "   Purpose_Of_Loan_major_purchase  Purpose_Of_Loan_medical  \\\n",
       "0                               0                        0   \n",
       "1                               0                        0   \n",
       "2                               0                        0   \n",
       "3                               0                        0   \n",
       "4                               0                        0   \n",
       "\n",
       "   Purpose_Of_Loan_moving  Purpose_Of_Loan_other  \\\n",
       "0                       0                      0   \n",
       "1                       0                      0   \n",
       "2                       0                      0   \n",
       "3                       0                      0   \n",
       "4                       0                      0   \n",
       "\n",
       "   Purpose_Of_Loan_renewable_energy  Purpose_Of_Loan_small_business  \\\n",
       "0                                 0                               0   \n",
       "1                                 0                               0   \n",
       "2                                 0                               0   \n",
       "3                                 0                               0   \n",
       "4                                 0                               0   \n",
       "\n",
       "   Purpose_Of_Loan_vacation  Purpose_Of_Loan_wedding  Gender_Female  \\\n",
       "0                         0                        0              0   \n",
       "1                         0                        0              0   \n",
       "2                         0                        0              0   \n",
       "3                         0                        0              0   \n",
       "4                         0                        0              0   \n",
       "\n",
       "   Gender_Male  \n",
       "0            1  \n",
       "1            1  \n",
       "2            1  \n",
       "3            1  \n",
       "4            1  \n",
       "\n",
       "[5 rows x 32 columns]"
      ]
     },
     "execution_count": 121,
     "metadata": {},
     "output_type": "execute_result"
    }
   ],
   "source": [
    "result.head()"
   ]
  },
  {
   "cell_type": "code",
   "execution_count": 122,
   "metadata": {},
   "outputs": [],
   "source": [
    "y_predResult = RF_CLF.predict(result)"
   ]
  },
  {
   "cell_type": "code",
   "execution_count": 123,
   "metadata": {},
   "outputs": [
    {
     "data": {
      "text/plain": [
       "numpy.ndarray"
      ]
     },
     "execution_count": 123,
     "metadata": {},
     "output_type": "execute_result"
    }
   ],
   "source": [
    "type(y_predResult)"
   ]
  },
  {
   "cell_type": "code",
   "execution_count": 124,
   "metadata": {},
   "outputs": [],
   "source": [
    "y_predResult=pd.Series(y_predResult, name='Interest_Rate')"
   ]
  },
  {
   "cell_type": "code",
   "execution_count": 125,
   "metadata": {},
   "outputs": [
    {
     "data": {
      "text/plain": [
       "0    1\n",
       "1    2\n",
       "2    2\n",
       "3    2\n",
       "4    3\n",
       "Name: Interest_Rate, dtype: int64"
      ]
     },
     "execution_count": 125,
     "metadata": {},
     "output_type": "execute_result"
    }
   ],
   "source": [
    "y_predResult.head()"
   ]
  },
  {
   "cell_type": "code",
   "execution_count": 126,
   "metadata": {},
   "outputs": [],
   "source": [
    "y_predResult = pd.concat([test['Loan_ID'],y_predResult],axis=1)"
   ]
  },
  {
   "cell_type": "code",
   "execution_count": 127,
   "metadata": {},
   "outputs": [
    {
     "data": {
      "text/html": [
       "<div>\n",
       "<style scoped>\n",
       "    .dataframe tbody tr th:only-of-type {\n",
       "        vertical-align: middle;\n",
       "    }\n",
       "\n",
       "    .dataframe tbody tr th {\n",
       "        vertical-align: top;\n",
       "    }\n",
       "\n",
       "    .dataframe thead th {\n",
       "        text-align: right;\n",
       "    }\n",
       "</style>\n",
       "<table border=\"1\" class=\"dataframe\">\n",
       "  <thead>\n",
       "    <tr style=\"text-align: right;\">\n",
       "      <th></th>\n",
       "      <th>Loan_ID</th>\n",
       "      <th>Interest_Rate</th>\n",
       "    </tr>\n",
       "  </thead>\n",
       "  <tbody>\n",
       "    <tr>\n",
       "      <th>0</th>\n",
       "      <td>10164310</td>\n",
       "      <td>1</td>\n",
       "    </tr>\n",
       "    <tr>\n",
       "      <th>1</th>\n",
       "      <td>10164311</td>\n",
       "      <td>2</td>\n",
       "    </tr>\n",
       "    <tr>\n",
       "      <th>2</th>\n",
       "      <td>10164312</td>\n",
       "      <td>2</td>\n",
       "    </tr>\n",
       "    <tr>\n",
       "      <th>3</th>\n",
       "      <td>10164313</td>\n",
       "      <td>2</td>\n",
       "    </tr>\n",
       "    <tr>\n",
       "      <th>4</th>\n",
       "      <td>10164314</td>\n",
       "      <td>3</td>\n",
       "    </tr>\n",
       "  </tbody>\n",
       "</table>\n",
       "</div>"
      ],
      "text/plain": [
       "    Loan_ID  Interest_Rate\n",
       "0  10164310              1\n",
       "1  10164311              2\n",
       "2  10164312              2\n",
       "3  10164313              2\n",
       "4  10164314              3"
      ]
     },
     "execution_count": 127,
     "metadata": {},
     "output_type": "execute_result"
    }
   ],
   "source": [
    "y_predResult.head()"
   ]
  },
  {
   "cell_type": "code",
   "execution_count": 130,
   "metadata": {},
   "outputs": [],
   "source": [
    "y_predResult.to_csv('LoanInterestRatePrediction.xlsx',index=False)"
   ]
  },
  {
   "cell_type": "code",
   "execution_count": 129,
   "metadata": {},
   "outputs": [],
   "source": [
    "result.to_csv('ResultLIRP.xlsx',index=False)"
   ]
  },
  {
   "cell_type": "code",
   "execution_count": null,
   "metadata": {},
   "outputs": [],
   "source": []
  }
 ],
 "metadata": {
  "kernelspec": {
   "display_name": "Python 3",
   "language": "python",
   "name": "python3"
  },
  "language_info": {
   "codemirror_mode": {
    "name": "ipython",
    "version": 3
   },
   "file_extension": ".py",
   "mimetype": "text/x-python",
   "name": "python",
   "nbconvert_exporter": "python",
   "pygments_lexer": "ipython3",
   "version": "3.8.5"
  }
 },
 "nbformat": 4,
 "nbformat_minor": 4
}
